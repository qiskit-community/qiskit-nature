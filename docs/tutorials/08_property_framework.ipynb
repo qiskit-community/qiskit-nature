{
 "cells": [
  {
   "cell_type": "markdown",
   "id": "656ed516",
   "metadata": {},
   "source": [
    "# The Property Framework"
   ]
  },
  {
   "cell_type": "code",
   "execution_count": 1,
   "id": "1ac4c84b",
   "metadata": {},
   "outputs": [],
   "source": [
    "import numpy as np"
   ]
  },
  {
   "cell_type": "markdown",
   "id": "ed023bb1",
   "metadata": {},
   "source": [
    "Since version 0.2.0 Qiskit Nature includes the _Property_ framework. This framework replaces the legacy driver return types like `QMolecule` and `WatsonHamiltonian` with a more modular and extensible approach."
   ]
  },
  {
   "cell_type": "markdown",
   "id": "022da759",
   "metadata": {},
   "source": [
    "In this tutorial, we will walk through the framework, explain its most important components and show you, how you can extend it with a custom _property_ yourself."
   ]
  },
  {
   "cell_type": "markdown",
   "id": "3e95594d",
   "metadata": {},
   "source": [
    "## What is a `Property`?"
   ]
  },
  {
   "cell_type": "markdown",
   "id": "d04769fd",
   "metadata": {},
   "source": [
    "At its core, a `Property` is an object complementing some raw data with functions that allow you to transform/manipulate/interpret this raw data. This \"definition\" is kept rather abstract on purpose, but what it means is essentially the following.\n",
    "A `Property`:\n",
    "* represents a physical observable (that's the raw data)\n",
    "* can be expressed as an operator\n",
    "* can be evaluated with a wavefunction\n",
    "* provides an `interpret` method which gives meaning to the eigenvalue of the evaluated qubit operator"
   ]
  },
  {
   "cell_type": "code",
   "execution_count": 2,
   "id": "77fb4108",
   "metadata": {},
   "outputs": [],
   "source": [
    "from qiskit_nature.properties import Property, GroupedProperty"
   ]
  },
  {
   "cell_type": "markdown",
   "id": "8da122b1",
   "metadata": {},
   "source": [
    "The `qiskit_nature.properties` module provides two classes:\n",
    "1. `Property`: this is the basic interface. It requires only a `name` and an `interpret` method to be implemented.\n",
    "2. `GroupedProperty`: this class is an implementation of the [Composite pattern](https://en.wikipedia.org/wiki/Composite_pattern) which allows you to _group_ multiple properties into one.\n",
    "> Grouped properties must have unique `name` attributes!"
   ]
  },
  {
   "cell_type": "markdown",
   "id": "d3c2c15a",
   "metadata": {},
   "source": [
    "## Second Quantization Properties"
   ]
  },
  {
   "cell_type": "markdown",
   "id": "08c67dd6",
   "metadata": {},
   "source": [
    "At the time of writing, Qiskit Nature ships with a single variant of properties: the `SecondQuantizedProperty` objects.\n",
    "This sub-type adds one additional requirement because any `SecondQuantizedProperty`\n",
    "* **must** implement a `second_q_ops` method which constructs a (list of) `SecondQuantizedOp`s."
   ]
  },
  {
   "cell_type": "markdown",
   "id": "b30111ec",
   "metadata": {},
   "source": [
    "The `qiskit_nature.properties.second_quantization` module is further divided into `electronic` and `vibrational` modules (similar to other modules of Qiskit Nature).\n",
    "Let us dive into the `electronic` sub-module first."
   ]
  },
  {
   "cell_type": "markdown",
   "id": "2aa8e7b3",
   "metadata": {},
   "source": [
    "### Electronic Second Quantization Properties"
   ]
  },
  {
   "cell_type": "markdown",
   "id": "39393b42",
   "metadata": {},
   "source": [
    "Out-of-the-box Qiskit Nature ships the following electronic properties:"
   ]
  },
  {
   "cell_type": "code",
   "execution_count": 3,
   "id": "11c080c5",
   "metadata": {},
   "outputs": [
    {
     "name": "stderr",
     "output_type": "stream",
     "text": [
      "/home/oss/Files/Qiskit/.direnv/python-3.9.6/lib/python3.9/site-packages/pyscf/lib/misc.py:46: H5pyDeprecationWarning: Using default_file_mode other than 'r' is deprecated. Pass the mode to h5py.File() instead.\n",
      "  h5py.get_config().default_file_mode = 'a'\n"
     ]
    }
   ],
   "source": [
    "from qiskit_nature.properties.second_quantization.electronic import (\n",
    "    ElectronicEnergy,\n",
    "    ElectronicDipoleMoment,\n",
    "    ParticleNumber,\n",
    "    AngularMomentum,\n",
    "    Magnetization,\n",
    ")"
   ]
  },
  {
   "cell_type": "markdown",
   "id": "57ee71e0",
   "metadata": {},
   "source": [
    "`ElectronicEnergy` is arguably the most important property because it contains the _Hamiltonian_ representing the electronic structure problem whose eigenvalues we are interested in when solving an `ElectronicStructureProblem`.\n",
    "The way in which it stores this Hamiltonian is, just like the rest of the framework, highly modular. The initializer of the `ElectronicEnergy` has a single required argument, `electronic_integrals`, which is a `List[ElectronicIntegrals]`. Now you may ask: \"what are those?\", but bear with me.\n"
   ]
  },
  {
   "cell_type": "markdown",
   "id": "87bf5b74",
   "metadata": {},
   "source": [
    "#### `ElectronicIntegrals`"
   ]
  },
  {
   "cell_type": "code",
   "execution_count": 4,
   "id": "3807ffbb",
   "metadata": {},
   "outputs": [],
   "source": [
    "from qiskit_nature.properties.second_quantization.electronic.integrals import (\n",
    "    ElectronicIntegrals,\n",
    "    OneBodyElectronicIntegrals,\n",
    "    TwoBodyElectronicIntegrals,\n",
    "    IntegralProperty,\n",
    ")"
   ]
  },
  {
   "cell_type": "markdown",
   "id": "7e2b1630",
   "metadata": {},
   "source": [
    "The `ElectronicIntegrals` are a container class for _n-body_ interactions in a given basis, which can be any of the following:"
   ]
  },
  {
   "cell_type": "code",
   "execution_count": 5,
   "id": "1e969daa",
   "metadata": {},
   "outputs": [],
   "source": [
    "from qiskit_nature.properties.second_quantization.electronic.bases import ElectronicBasis"
   ]
  },
  {
   "cell_type": "code",
   "execution_count": 6,
   "id": "b3ead61a",
   "metadata": {},
   "outputs": [
    {
     "data": {
      "text/plain": [
       "[<ElectronicBasis.AO: 'atomic'>,\n",
       " <ElectronicBasis.MO: 'molecular'>,\n",
       " <ElectronicBasis.SO: 'spin'>]"
      ]
     },
     "execution_count": 6,
     "metadata": {},
     "output_type": "execute_result"
    }
   ],
   "source": [
    "list(ElectronicBasis)"
   ]
  },
  {
   "cell_type": "markdown",
   "id": "37aae51a",
   "metadata": {},
   "source": [
    "Let us take the `OneBodyElectronicIntegrals` as an example. As the name suggests, this container is for 1-body interaction integrals. You can construct an instance of it like so:"
   ]
  },
  {
   "cell_type": "code",
   "execution_count": 7,
   "id": "55fc757d",
   "metadata": {},
   "outputs": [
    {
     "name": "stdout",
     "output_type": "stream",
     "text": [
      "(MO) 1-Body Terms:\n",
      "\tAlpha\n",
      "\t[0, 0] = 1.0\n",
      "\t[1, 1] = 1.0\n",
      "\tBeta\n",
      "\t[0, 0] = 2.0\n",
      "\t[1, 1] = 2.0\n"
     ]
    }
   ],
   "source": [
    "one_body_ints = OneBodyElectronicIntegrals(\n",
    "    ElectronicBasis.MO,\n",
    "    (\n",
    "        np.eye(2),\n",
    "        2 * np.eye(2),\n",
    "    ),\n",
    ")\n",
    "print(one_body_ints)"
   ]
  },
  {
   "cell_type": "markdown",
   "id": "c7c1b39e",
   "metadata": {},
   "source": [
    "The second argument requires a little further explanation:\n",
    "\n",
    "1. In the case of the `AO` or `MO` basis, this argument **must** be a pair of numpy arrays, where the first and second one are the alpha- and beta-spin integrals, respectively.\n",
    "> The second argument may be `None`, in which case the alpha-spin integrals are used instead.\n",
    "\n",
    "2. In the case of the `SO` basis, this argument **must** be a single numpy array, storing the alpha- and beta-spin integrals in blocked order, i.e. like so:\n",
    "```python\n",
    "spin_basis = np.block([[alpha_spin, zeros], [zeros, beta_spin]])\n",
    "```"
   ]
  },
  {
   "cell_type": "markdown",
   "id": "1112025f",
   "metadata": {},
   "source": [
    "The `TwoBodyElectronicIntegrals` work pretty much the same except that they contain all possible spin-combinations in the tuple of numpy arrays. For example:"
   ]
  },
  {
   "cell_type": "code",
   "execution_count": 8,
   "id": "795e2fa2",
   "metadata": {
    "scrolled": true
   },
   "outputs": [
    {
     "name": "stdout",
     "output_type": "stream",
     "text": [
      "(MO) 2-Body Terms:\n",
      "\tAlpha-Alpha\n",
      "\t[0, 0, 0, 0] = 1\n",
      "\t[0, 0, 0, 1] = 2\n",
      "\t[0, 0, 1, 0] = 3\n",
      "\t[0, 0, 1, 1] = 4\n",
      "\t[0, 1, 0, 0] = 5\n",
      "\t[0, 1, 0, 1] = 6\n",
      "\t[0, 1, 1, 0] = 7\n",
      "\t[0, 1, 1, 1] = 8\n",
      "\t[1, 0, 0, 0] = 9\n",
      "\t[1, 0, 0, 1] = 10\n",
      "\t[1, 0, 1, 0] = 11\n",
      "\t[1, 0, 1, 1] = 12\n",
      "\t[1, 1, 0, 0] = 13\n",
      "\t[1, 1, 0, 1] = 14\n",
      "\t[1, 1, 1, 0] = 15\n",
      "\t[1, 1, 1, 1] = 16\n",
      "\tBeta-Alpha\n",
      "\t[0, 0, 0, 0] = 16\n",
      "\t[0, 0, 0, 1] = 17\n",
      "\t[0, 0, 1, 0] = 18\n",
      "\t[0, 0, 1, 1] = 19\n",
      "\t[0, 1, 0, 0] = 20\n",
      "\t[0, 1, 0, 1] = 21\n",
      "\t[0, 1, 1, 0] = 22\n",
      "\t[0, 1, 1, 1] = 23\n",
      "\t[1, 0, 0, 0] = 24\n",
      "\t[1, 0, 0, 1] = 25\n",
      "\t[1, 0, 1, 0] = 26\n",
      "\t[1, 0, 1, 1] = 27\n",
      "\t[1, 1, 0, 0] = 28\n",
      "\t[1, 1, 0, 1] = 29\n",
      "\t[1, 1, 1, 0] = 30\n",
      "\t[1, 1, 1, 1] = 31\n",
      "\tBeta-Beta\n",
      "\t[0, 0, 0, 0] = -16\n",
      "\t[0, 0, 0, 1] = -15\n",
      "\t[0, 0, 1, 0] = -14\n",
      "\t[0, 0, 1, 1] = -13\n",
      "\t[0, 1, 0, 0] = -12\n",
      "\t[0, 1, 0, 1] = -11\n",
      "\t[0, 1, 1, 0] = -10\n",
      "\t[0, 1, 1, 1] = -9\n",
      "\t[1, 0, 0, 0] = -8\n",
      "\t[1, 0, 0, 1] = -7\n",
      "\t[1, 0, 1, 0] = -6\n",
      "\t[1, 0, 1, 1] = -5\n",
      "\t[1, 1, 0, 0] = -4\n",
      "\t[1, 1, 0, 1] = -3\n",
      "\t[1, 1, 1, 0] = -2\n",
      "\t[1, 1, 1, 1] = -1\n",
      "\tAlpha-Beta\n",
      "\t[0, 0, 0, 0] = 16\n",
      "\t[0, 0, 0, 1] = 24\n",
      "\t[0, 0, 1, 0] = 20\n",
      "\t[0, 0, 1, 1] = 28\n",
      "\t[0, 1, 0, 0] = 18\n",
      "\t[0, 1, 0, 1] = 26\n",
      "\t[0, 1, 1, 0] = 22\n",
      "\t[0, 1, 1, 1] = 30\n",
      "\t[1, 0, 0, 0] = 17\n",
      "\t[1, 0, 0, 1] = 25\n",
      "\t[1, 0, 1, 0] = 21\n",
      "\t[1, 0, 1, 1] = 29\n",
      "\t[1, 1, 0, 0] = 19\n",
      "\t[1, 1, 0, 1] = 27\n",
      "\t[1, 1, 1, 0] = 23\n",
      "\t[1, 1, 1, 1] = 31\n"
     ]
    }
   ],
   "source": [
    "two_body_ints = TwoBodyElectronicIntegrals(\n",
    "    ElectronicBasis.MO,\n",
    "    (\n",
    "        np.arange(1, 17).reshape((2, 2, 2, 2)),\n",
    "        np.arange(16, 32).reshape((2, 2, 2, 2)),\n",
    "        np.arange(-16, 0).reshape((2, 2, 2, 2)),\n",
    "        None,\n",
    "    ),\n",
    ")\n",
    "print(two_body_ints)"
   ]
  },
  {
   "cell_type": "markdown",
   "id": "8e05c29e",
   "metadata": {},
   "source": [
    "We should take note of a few observations:\n",
    "* the numpy arrays shall be ordered as `(\"alpha-alpha\", \"beta-alpha\", \"beta-beta\", \"alpha-beta\")`\n",
    "* the `alpha-alpha` matrix may **not** be `None`\n",
    "* if the `alpha-beta` matrix is `None`, but `beta-alpha` is not, its transpose will be used (like above)\n",
    "* in any other case, matrices which are `None` will be filled with `alpha-alpha` matrix\n",
    "\n",
    "* in the `SO` basis case, a single numpy array must be specified. Refer to `TwoBodyElectronicIntegrals.to_spin()` for its exact formatting."
   ]
  },
  {
   "cell_type": "markdown",
   "id": "1775e606",
   "metadata": {},
   "source": [
    "#### `ElectronicEnergy`"
   ]
  },
  {
   "cell_type": "markdown",
   "id": "43cc5fce",
   "metadata": {},
   "source": [
    "Now we are ready to construct an `ElectronicEnergy` instance:"
   ]
  },
  {
   "cell_type": "code",
   "execution_count": 9,
   "id": "fbd8d110",
   "metadata": {
    "scrolled": true
   },
   "outputs": [
    {
     "name": "stdout",
     "output_type": "stream",
     "text": [
      "ElectronicEnergy\n",
      "\t(MO) 1-Body Terms:\n",
      "\t\tAlpha\n",
      "\t\t[0, 0] = 1.0\n",
      "\t\t[1, 1] = 1.0\n",
      "\t\tBeta\n",
      "\t\t[0, 0] = 2.0\n",
      "\t\t[1, 1] = 2.0\n",
      "\t(MO) 2-Body Terms:\n",
      "\t\tAlpha-Alpha\n",
      "\t\t[0, 0, 0, 0] = 1\n",
      "\t\t[0, 0, 0, 1] = 2\n",
      "\t\t[0, 0, 1, 0] = 3\n",
      "\t\t[0, 0, 1, 1] = 4\n",
      "\t\t[0, 1, 0, 0] = 5\n",
      "\t\t[0, 1, 0, 1] = 6\n",
      "\t\t[0, 1, 1, 0] = 7\n",
      "\t\t[0, 1, 1, 1] = 8\n",
      "\t\t[1, 0, 0, 0] = 9\n",
      "\t\t[1, 0, 0, 1] = 10\n",
      "\t\t[1, 0, 1, 0] = 11\n",
      "\t\t[1, 0, 1, 1] = 12\n",
      "\t\t[1, 1, 0, 0] = 13\n",
      "\t\t[1, 1, 0, 1] = 14\n",
      "\t\t[1, 1, 1, 0] = 15\n",
      "\t\t[1, 1, 1, 1] = 16\n",
      "\t\tBeta-Alpha\n",
      "\t\t[0, 0, 0, 0] = 16\n",
      "\t\t[0, 0, 0, 1] = 17\n",
      "\t\t[0, 0, 1, 0] = 18\n",
      "\t\t[0, 0, 1, 1] = 19\n",
      "\t\t[0, 1, 0, 0] = 20\n",
      "\t\t[0, 1, 0, 1] = 21\n",
      "\t\t[0, 1, 1, 0] = 22\n",
      "\t\t[0, 1, 1, 1] = 23\n",
      "\t\t[1, 0, 0, 0] = 24\n",
      "\t\t[1, 0, 0, 1] = 25\n",
      "\t\t[1, 0, 1, 0] = 26\n",
      "\t\t[1, 0, 1, 1] = 27\n",
      "\t\t[1, 1, 0, 0] = 28\n",
      "\t\t[1, 1, 0, 1] = 29\n",
      "\t\t[1, 1, 1, 0] = 30\n",
      "\t\t[1, 1, 1, 1] = 31\n",
      "\t\tBeta-Beta\n",
      "\t\t[0, 0, 0, 0] = -16\n",
      "\t\t[0, 0, 0, 1] = -15\n",
      "\t\t[0, 0, 1, 0] = -14\n",
      "\t\t[0, 0, 1, 1] = -13\n",
      "\t\t[0, 1, 0, 0] = -12\n",
      "\t\t[0, 1, 0, 1] = -11\n",
      "\t\t[0, 1, 1, 0] = -10\n",
      "\t\t[0, 1, 1, 1] = -9\n",
      "\t\t[1, 0, 0, 0] = -8\n",
      "\t\t[1, 0, 0, 1] = -7\n",
      "\t\t[1, 0, 1, 0] = -6\n",
      "\t\t[1, 0, 1, 1] = -5\n",
      "\t\t[1, 1, 0, 0] = -4\n",
      "\t\t[1, 1, 0, 1] = -3\n",
      "\t\t[1, 1, 1, 0] = -2\n",
      "\t\t[1, 1, 1, 1] = -1\n",
      "\t\tAlpha-Beta\n",
      "\t\t[0, 0, 0, 0] = 16\n",
      "\t\t[0, 0, 0, 1] = 24\n",
      "\t\t[0, 0, 1, 0] = 20\n",
      "\t\t[0, 0, 1, 1] = 28\n",
      "\t\t[0, 1, 0, 0] = 18\n",
      "\t\t[0, 1, 0, 1] = 26\n",
      "\t\t[0, 1, 1, 0] = 22\n",
      "\t\t[0, 1, 1, 1] = 30\n",
      "\t\t[1, 0, 0, 0] = 17\n",
      "\t\t[1, 0, 0, 1] = 25\n",
      "\t\t[1, 0, 1, 0] = 21\n",
      "\t\t[1, 0, 1, 1] = 29\n",
      "\t\t[1, 1, 0, 0] = 19\n",
      "\t\t[1, 1, 0, 1] = 27\n",
      "\t\t[1, 1, 1, 0] = 23\n",
      "\t\t[1, 1, 1, 1] = 31\n"
     ]
    }
   ],
   "source": [
    "electronic_energy = ElectronicEnergy(\n",
    "    [one_body_ints, two_body_ints],\n",
    ")\n",
    "print(electronic_energy)"
   ]
  },
  {
   "cell_type": "markdown",
   "id": "0701589d",
   "metadata": {},
   "source": [
    "This property can now be used to construct a `SecondQuantizedOp` (which can then be mapped to a `QubitOperator`):"
   ]
  },
  {
   "cell_type": "code",
   "execution_count": 10,
   "id": "80858cab",
   "metadata": {},
   "outputs": [
    {
     "name": "stdout",
     "output_type": "stream",
     "text": [
      "  +-+- * (22+0j)\n",
      "+ +--+ * (-26+0j)\n",
      "+ +-IN * (30+0j)\n",
      "+ +-NI * (18+0j)\n",
      "+ -++- * (-21+0j)\n",
      "+ -+-+ * (25+0j)\n",
      "+ -+IN * (-29+0j)\n",
      "+ -+NI * (-17+0j)\n",
      "+ IIIN * (2+0j)\n",
      "+ IINI * (2+0j)\n",
      "+ IN+- * (23+0j)\n",
      "+ IN-+ * (-27+0j)\n",
      "+ INII * (1+0j)\n",
      "+ ININ * (31+0j)\n",
      "+ INNI * (19+0j)\n",
      "+ NI+- * (20+0j)\n",
      "+ NI-+ * (-24+0j)\n",
      "+ NIII * (1+0j)\n",
      "+ NIIN * (28+0j)\n",
      "+ NINI * (16+0j)\n"
     ]
    }
   ],
   "source": [
    "hamiltonian = electronic_energy.second_q_ops()[0]  # here, output length is 1\n",
    "print(hamiltonian)"
   ]
  },
  {
   "cell_type": "markdown",
   "id": "357d2fdb",
   "metadata": {},
   "source": [
    "An additional benefit which we gain from the `Property` framework, is that the result interpretation of a computed eigenvalue can be handled by each property itself. This results in nice and logically consistent classes because the result gets interpreted in the same context where the raw data is available."
   ]
  },
  {
   "cell_type": "code",
   "execution_count": 11,
   "id": "d66678cd",
   "metadata": {},
   "outputs": [
    {
     "name": "stdout",
     "output_type": "stream",
     "text": [
      "=== GROUND STATE ENERGY ===\n",
      " \n",
      "* Electronic ground state energy (Hartree): -1\n",
      "  - computed part:      -1\n"
     ]
    }
   ],
   "source": [
    "from qiskit_nature.results import ElectronicStructureResult\n",
    "\n",
    "# some dummy result\n",
    "result = ElectronicStructureResult()\n",
    "result.eigenenergies = np.asarray([-1])\n",
    "result.computed_energies = np.asarray([-1])\n",
    "\n",
    "\n",
    "# now, let's interpret it\n",
    "electronic_energy.interpret(result)\n",
    "print(result)"
   ]
  },
  {
   "cell_type": "markdown",
   "id": "0f3cb9a1",
   "metadata": {},
   "source": [
    "While this particular example is not yet very impressive, wait until we use more properties at once."
   ]
  },
  {
   "cell_type": "markdown",
   "id": "da4f9669",
   "metadata": {},
   "source": [
    "#### `ParticleNumber`"
   ]
  },
  {
   "cell_type": "markdown",
   "id": "d2e2d67c",
   "metadata": {},
   "source": [
    "The `ParticleNumber` property also takes a special place among the builtin properties because it serves a dual purpose of:\n",
    "* storing the number of particles in the electronic system\n",
    "* providing the operators to evaluate the number of particles for a given eigensolution of the problem\n",
    "Therefore, this property is required if you want to use additional functionality like the `ActiveSpaceTransformer` or the `ElectronicStructureProblem.default_filter_criterion`."
   ]
  },
  {
   "cell_type": "code",
   "execution_count": 12,
   "id": "ef9902bb",
   "metadata": {},
   "outputs": [
    {
     "name": "stdout",
     "output_type": "stream",
     "text": [
      "ParticleNumber:\n",
      "\t4 SOs\n",
      "\t1 alpha electrons: [1. 0.]\n",
      "\t1 beta electrons: [1. 0.]\n"
     ]
    }
   ],
   "source": [
    "particle_number = ParticleNumber(\n",
    "    num_spin_orbitals = 4,\n",
    "    num_particles = (1, 1), \n",
    ")\n",
    "print(particle_number)"
   ]
  },
  {
   "cell_type": "markdown",
   "id": "db09179e",
   "metadata": {},
   "source": [
    "#### `GroupedProperty`"
   ]
  },
  {
   "cell_type": "markdown",
   "id": "3da94c12",
   "metadata": {},
   "source": [
    "Rather than iterating all of the other properties one by one, let us simply consider a group of properties as provided by any `ElectronicStructureDriver` from the `qiskit_nature.drivers.second_quantization` module."
   ]
  },
  {
   "cell_type": "code",
   "execution_count": 13,
   "id": "2bc19d52",
   "metadata": {},
   "outputs": [],
   "source": [
    "from qiskit_nature.drivers.second_quantization.pyscfd import PySCFDriver"
   ]
  },
  {
   "cell_type": "code",
   "execution_count": 14,
   "id": "bfbfd64a",
   "metadata": {},
   "outputs": [],
   "source": [
    "driver = PySCFDriver(atom=\"H 0 0 0; H 0 0 0.735\", basis=\"sto3g\")\n",
    "driver_result = driver.run()"
   ]
  },
  {
   "cell_type": "code",
   "execution_count": 15,
   "id": "5565cdc8",
   "metadata": {},
   "outputs": [
    {
     "name": "stdout",
     "output_type": "stream",
     "text": [
      "ElectronicStructureDriverResult:\n",
      "\tDriverMetadata:\n",
      "\t\tProgram: PYSCF\n",
      "\t\tVersion: 1.7.6\n",
      "\t\tConfig:\n",
      "\t\t\tatom=H 0 0 0; H 0 0 0.735\n",
      "\t\t\tunit=Angstrom\n",
      "\t\t\tcharge=0\n",
      "\t\t\tspin=0\n",
      "\t\t\tbasis=sto3g\n",
      "\t\t\tmethod=rhf\n",
      "\t\t\tconv_tol=1e-09\n",
      "\t\t\tmax_cycle=50\n",
      "\t\t\tinit_guess=minao\n",
      "\t\t\tmax_memory=4000\n",
      "\t\t\t\n",
      "\tElectronicBasisTransform:\n",
      "\t\tInitial basis: atomic\n",
      "\t\tFinal basis: molecular\n",
      "\t\tAlpha coefficients:\n",
      "\t\t[0, 0] = 0.5483020229014736\n",
      "\t\t[0, 1] = -1.2183273138546826\n",
      "\t\t[1, 0] = 0.548302022901473\n",
      "\t\t[1, 1] = 1.2183273138546828\n",
      "\t\tBeta coefficients:\n",
      "\t\t[0, 0] = 0.5483020229014736\n",
      "\t\t[0, 1] = -1.2183273138546826\n",
      "\t\t[1, 0] = 0.548302022901473\n",
      "\t\t[1, 1] = 1.2183273138546828\n",
      "\tParticleNumber:\n",
      "\t\t4 SOs\n",
      "\t\t1 alpha electrons: [1. 0.]\n",
      "\t\t1 beta electrons: [1. 0.]\n",
      "\tElectronicEnergy\n",
      "\t\t(AO) 1-Body Terms:\n",
      "\t\t\tAlpha\n",
      "\t\t\t[0, 0] = -1.1242175791954514\n",
      "\t\t\t[0, 1] = -0.9652573993472758\n",
      "\t\t\t[1, 0] = -0.9652573993472758\n",
      "\t\t\t[1, 1] = -1.1242175791954512\n",
      "\t\t\tBeta\n",
      "\t\t\t[0, 0] = -1.1242175791954514\n",
      "\t\t\t[0, 1] = -0.9652573993472758\n",
      "\t\t\t[1, 0] = -0.9652573993472758\n",
      "\t\t\t[1, 1] = -1.1242175791954512\n",
      "\t\t(AO) 2-Body Terms:\n",
      "\t\t\tAlpha-Alpha\n",
      "\t\t\t[0, 0, 0, 0] = 0.7746059439198978\n",
      "\t\t\t[0, 0, 0, 1] = 0.4474457245330949\n",
      "\t\t\t[0, 0, 1, 0] = 0.447445724533095\n",
      "\t\t\t[0, 0, 1, 1] = 0.5718769760004512\n",
      "\t\t\t[0, 1, 0, 0] = 0.4474457245330951\n",
      "\t\t\t[0, 1, 0, 1] = 0.3009177025500432\n",
      "\t\t\t[0, 1, 1, 0] = 0.3009177025500432\n",
      "\t\t\t[0, 1, 1, 1] = 0.447445724533095\n",
      "\t\t\t[1, 0, 0, 0] = 0.447445724533095\n",
      "\t\t\t[1, 0, 0, 1] = 0.3009177025500432\n",
      "\t\t\t[1, 0, 1, 0] = 0.3009177025500432\n",
      "\t\t\t[1, 0, 1, 1] = 0.447445724533095\n",
      "\t\t\t[1, 1, 0, 0] = 0.5718769760004513\n",
      "\t\t\t[1, 1, 0, 1] = 0.447445724533095\n",
      "\t\t\t[1, 1, 1, 0] = 0.4474457245330949\n",
      "\t\t\t[1, 1, 1, 1] = 0.7746059439198978\n",
      "\t\t\tBeta-Alpha\n",
      "\t\t\t[0, 0, 0, 0] = 0.7746059439198978\n",
      "\t\t\t[0, 0, 0, 1] = 0.4474457245330949\n",
      "\t\t\t[0, 0, 1, 0] = 0.447445724533095\n",
      "\t\t\t[0, 0, 1, 1] = 0.5718769760004512\n",
      "\t\t\t[0, 1, 0, 0] = 0.4474457245330951\n",
      "\t\t\t[0, 1, 0, 1] = 0.3009177025500432\n",
      "\t\t\t[0, 1, 1, 0] = 0.3009177025500432\n",
      "\t\t\t[0, 1, 1, 1] = 0.447445724533095\n",
      "\t\t\t[1, 0, 0, 0] = 0.447445724533095\n",
      "\t\t\t[1, 0, 0, 1] = 0.3009177025500432\n",
      "\t\t\t[1, 0, 1, 0] = 0.3009177025500432\n",
      "\t\t\t[1, 0, 1, 1] = 0.447445724533095\n",
      "\t\t\t[1, 1, 0, 0] = 0.5718769760004513\n",
      "\t\t\t[1, 1, 0, 1] = 0.447445724533095\n",
      "\t\t\t[1, 1, 1, 0] = 0.4474457245330949\n",
      "\t\t\t[1, 1, 1, 1] = 0.7746059439198978\n",
      "\t\t\tBeta-Beta\n",
      "\t\t\t[0, 0, 0, 0] = 0.7746059439198978\n",
      "\t\t\t[0, 0, 0, 1] = 0.4474457245330949\n",
      "\t\t\t[0, 0, 1, 0] = 0.447445724533095\n",
      "\t\t\t[0, 0, 1, 1] = 0.5718769760004512\n",
      "\t\t\t[0, 1, 0, 0] = 0.4474457245330951\n",
      "\t\t\t[0, 1, 0, 1] = 0.3009177025500432\n",
      "\t\t\t[0, 1, 1, 0] = 0.3009177025500432\n",
      "\t\t\t[0, 1, 1, 1] = 0.447445724533095\n",
      "\t\t\t[1, 0, 0, 0] = 0.447445724533095\n",
      "\t\t\t[1, 0, 0, 1] = 0.3009177025500432\n",
      "\t\t\t[1, 0, 1, 0] = 0.3009177025500432\n",
      "\t\t\t[1, 0, 1, 1] = 0.447445724533095\n",
      "\t\t\t[1, 1, 0, 0] = 0.5718769760004513\n",
      "\t\t\t[1, 1, 0, 1] = 0.447445724533095\n",
      "\t\t\t[1, 1, 1, 0] = 0.4474457245330949\n",
      "\t\t\t[1, 1, 1, 1] = 0.7746059439198978\n",
      "\t\t\tAlpha-Beta\n",
      "\t\t\t[0, 0, 0, 0] = 0.7746059439198978\n",
      "\t\t\t[0, 0, 0, 1] = 0.4474457245330949\n",
      "\t\t\t[0, 0, 1, 0] = 0.447445724533095\n",
      "\t\t\t[0, 0, 1, 1] = 0.5718769760004512\n",
      "\t\t\t[0, 1, 0, 0] = 0.4474457245330951\n",
      "\t\t\t[0, 1, 0, 1] = 0.3009177025500432\n",
      "\t\t\t[0, 1, 1, 0] = 0.3009177025500432\n",
      "\t\t\t[0, 1, 1, 1] = 0.447445724533095\n",
      "\t\t\t[1, 0, 0, 0] = 0.447445724533095\n",
      "\t\t\t[1, 0, 0, 1] = 0.3009177025500432\n",
      "\t\t\t[1, 0, 1, 0] = 0.3009177025500432\n",
      "\t\t\t[1, 0, 1, 1] = 0.447445724533095\n",
      "\t\t\t[1, 1, 0, 0] = 0.5718769760004513\n",
      "\t\t\t[1, 1, 0, 1] = 0.447445724533095\n",
      "\t\t\t[1, 1, 1, 0] = 0.4474457245330949\n",
      "\t\t\t[1, 1, 1, 1] = 0.7746059439198978\n",
      "\t\t(MO) 1-Body Terms:\n",
      "\t\t\tAlpha\n",
      "\t\t\t[0, 0] = -1.2563390730032507\n",
      "\t\t\t[0, 1] = -6.711377946355923e-17\n",
      "\t\t\t[1, 0] = 1.1131990442883322e-16\n",
      "\t\t\t[1, 1] = -0.47189600728114073\n",
      "\t\t\tBeta\n",
      "\t\t\t[0, 0] = -1.2563390730032507\n",
      "\t\t\t[0, 1] = -6.711377946355923e-17\n",
      "\t\t\t[1, 0] = 1.1131990442883322e-16\n",
      "\t\t\t[1, 1] = -0.47189600728114073\n",
      "\t\t(MO) 2-Body Terms:\n",
      "\t\t\tAlpha-Alpha\n",
      "\t\t\t[0, 0, 0, 0] = 0.675710154803517\n",
      "\t\t\t[0, 0, 0, 1] = -1.6653345369377348e-16\n",
      "\t\t\t[0, 0, 1, 0] = -2.220446049250313e-16\n",
      "\t\t\t[0, 0, 1, 1] = 0.6645817302552974\n",
      "\t\t\t[0, 1, 0, 0] = 2.7755575615628914e-17\n",
      "\t\t\t[0, 1, 0, 1] = 0.18093119978423153\n",
      "\t\t\t[0, 1, 1, 0] = 0.18093119978423136\n",
      "\t\t\t[0, 1, 1, 1] = 3.3306690738754696e-16\n",
      "\t\t\t[1, 0, 0, 0] = 1.3877787807814457e-16\n",
      "\t\t\t[1, 0, 0, 1] = 0.18093119978423164\n",
      "\t\t\t[1, 0, 1, 0] = 0.18093119978423156\n",
      "\t\t\t[1, 0, 1, 1] = -1.1102230246251565e-16\n",
      "\t\t\t[1, 1, 0, 0] = 0.6645817302552969\n",
      "\t\t\t[1, 1, 0, 1] = -1.1102230246251565e-16\n",
      "\t\t\t[1, 1, 1, 0] = -1.1102230246251565e-16\n",
      "\t\t\t[1, 1, 1, 1] = 0.6985737227320186\n",
      "\t\t\tBeta-Alpha\n",
      "\t\t\t[0, 0, 0, 0] = 0.675710154803517\n",
      "\t\t\t[0, 0, 0, 1] = -1.6653345369377348e-16\n",
      "\t\t\t[0, 0, 1, 0] = -2.220446049250313e-16\n",
      "\t\t\t[0, 0, 1, 1] = 0.6645817302552974\n",
      "\t\t\t[0, 1, 0, 0] = 2.7755575615628914e-17\n",
      "\t\t\t[0, 1, 0, 1] = 0.18093119978423153\n",
      "\t\t\t[0, 1, 1, 0] = 0.18093119978423136\n",
      "\t\t\t[0, 1, 1, 1] = 3.3306690738754696e-16\n",
      "\t\t\t[1, 0, 0, 0] = 1.3877787807814457e-16\n",
      "\t\t\t[1, 0, 0, 1] = 0.18093119978423164\n",
      "\t\t\t[1, 0, 1, 0] = 0.18093119978423156\n",
      "\t\t\t[1, 0, 1, 1] = -1.1102230246251565e-16\n",
      "\t\t\t[1, 1, 0, 0] = 0.6645817302552969\n",
      "\t\t\t[1, 1, 0, 1] = -1.1102230246251565e-16\n",
      "\t\t\t[1, 1, 1, 0] = -1.1102230246251565e-16\n",
      "\t\t\t[1, 1, 1, 1] = 0.6985737227320186\n",
      "\t\t\tBeta-Beta\n",
      "\t\t\t[0, 0, 0, 0] = 0.675710154803517\n",
      "\t\t\t[0, 0, 0, 1] = -1.6653345369377348e-16\n",
      "\t\t\t[0, 0, 1, 0] = -2.220446049250313e-16\n",
      "\t\t\t[0, 0, 1, 1] = 0.6645817302552974\n",
      "\t\t\t[0, 1, 0, 0] = 2.7755575615628914e-17\n",
      "\t\t\t[0, 1, 0, 1] = 0.18093119978423153\n",
      "\t\t\t[0, 1, 1, 0] = 0.18093119978423136\n",
      "\t\t\t[0, 1, 1, 1] = 3.3306690738754696e-16\n",
      "\t\t\t[1, 0, 0, 0] = 1.3877787807814457e-16\n",
      "\t\t\t[1, 0, 0, 1] = 0.18093119978423164\n",
      "\t\t\t[1, 0, 1, 0] = 0.18093119978423156\n",
      "\t\t\t[1, 0, 1, 1] = -1.1102230246251565e-16\n",
      "\t\t\t[1, 1, 0, 0] = 0.6645817302552969\n",
      "\t\t\t[1, 1, 0, 1] = -1.1102230246251565e-16\n",
      "\t\t\t[1, 1, 1, 0] = -1.1102230246251565e-16\n",
      "\t\t\t[1, 1, 1, 1] = 0.6985737227320186\n",
      "\t\t\tAlpha-Beta\n",
      "\t\t\t[0, 0, 0, 0] = 0.675710154803517\n",
      "\t\t\t[0, 0, 0, 1] = -1.6653345369377348e-16\n",
      "\t\t\t[0, 0, 1, 0] = -2.220446049250313e-16\n",
      "\t\t\t[0, 0, 1, 1] = 0.6645817302552974\n",
      "\t\t\t[0, 1, 0, 0] = 2.7755575615628914e-17\n",
      "\t\t\t[0, 1, 0, 1] = 0.18093119978423153\n",
      "\t\t\t[0, 1, 1, 0] = 0.18093119978423136\n",
      "\t\t\t[0, 1, 1, 1] = 3.3306690738754696e-16\n",
      "\t\t\t[1, 0, 0, 0] = 1.3877787807814457e-16\n",
      "\t\t\t[1, 0, 0, 1] = 0.18093119978423164\n",
      "\t\t\t[1, 0, 1, 0] = 0.18093119978423156\n",
      "\t\t\t[1, 0, 1, 1] = -1.1102230246251565e-16\n",
      "\t\t\t[1, 1, 0, 0] = 0.6645817302552969\n",
      "\t\t\t[1, 1, 0, 1] = -1.1102230246251565e-16\n",
      "\t\t\t[1, 1, 1, 0] = -1.1102230246251565e-16\n",
      "\t\t\t[1, 1, 1, 1] = 0.6985737227320186\n",
      "\tElectronicDipoleMoment:\n",
      "\t\tDipoleMomentX\n",
      "\t\t\t(AO) 1-Body Terms:\n",
      "\t\t\t\tAlpha is all zero\n",
      "\t\t\t\tBeta is all zero\n",
      "\t\t\t(MO) 1-Body Terms:\n",
      "\t\t\t\tAlpha is all zero\n",
      "\t\t\t\tBeta is all zero\n",
      "\t\tDipoleMomentY\n",
      "\t\t\t(AO) 1-Body Terms:\n",
      "\t\t\t\tAlpha is all zero\n",
      "\t\t\t\tBeta is all zero\n",
      "\t\t\t(MO) 1-Body Terms:\n",
      "\t\t\t\tAlpha is all zero\n",
      "\t\t\t\tBeta is all zero\n",
      "\t\tDipoleMomentZ\n",
      "\t\t\t(AO) 1-Body Terms:\n",
      "\t\t\t\tAlpha\n",
      "\t\t\t\t[0, 1] = 0.4605377079660319\n",
      "\t\t\t\t[1, 0] = 0.4605377079660319\n",
      "\t\t\t\t[1, 1] = 1.3889487015553204\n",
      "\t\t\t\tBeta\n",
      "\t\t\t\t[0, 1] = 0.4605377079660319\n",
      "\t\t\t\t[1, 0] = 0.4605377079660319\n",
      "\t\t\t\t[1, 1] = 1.3889487015553204\n",
      "\t\t\t(MO) 1-Body Terms:\n",
      "\t\t\t\tAlpha\n",
      "\t\t\t\t[0, 0] = 0.69447435077766\n",
      "\t\t\t\t[0, 1] = 0.9278334704592323\n",
      "\t\t\t\t[1, 0] = 0.9278334704592324\n",
      "\t\t\t\t[1, 1] = 0.6944743507776605\n",
      "\t\t\t\tBeta\n",
      "\t\t\t\t[0, 0] = 0.69447435077766\n",
      "\t\t\t\t[0, 1] = 0.9278334704592323\n",
      "\t\t\t\t[1, 0] = 0.9278334704592324\n",
      "\t\t\t\t[1, 1] = 0.6944743507776605\n",
      "\tAngularMomentum:\n",
      "\t\t4 SOs\n",
      "\tMagnetization:\n",
      "\t\t4 SOs\n"
     ]
    }
   ],
   "source": [
    "print(driver_result)"
   ]
  },
  {
   "cell_type": "code",
   "execution_count": 17,
   "id": "1fcbe2a4",
   "metadata": {},
   "outputs": [
    {
     "data": {
      "text/html": [
       "<h3>Version Information</h3><table><tr><th>Qiskit Software</th><th>Version</th></tr><tr><td><code>qiskit-terra</code></td><td>0.19.0.dev0+be0ed5f</td></tr><tr><td><code>qiskit-aer</code></td><td>0.9.0</td></tr><tr><td><code>qiskit-ignis</code></td><td>0.7.0.dev0+9201ed8</td></tr><tr><td><code>qiskit-ibmq-provider</code></td><td>0.16.0.dev0+4f6b7f6</td></tr><tr><td><code>qiskit-aqua</code></td><td>0.9.0.dev0+81239d0</td></tr><tr><td><code>qiskit-nature</code></td><td>0.2.0</td></tr><tr><th>System information</th></tr><tr><td>Python</td><td>3.9.6 (default, Jul 16 2021, 00:00:00) \n",
       "[GCC 10.3.1 20210422 (Red Hat 10.3.1-1)]</td></tr><tr><td>OS</td><td>Linux</td></tr><tr><td>CPUs</td><td>4</td></tr><tr><td>Memory (Gb)</td><td>14.842548370361328</td></tr><tr><td colspan='2'>Wed Aug 04 21:36:54 2021 CEST</td></tr></table>"
      ],
      "text/plain": [
       "<IPython.core.display.HTML object>"
      ]
     },
     "metadata": {},
     "output_type": "display_data"
    },
    {
     "data": {
      "text/html": [
       "<div style='width: 100%; background-color:#d5d9e0;padding-left: 10px; padding-bottom: 10px; padding-right: 10px; padding-top: 5px'><h3>This code is a part of Qiskit</h3><p>&copy; Copyright IBM 2017, 2021.</p><p>This code is licensed under the Apache License, Version 2.0. You may<br>obtain a copy of this license in the LICENSE.txt file in the root directory<br> of this source tree or at http://www.apache.org/licenses/LICENSE-2.0.<p>Any modifications or derivative works of this code must retain this<br>copyright notice, and modified files need to carry a notice indicating<br>that they have been altered from the originals.</p></div>"
      ],
      "text/plain": [
       "<IPython.core.display.HTML object>"
      ]
     },
     "metadata": {},
     "output_type": "display_data"
    }
   ],
   "source": [
    "import qiskit.tools.jupyter\n",
    "%qiskit_version_table\n",
    "%qiskit_copyright"
   ]
  }
 ],
 "metadata": {
  "kernelspec": {
   "display_name": "Python 3",
   "language": "python",
   "name": "python3"
  },
  "language_info": {
   "codemirror_mode": {
    "name": "ipython",
    "version": 3
   },
   "file_extension": ".py",
   "mimetype": "text/x-python",
   "name": "python",
   "nbconvert_exporter": "python",
   "pygments_lexer": "ipython3",
   "version": "3.9.6"
  }
 },
 "nbformat": 4,
 "nbformat_minor": 5
}
