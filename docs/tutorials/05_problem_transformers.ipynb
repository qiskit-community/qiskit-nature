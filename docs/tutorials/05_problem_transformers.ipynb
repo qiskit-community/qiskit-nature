{
 "cells": [
  {
   "cell_type": "markdown",
   "id": "5bac463c",
   "metadata": {},
   "source": [
    "# Transforming Problems\n",
    "\n",
    "This tutorial explains the various problem transformers available in Qiskit Nature.\n",
    "\n",
    "> **Note:** Currently, Qiskit Nature only has transformers which work with electronic structure problems."
   ]
  },
  {
   "cell_type": "markdown",
   "id": "f90b6ed9",
   "metadata": {},
   "source": [
    "## The `BasisTransformer`\n",
    "\n",
    "This transformer allows you to transform an `ElectronicStructureProblem` from one basis into another.\n",
    "This is useful in certain settings such as:\n",
    "- when you obtained a problem description or the Hamiltonian coefficients in the AO basis from an external source\n",
    "- when you explicitly generated the problem in the AO basis to modify it manually before transforming into the MO basis\n",
    "- etc.\n",
    "\n",
    "Since we can achieve the second scenario directly using Qiskit Nature, that is what we will be doing here. To learn more about how to do this, we recommend that you read the tutorial on the [`QCSchema`](08_qcschema.ipynb)."
   ]
  },
  {
   "cell_type": "markdown",
   "id": "8c8452ac",
   "metadata": {},
   "source": [
    "First, we create a problem in the `AO` basis in order to demonstrate the basis transformation:"
   ]
  },
  {
   "cell_type": "code",
   "execution_count": 1,
   "id": "a4942c8f",
   "metadata": {},
   "outputs": [
    {
     "name": "stdout",
     "output_type": "stream",
     "text": [
      "ElectronicBasis.AO\n",
      "Polynomial Tensor\n",
      " \"+-\":\n",
      "[[-1.12421758 -0.9652574 ]\n",
      " [-0.9652574  -1.12421758]]\n",
      " \"++--\":\n",
      "[[[[0.77460594 0.44744572]\n",
      "   [0.44744572 0.3009177 ]]\n",
      "\n",
      "  [[0.44744572 0.3009177 ]\n",
      "   [0.57187698 0.44744572]]]\n",
      "\n",
      "\n",
      " [[[0.44744572 0.57187698]\n",
      "   [0.3009177  0.44744572]]\n",
      "\n",
      "  [[0.3009177  0.44744572]\n",
      "   [0.44744572 0.77460594]]]]\n"
     ]
    }
   ],
   "source": [
    "from qiskit_nature.second_q.drivers import PySCFDriver\n",
    "from qiskit_nature.second_q.problems import ElectronicBasis\n",
    "\n",
    "driver = PySCFDriver()\n",
    "driver.run_pyscf()\n",
    "\n",
    "ao_problem = driver.to_problem(basis=ElectronicBasis.AO)\n",
    "print(ao_problem.basis)\n",
    "\n",
    "ao_hamil = ao_problem.hamiltonian\n",
    "print(ao_hamil.electronic_integrals.alpha)"
   ]
  },
  {
   "cell_type": "markdown",
   "id": "52377257",
   "metadata": {},
   "source": [
    "Next, we obtain the `AO` to `MO` transformer:"
   ]
  },
  {
   "cell_type": "code",
   "execution_count": 2,
   "id": "afe99e12",
   "metadata": {},
   "outputs": [
    {
     "name": "stdout",
     "output_type": "stream",
     "text": [
      "ElectronicBasis.AO\n",
      "ElectronicBasis.MO\n"
     ]
    }
   ],
   "source": [
    "from qiskit_nature.second_q.formats.qcschema_translator import get_ao_to_mo_from_qcschema\n",
    "\n",
    "qcschema = driver.to_qcschema()\n",
    "\n",
    "basis_transformer = get_ao_to_mo_from_qcschema(qcschema)\n",
    "print(basis_transformer.initial_basis)\n",
    "print(basis_transformer.final_basis)"
   ]
  },
  {
   "cell_type": "markdown",
   "id": "325220b1",
   "metadata": {},
   "source": [
    "And finally, we can use the transformer to obtain the problem in the `MO` basis:"
   ]
  },
  {
   "cell_type": "code",
   "execution_count": 3,
   "id": "f28441fc",
   "metadata": {},
   "outputs": [
    {
     "name": "stdout",
     "output_type": "stream",
     "text": [
      "ElectronicBasis.MO\n",
      "Polynomial Tensor\n",
      " \"+-\":\n",
      "[[-1.25633907e+00 -6.21867875e-17]\n",
      " [-7.78036432e-17 -4.71896007e-01]]\n",
      " \"++--\":\n",
      "[[[[6.75710155e-01 1.12401641e-16]\n",
      "   [1.56722377e-16 1.80931200e-01]]\n",
      "\n",
      "  [[1.92605510e-16 1.80931200e-01]\n",
      "   [6.64581730e-01 2.59298923e-16]]]\n",
      "\n",
      "\n",
      " [[[8.68926823e-17 6.64581730e-01]\n",
      "   [1.80931200e-01 1.82411770e-16]]\n",
      "\n",
      "  [[1.80931200e-01 2.57172666e-16]\n",
      "   [7.20426423e-17 6.98573723e-01]]]]\n"
     ]
    }
   ],
   "source": [
    "mo_problem = basis_transformer.transform(ao_problem)\n",
    "print(mo_problem.basis)\n",
    "\n",
    "mo_hamil = mo_problem.hamiltonian\n",
    "print(mo_hamil.electronic_integrals.alpha)"
   ]
  },
  {
   "cell_type": "markdown",
   "id": "c90aa467",
   "metadata": {},
   "source": [
    "If you need to construct your `BasisTransformer` manually, you can do this like so:"
   ]
  },
  {
   "cell_type": "code",
   "execution_count": 4,
   "id": "6cea99d6",
   "metadata": {},
   "outputs": [],
   "source": [
    "import numpy as np\n",
    "from qiskit_nature.second_q.operators import ElectronicIntegrals\n",
    "from qiskit_nature.second_q.problems import ElectronicBasis\n",
    "from qiskit_nature.second_q.transformers import BasisTransformer\n",
    "\n",
    "ao2mo_alpha = np.random.random((2, 2))\n",
    "ao2mo_beta = np.random.random((2, 2))\n",
    "\n",
    "basis_transformer = BasisTransformer(\n",
    "    ElectronicBasis.AO,\n",
    "    ElectronicBasis.MO,\n",
    "    ElectronicIntegrals.from_raw_integrals(ao2mo_alpha, h1_b=ao2mo_beta),\n",
    ")"
   ]
  },
  {
   "cell_type": "markdown",
   "id": "17922900",
   "metadata": {},
   "source": [
    "## The `FreezeCoreTransformer`\n",
    "\n",
    "This transformer provides you with the very simple means to freeze the _core orbitals_ of your molecular system. It requires your problem to contain the `.molecule` attribute from which it can extract the atomic information necessary to perform this Hilbert space reduction."
   ]
  },
  {
   "cell_type": "code",
   "execution_count": 5,
   "id": "4a85694a",
   "metadata": {},
   "outputs": [
    {
     "name": "stdout",
     "output_type": "stream",
     "text": [
      "Molecule:\n",
      "\tMultiplicity: 1\n",
      "\tCharge: 0\n",
      "\tUnit: Bohr\n",
      "\tGeometry:\n",
      "\t\tLi\t(0.0, 0.0, 0.0)\n",
      "\t\tH\t(0.0, 0.0, 2.8345891868475928)\n",
      "\tMasses:\n",
      "\t\tLi\t7\n",
      "\t\tH\t1\n",
      "(2, 2)\n",
      "6\n"
     ]
    }
   ],
   "source": [
    "from qiskit_nature.second_q.drivers import PySCFDriver\n",
    "\n",
    "driver = PySCFDriver(atom=\"Li 0 0 0; H 0 0 1.5\")\n",
    "\n",
    "full_problem = driver.run()\n",
    "print(full_problem.molecule)\n",
    "print(full_problem.num_particles)\n",
    "print(full_problem.num_spatial_orbitals)"
   ]
  },
  {
   "cell_type": "markdown",
   "id": "685dbb59",
   "metadata": {},
   "source": [
    "In the following, we apply the `FreezeCoreTransformer` which in this case will remove the single lowest energy orbital (reducing the total number of spatial orbitals from 6 to 5) and also removing the two electrons from within that orbital (as reflected by the changed number of particles)."
   ]
  },
  {
   "cell_type": "code",
   "execution_count": null,
   "id": "01d77f83",
   "metadata": {},
   "outputs": [],
   "source": []
  },
  {
   "cell_type": "code",
   "execution_count": 6,
   "id": "9a37235a",
   "metadata": {},
   "outputs": [
    {
     "name": "stdout",
     "output_type": "stream",
     "text": [
      "(1, 1)\n",
      "5\n"
     ]
    }
   ],
   "source": [
    "from qiskit_nature.second_q.transformers import FreezeCoreTransformer\n",
    "\n",
    "fc_transformer = FreezeCoreTransformer()\n",
    "\n",
    "fc_problem = fc_transformer.transform(full_problem)\n",
    "print(fc_problem.num_particles)\n",
    "print(fc_problem.num_spatial_orbitals)"
   ]
  },
  {
   "cell_type": "markdown",
   "id": "24369906",
   "metadata": {},
   "source": [
    "Note, that this transformation will result in a constant energy offset resulting from the removal of the core electrons. This offset is registered inside of the hamiltonian's `constants` attribute, which you can inspect like shown below:"
   ]
  },
  {
   "cell_type": "code",
   "execution_count": 7,
   "id": "82446408",
   "metadata": {},
   "outputs": [
    {
     "name": "stdout",
     "output_type": "stream",
     "text": [
      "{'nuclear_repulsion_energy': 1.05835442184, 'FreezeCoreTransformer': -7.840306048789075}\n"
     ]
    }
   ],
   "source": [
    "print(fc_problem.hamiltonian.constants)"
   ]
  },
  {
   "cell_type": "markdown",
   "id": "92863022",
   "metadata": {},
   "source": [
    "Furthermore, you can provide a list of orbital indices (0-based) which are to be removed from the system.\n",
    "\n",
    "> **Note:** these orbitals *must* be unoccupied, otherwise you will incur a large error in your computation (even if they are unoccupied you should know which orbitals you are removing, because removing the wrong ones can still incur large errors if the systems dynamics are altered significantly). No guards are in place to check that the provided orbital indices are indeed unoccupied, so this is up to you!"
   ]
  },
  {
   "cell_type": "code",
   "execution_count": 8,
   "id": "a13e42db",
   "metadata": {},
   "outputs": [
    {
     "name": "stdout",
     "output_type": "stream",
     "text": [
      "(1, 1)\n",
      "3\n"
     ]
    }
   ],
   "source": [
    "fc_transformer = FreezeCoreTransformer(remove_orbitals=[4, 5])\n",
    "\n",
    "fc_problem = fc_transformer.transform(full_problem)\n",
    "print(fc_problem.num_particles)\n",
    "print(fc_problem.num_spatial_orbitals)"
   ]
  },
  {
   "cell_type": "markdown",
   "id": "fb5ab38f",
   "metadata": {},
   "source": [
    "## The `ActiveSpaceTransformer`\n",
    "\n",
    "This transformer generalizes the Hilbert space reduction which is performed by the `FreezeCoreTransformer`. Simply put, it allows you to specify an _active space_ by selecting the number of active electrons and the number of active spatial orbitals. According to these settings, the active space will be chosen around the Fermi level."
   ]
  },
  {
   "cell_type": "code",
   "execution_count": 9,
   "id": "fc5680f5",
   "metadata": {},
   "outputs": [
    {
     "name": "stdout",
     "output_type": "stream",
     "text": [
      "(2, 2)\n",
      "6\n"
     ]
    }
   ],
   "source": [
    "from qiskit_nature.second_q.drivers import PySCFDriver\n",
    "\n",
    "driver = PySCFDriver(atom=\"Li 0 0 0; H 0 0 1.5\")\n",
    "\n",
    "full_problem = driver.run()\n",
    "print(full_problem.num_particles)\n",
    "print(full_problem.num_spatial_orbitals)"
   ]
  },
  {
   "cell_type": "code",
   "execution_count": 10,
   "id": "46d28748",
   "metadata": {},
   "outputs": [
    {
     "name": "stdout",
     "output_type": "stream",
     "text": [
      "(1, 1)\n",
      "2\n",
      "Polynomial Tensor\n",
      " \"+-\":\n",
      "[[-0.78784474  0.0469345 ]\n",
      " [ 0.0469345  -0.36211748]]\n",
      " \"++--\":\n",
      "[[[[ 0.49428349 -0.0469345 ]\n",
      "   [-0.0469345   0.01213863]]\n",
      "\n",
      "  [[-0.0469345   0.01213863]\n",
      "   [ 0.22662427  0.00616268]]]\n",
      "\n",
      "\n",
      " [[[-0.0469345   0.22662427]\n",
      "   [ 0.01213863  0.00616268]]\n",
      "\n",
      "  [[ 0.01213863  0.00616268]\n",
      "   [ 0.00616268  0.33881567]]]]\n"
     ]
    }
   ],
   "source": [
    "from qiskit_nature.second_q.transformers import ActiveSpaceTransformer\n",
    "\n",
    "as_transformer = ActiveSpaceTransformer(2, 2)\n",
    "\n",
    "as_problem = as_transformer.transform(full_problem)\n",
    "print(as_problem.num_particles)\n",
    "print(as_problem.num_spatial_orbitals)\n",
    "print(as_problem.hamiltonian.electronic_integrals.alpha)"
   ]
  },
  {
   "cell_type": "markdown",
   "id": "4e1ae8e3",
   "metadata": {},
   "source": [
    "The `ActiveSpaceTransformer` in Qiskit Nature has one more trick up its sleeve because it even allows you to manually specify the indices of the active orbitals. This enables you to hand-pick active spaces which do not lie continuously around the Fermi level."
   ]
  },
  {
   "cell_type": "code",
   "execution_count": 11,
   "id": "9079ed1b",
   "metadata": {},
   "outputs": [
    {
     "name": "stdout",
     "output_type": "stream",
     "text": [
      "(1, 1)\n",
      "2\n",
      "Polynomial Tensor\n",
      " \"+-\":\n",
      "[[-4.00500243e+00 -7.24056534e-19]\n",
      " [-7.24056534e-19 -6.19047188e-01]]\n",
      " \"++--\":\n",
      "[[[[ 1.65816678e+00  4.90223201e-19]\n",
      "   [ 4.90223201e-19  9.81922731e-03]]\n",
      "\n",
      "  [[ 4.90223201e-19  9.81922731e-03]\n",
      "   [ 3.96308164e-01 -1.10622223e-19]]]\n",
      "\n",
      "\n",
      " [[[ 4.90223201e-19  3.96308164e-01]\n",
      "   [ 9.81922731e-03 -1.10622223e-19]]\n",
      "\n",
      "  [[ 9.81922731e-03 -1.10622223e-19]\n",
      "   [-1.10622223e-19  3.12945511e-01]]]]\n"
     ]
    }
   ],
   "source": [
    "as_transformer = ActiveSpaceTransformer(2, 2, active_orbitals=[0, 4])\n",
    "\n",
    "as_problem = as_transformer.transform(full_problem)\n",
    "print(as_problem.num_particles)\n",
    "print(as_problem.num_spatial_orbitals)\n",
    "print(as_problem.hamiltonian.electronic_integrals.alpha)"
   ]
  },
  {
   "cell_type": "code",
   "execution_count": 12,
   "id": "255a9aac",
   "metadata": {},
   "outputs": [
    {
     "data": {
      "text/html": [
       "<h3>Version Information</h3><table><tr><th>Qiskit Software</th><th>Version</th></tr><tr><td><code>qiskit-terra</code></td><td>0.23.0.dev0+3ce1737</td></tr><tr><td><code>qiskit-aer</code></td><td>0.11.1</td></tr><tr><td><code>qiskit-nature</code></td><td>0.5.0</td></tr><tr><th>System information</th></tr><tr><td>Python version</td><td>3.9.15</td></tr><tr><td>Python compiler</td><td>GCC 12.2.1 20220819 (Red Hat 12.2.1-2)</td></tr><tr><td>Python build</td><td>main, Oct 12 2022 00:00:00</td></tr><tr><td>OS</td><td>Linux</td></tr><tr><td>CPUs</td><td>8</td></tr><tr><td>Memory (Gb)</td><td>62.501182556152344</td></tr><tr><td colspan='2'>Sat Nov 05 16:41:31 2022 CET</td></tr></table>"
      ],
      "text/plain": [
       "<IPython.core.display.HTML object>"
      ]
     },
     "metadata": {},
     "output_type": "display_data"
    },
    {
     "data": {
      "text/html": [
       "<div style='width: 100%; background-color:#d5d9e0;padding-left: 10px; padding-bottom: 10px; padding-right: 10px; padding-top: 5px'><h3>This code is a part of Qiskit</h3><p>&copy; Copyright IBM 2017, 2022.</p><p>This code is licensed under the Apache License, Version 2.0. You may<br>obtain a copy of this license in the LICENSE.txt file in the root directory<br> of this source tree or at http://www.apache.org/licenses/LICENSE-2.0.<p>Any modifications or derivative works of this code must retain this<br>copyright notice, and modified files need to carry a notice indicating<br>that they have been altered from the originals.</p></div>"
      ],
      "text/plain": [
       "<IPython.core.display.HTML object>"
      ]
     },
     "metadata": {},
     "output_type": "display_data"
    }
   ],
   "source": [
    "import qiskit.tools.jupyter\n",
    "\n",
    "%qiskit_version_table\n",
    "%qiskit_copyright"
   ]
  }
 ],
 "metadata": {
  "kernelspec": {
   "display_name": "Python 3",
   "language": "python",
   "name": "python3"
  },
  "language_info": {
   "codemirror_mode": {
    "name": "ipython",
    "version": 3
   },
   "file_extension": ".py",
   "mimetype": "text/x-python",
   "name": "python",
   "nbconvert_exporter": "python",
   "pygments_lexer": "ipython3",
   "version": "3.9.15"
  }
 },
 "nbformat": 4,
 "nbformat_minor": 5
}
