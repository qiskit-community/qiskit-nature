{
 "cells": [
  {
   "cell_type": "markdown",
   "metadata": {},
   "source": [
    "# Sampling the potential energy surface "
   ]
  },
  {
   "cell_type": "markdown",
   "metadata": {},
   "source": [
    "## Introduction \n",
    "\n",
    "This interactive notebook demonstrates how to utilize the Potential Energy Surface (PES) samplers algorithm of Qiskit Nature to generate the dissociation profile of a molecule. We use the Born-Oppenhemier Potential Energy Surface (BOPES)and demonstrate how to exploit bootstrapping and extrapolation to reduce the total number of function evaluations in computing the PES using the Variational Quantum Eigensolver (VQE). \n"
   ]
  },
  {
   "cell_type": "code",
   "execution_count": 2,
   "metadata": {},
   "outputs": [],
   "source": [
    "# import common packages\n",
    "import numpy as np\n",
    "import pandas as pd\n",
    "import matplotlib.pyplot as plt\n",
    "from functools import partial\n",
    "\n",
    "# qiskit\n",
    "from qiskit.utils import QuantumInstance\n",
    "from qiskit import Aer\n",
    "from qiskit.algorithms.minimum_eigen_solvers import NumPyMinimumEigensolver, VQE\n",
    "from qiskit.algorithms.optimizers import SLSQP\n",
    "from qiskit.circuit.library import ExcitationPreserving\n",
    "from qiskit import BasicAer\n",
    "from qiskit.algorithms import NumPyMinimumEigensolver, VQE\n",
    "from qiskit.algorithms.optimizers import SLSQP\n",
    "\n",
    "# qiskit nature imports\n",
    "from qiskit_nature.problems.second_quantization import ElectronicStructureProblem\n",
    "from qiskit_nature.converters.second_quantization import QubitConverter\n",
    "from qiskit_nature.mappers.second_quantization import JordanWignerMapper\n",
    "from qiskit_nature.algorithms import GroundStateEigensolver\n",
    "from qiskit_nature.drivers import PySCFDriver, UnitsType, Molecule\n",
    "from qiskit_nature.algorithms.pes_samplers import BOPESSampler, Extrapolator\n",
    "\n",
    "import warnings\n",
    "warnings.simplefilter('ignore', np.RankWarning)"
   ]
  },
  {
   "cell_type": "markdown",
   "metadata": {},
   "source": [
    "Here, we use the H2 molecule as a model system for testing."
   ]
  },
  {
   "cell_type": "code",
   "execution_count": 2,
   "metadata": {},
   "outputs": [],
   "source": [
    "stretch1 = partial(Molecule.absolute_stretching, atom_pair=(1, 0))\n",
    "mol = Molecule(geometry=[('H', [0., 0., 0.]),\n",
    "                        ('H', [0., 0., 0.3])],\n",
    "                       degrees_of_freedom=[stretch1],\n",
    "                       )\n",
    "\n",
    "# pass molecule to PSYCF driver\n",
    "driver = PySCFDriver(molecule=mol)"
   ]
  },
  {
   "cell_type": "code",
   "execution_count": 3,
   "metadata": {},
   "outputs": [
    {
     "name": "stdout",
     "output_type": "stream",
     "text": [
      "[('H', [0.0, 0.0, 0.0]), ('H', [0.0, 0.0, 0.3])]\n"
     ]
    }
   ],
   "source": [
    "print(mol.geometry)"
   ]
  },
  {
   "cell_type": "markdown",
   "metadata": {},
   "source": [
    "### Make a perturbation to the molecule along the absolute_stretching dof"
   ]
  },
  {
   "cell_type": "code",
   "execution_count": 4,
   "metadata": {},
   "outputs": [
    {
     "name": "stdout",
     "output_type": "stream",
     "text": [
      "[('H', [0.0, 0.0, 0.0]), ('H', [0.0, 0.0, 0.5])]\n",
      "[('H', [0.0, 0.0, 0.0]), ('H', [0.0, 0.0, 0.8999999999999999])]\n"
     ]
    }
   ],
   "source": [
    "mol.perturbations = [0.2]\n",
    "print(mol.geometry)\n",
    "\n",
    "mol.perturbations = [0.6]\n",
    "print(mol.geometry)"
   ]
  },
  {
   "cell_type": "markdown",
   "metadata": {},
   "source": [
    "# Calculate bond dissociation profile using BOPES Sampler\n",
    "\n",
    "Here, we pass the molecular information and the VQE to a built-in type called the BOPES Sampler. The BOPES Sampler allows the computation of the potential energy surface for a specified set of degrees of freedom/points of interest."
   ]
  },
  {
   "cell_type": "markdown",
   "metadata": {},
   "source": [
    "## First we compare no bootstrapping vs bootstrapping \n",
    "\n",
    "Bootstrapping the BOPES sampler involves utilizing the optimal variational parameters for a given degree of freedom, say r (ex. interatomic distance) as the initial point for VQE at a later degree of freedom, say r + $\\epsilon$. By default, if boostrapping is set to True, all previous optimal parameters are used as initial points for the next runs."
   ]
  },
  {
   "cell_type": "code",
   "execution_count": 5,
   "metadata": {},
   "outputs": [],
   "source": [
    "es_problem = ElectronicStructureProblem(driver)\n",
    "\n",
    "qubit_converter = QubitConverter(JordanWignerMapper())\n",
    "quantum_instance = QuantumInstance(backend=Aer.get_backend('statevector_simulator'))\n",
    "solver = VQE(quantum_instance=quantum_instance)\n",
    "\n",
    "me_gsc = GroundStateEigensolver(qubit_converter, solver)"
   ]
  },
  {
   "cell_type": "code",
   "execution_count": 6,
   "metadata": {},
   "outputs": [],
   "source": [
    "distance1 = partial(Molecule.absolute_distance, atom_pair=(1, 0))\n",
    "mol = Molecule(geometry=[('H', [0., 0., 0.]),\n",
    "                        ('H', [0., 0., 0.3])],\n",
    "                       degrees_of_freedom=[distance1],\n",
    "                       )\n",
    "\n",
    "# pass molecule to PSYCF driver\n",
    "driver = PySCFDriver(molecule=mol)\n",
    "\n",
    "es_problem = ElectronicStructureProblem(driver)\n",
    "\n",
    "\n",
    "# Specify degree of freedom (points of interest)\n",
    "points = np.linspace(0.25, 2, 30)\n",
    "results_full = {} # full dictionary of results for each condition\n",
    "results = {} # dictionary of (point,energy) results for each condition\n",
    "conditions = {False: 'no bootstrapping', True: 'bootstrapping'}\n",
    "\n",
    "\n",
    "for value, bootstrap in conditions.items():\n",
    "    # define instance to sampler\n",
    "    bs = BOPESSampler(\n",
    "        gss=me_gsc\n",
    "        ,bootstrap=value\n",
    "        ,num_bootstrap=None\n",
    "        ,extrapolator=None)\n",
    "    # execute\n",
    "    res = bs.sample(es_problem,points)\n",
    "    results_full[f'{bootstrap}'] =  res.raw_results\n",
    "    results[f'points_{bootstrap}'] = res.points\n",
    "    results[f'energies_{bootstrap}'] = res.energies"
   ]
  },
  {
   "cell_type": "markdown",
   "metadata": {},
   "source": [
    "# Compare to classical eigensolver\n"
   ]
  },
  {
   "cell_type": "code",
   "execution_count": 7,
   "metadata": {},
   "outputs": [],
   "source": [
    "# define numpy solver\n",
    "solver_numpy = NumPyMinimumEigensolver()\n",
    "me_gsc_numpy = GroundStateEigensolver(qubit_converter, solver_numpy)\n",
    "bs_classical = BOPESSampler(\n",
    "               gss=me_gsc_numpy\n",
    "               ,bootstrap=False\n",
    "               ,num_bootstrap=None\n",
    "               ,extrapolator=None)\n",
    "# execute\n",
    "res_np = bs_classical.sample(es_problem, points)\n",
    "results_full['np'] =  res_np.raw_results\n",
    "results['points_np'] = res_np.points\n",
    "results['energies_np'] = res_np.energies"
   ]
  },
  {
   "cell_type": "markdown",
   "metadata": {},
   "source": [
    "## Plot results"
   ]
  },
  {
   "cell_type": "code",
   "execution_count": 8,
   "metadata": {},
   "outputs": [
    {
     "data": {
      "text/plain": [
       "Text(0, 0.5, 'Energy')"
      ]
     },
     "execution_count": 8,
     "metadata": {},
     "output_type": "execute_result"
    },
    {
     "data": {
      "image/png": "[encoded data removed]",
      "text/plain": [
       "<Figure size 432x288 with 1 Axes>"
      ]
     },
     "metadata": {
      "needs_background": "light"
     },
     "output_type": "display_data"
    }
   ],
   "source": [
    "fig = plt.figure()\n",
    "for value, bootstrap in conditions.items():\n",
    "    plt.plot(results[f'points_{bootstrap}'], results[f'energies_{bootstrap}'], label = f'{bootstrap}')\n",
    "plt.plot(results['points_np'], results['energies_np'], label = 'numpy')\n",
    "plt.legend()\n",
    "plt.title('Dissociation profile')\n",
    "plt.xlabel('Interatomic distance')\n",
    "plt.ylabel('Energy')"
   ]
  },
  {
   "cell_type": "markdown",
   "metadata": {},
   "source": [
    "# Compare number of evaluations"
   ]
  },
  {
   "cell_type": "code",
   "execution_count": 9,
   "metadata": {},
   "outputs": [
    {
     "name": "stdout",
     "output_type": "stream",
     "text": [
      "no bootstrapping\n",
      "Total evaluations for no bootstrapping:\n",
      "19816\n",
      "bootstrapping\n",
      "Total evaluations for bootstrapping:\n",
      "4710\n",
      "np\n",
      "Total evaluations for np:\n",
      "0\n"
     ]
    }
   ],
   "source": [
    "for condition, result_full in results_full.items():\n",
    "    print(condition)\n",
    "    print('Total evaluations for ' + condition + ':')\n",
    "    sum = 0\n",
    "    for key in result_full:\n",
    "        if condition is not 'np':\n",
    "            sum += result_full[key].raw_result.cost_function_evals\n",
    "        else:\n",
    "            sum = 0\n",
    "    print(sum)"
   ]
  },
  {
   "cell_type": "markdown",
   "metadata": {},
   "source": [
    "# Extrapolation \n",
    "\n",
    "Here, an extrapolator added that will try to fit each (param,point) set to some specified function and suggest an initial parameter set for the next point (degree of freedom). \n",
    "\n",
    "- Extrapolator is based on an external extrapolator that sets the 'window', that is, the number of previous points to use for extrapolation, while the internal extrapolator proceeds with the actual extrapolation.\n",
    "- In practice, the user sets the window by specifying an integer value to num_bootstrap - which is also the number of previous points to use for bootstrapping. Additionally, the external extrapolator defines the space within how to extrapolate - here PCA, clustering and the standard window approach. \n",
    "\n",
    "In practice, if no extrapolator is defined and bootstrapping is True, then all previous points will be bootstrapped. If an extrapolator list is defined and no points are specified for bootstrapping, then the extrapolation will be done based on all previous points."
   ]
  },
  {
   "cell_type": "markdown",
   "metadata": {},
   "source": [
    "1. Window Extrapolator: An extrapolator which wraps another extrapolator, limiting the internal extrapolator's ground truth parameter set to a fixed window size\n",
    "2. PCA Extrapolator: A wrapper extrapolator which reduces the points' dimensionality with PCA, performs extrapolation in the transformed pca space, and untransforms the results before returning.\n",
    "3. Sieve Extrapolator: A wrapper extrapolator which performs an extrapolation, then clusters the extrapolated parameter values into two large and small clusters, and sets the small clusters' parameters to zero.\n",
    "4. Polynomial Extrapolator: An extrapolator based on fitting each parameter to a polynomial function of a user-specified degree.\n",
    "5. Differential Extrapolator: An extrapolator based on treating each param set as a point in space, and performing regression to predict the param set for the next point. A user-specified degree also adds derivatives to the values in the point vectors which serve as features in the training data for the linear regression."
   ]
  },
  {
   "cell_type": "markdown",
   "metadata": {},
   "source": [
    "## Here we test two different extrapolation techniques"
   ]
  },
  {
   "cell_type": "code",
   "execution_count": 10,
   "metadata": {},
   "outputs": [],
   "source": [
    "# define different extrapolators\n",
    "degree = 1\n",
    "extrap_poly = Extrapolator.factory(\"poly\", degree = degree)\n",
    "extrap_diff = Extrapolator.factory(\"diff_model\", degree = degree)\n",
    "extrapolators = {'poly': extrap_poly, 'diff_model': extrap_diff}\n",
    "\n",
    "for key in extrapolators:\n",
    "    extrap_internal = extrapolators[key]\n",
    "    extrap = Extrapolator.factory(\"window\", extrapolator = extrap_internal)\n",
    "    # define extrapolator\n",
    "    # BOPES sampler\n",
    "    bs_extr = BOPESSampler(\n",
    "        gss=me_gsc\n",
    "        ,bootstrap=True\n",
    "        ,num_bootstrap=None\n",
    "        ,extrapolator=extrap)\n",
    "    # execute\n",
    "    res = bs_extr.sample(es_problem, points)\n",
    "    \n",
    "    results_full[f'{key}']= res.raw_results\n",
    "    results[f'points_{key}'] = res.points\n",
    "    results[f'energies_{key}'] = res.energies\n"
   ]
  },
  {
   "cell_type": "markdown",
   "metadata": {},
   "source": [
    "## Plot results"
   ]
  },
  {
   "cell_type": "code",
   "execution_count": 11,
   "metadata": {},
   "outputs": [
    {
     "name": "stdout",
     "output_type": "stream",
     "text": [
      "poly\n",
      "diff_model\n"
     ]
    },
    {
     "data": {
      "text/plain": [
       "Text(0, 0.5, 'Energy')"
      ]
     },
     "execution_count": 11,
     "metadata": {},
     "output_type": "execute_result"
    },
    {
     "data": {
      "image/png": "[encoded data removed]",
      "text/plain": [
       "<Figure size 432x288 with 1 Axes>"
      ]
     },
     "metadata": {
      "needs_background": "light"
     },
     "output_type": "display_data"
    }
   ],
   "source": [
    "fig = plt.figure()\n",
    "for value, bootstrap in conditions.items():\n",
    "    plt.plot(results[f'points_{bootstrap}'], results[f'energies_{bootstrap}'], label = f'{bootstrap}')\n",
    "plt.plot(results['points_np'], results['energies_np'], label = 'numpy')\n",
    "for condition in extrapolators.keys():\n",
    "    print(condition)\n",
    "    plt.plot(results[f'points_{condition}'], results[f'energies_{condition}'], label = condition)\n",
    "plt.legend()\n",
    "plt.title('Dissociation profile')\n",
    "plt.xlabel('Interatomic distance')\n",
    "plt.ylabel('Energy')"
   ]
  },
  {
   "cell_type": "markdown",
   "metadata": {},
   "source": [
    "# Compare number of evaluations"
   ]
  },
  {
   "cell_type": "code",
   "execution_count": 12,
   "metadata": {},
   "outputs": [
    {
     "name": "stdout",
     "output_type": "stream",
     "text": [
      "no bootstrapping\n",
      "Total evaluations for no bootstrapping:\n",
      "19816\n",
      "bootstrapping\n",
      "Total evaluations for bootstrapping:\n",
      "4710\n",
      "np\n",
      "Total evaluations for np:\n",
      "0\n",
      "poly\n",
      "Total evaluations for poly:\n",
      "1499\n",
      "diff_model\n",
      "Total evaluations for diff_model:\n",
      "1757\n"
     ]
    }
   ],
   "source": [
    "for condition, result_full in results_full.items():\n",
    "    print(condition)\n",
    "    print('Total evaluations for ' + condition + ':')\n",
    "    sum = 0\n",
    "    for key in results_full[condition].keys():\n",
    "        if condition is not 'np':\n",
    "                sum += result_full[key].raw_result.cost_function_evals\n",
    "        else:\n",
    "                sum = 0\n",
    "    print(sum)"
   ]
  },
  {
   "cell_type": "code",
   "execution_count": 13,
   "metadata": {},
   "outputs": [
    {
     "data": {
      "text/html": [
       "<h3>Version Information</h3><table><tr><th>Qiskit Software</th><th>Version</th></tr><tr><td>Qiskit</td><td>0.24.1</td></tr><tr><td>Terra</td><td>0.17.0.dev0+bcbc13c</td></tr><tr><td>Aer</td><td>0.7.6</td></tr><tr><td>Ignis</td><td>0.5.2</td></tr><tr><td>Aqua</td><td>None</td></tr><tr><td>IBM Q Provider</td><td>0.12.2</td></tr><tr><th>System information</th></tr><tr><td>Python</td><td>3.7.10 (default, Feb 26 2021, 10:16:00) \n",
       "[Clang 10.0.0 ]</td></tr><tr><td>OS</td><td>Darwin</td></tr><tr><td>CPUs</td><td>4</td></tr><tr><td>Memory (Gb)</td><td>16.0</td></tr><tr><td colspan='2'>Thu Apr 01 17:30:15 2021 CEST</td></tr></table>"
      ],
      "text/plain": [
       "<IPython.core.display.HTML object>"
      ]
     },
     "metadata": {},
     "output_type": "display_data"
    },
    {
     "data": {
      "text/html": [
       "<div style='width: 100%; background-color:#d5d9e0;padding-left: 10px; padding-bottom: 10px; padding-right: 10px; padding-top: 5px'><h3>This code is a part of Qiskit</h3><p>&copy; Copyright IBM 2017, 2021.</p><p>This code is licensed under the Apache License, Version 2.0. You may<br>obtain a copy of this license in the LICENSE.txt file in the root directory<br> of this source tree or at http://www.apache.org/licenses/LICENSE-2.0.<p>Any modifications or derivative works of this code must retain this<br>copyright notice, and modified files need to carry a notice indicating<br>that they have been altered from the originals.</p></div>"
      ],
      "text/plain": [
       "<IPython.core.display.HTML object>"
      ]
     },
     "metadata": {},
     "output_type": "display_data"
    }
   ],
   "source": [
    "import qiskit.tools.jupyter\n",
    "%qiskit_version_table\n",
    "%qiskit_copyright"
   ]
  }
 ],
 "metadata": {
  "kernelspec": {
   "display_name": "Python 3",
   "language": "python",
   "name": "python3"
  },
  "language_info": {
   "codemirror_mode": {
    "name": "ipython",
    "version": 3
   },
   "file_extension": ".py",
   "mimetype": "text/x-python",
   "name": "python",
   "nbconvert_exporter": "python",
   "pygments_lexer": "ipython3",
   "version": "3.6.1"
  }
 },
 "nbformat": 4,
 "nbformat_minor": 4
}
