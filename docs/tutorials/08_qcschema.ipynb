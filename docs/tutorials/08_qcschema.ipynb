{
 "cells": [
  {
   "cell_type": "markdown",
   "id": "3e8d47d1",
   "metadata": {},
   "source": [
    "# QCSchema\n",
    "\n",
    "The [QCSchema](https://github.com/MolSSI/QCSchema) is a standard data format for quantum chemistry. The current version of it which has been adopted by multiple classical chemistry codes, only supports serialization via `JSON`, but their docs clearly indicate that `HDF5` may also be used. Thus, in Qiskit Nature, we have opted for implementing support for both hierarchical data formats.\n",
    "\n",
    "Now, why do we have a tutorial specifically about this format you may wonder? The reason is fairly simple: this is the data format which our drivers use internally to transfer data between the classical computation and Qiskit Nature. Thus, this tutorial will explain a few concepts, in case you want to get a bit more elaborate with your driver interaction.\n",
    "\n",
    "> **Note:** the support for electronic-repulsion integrals as part of the QCSchema is not yet part of the official specification and, thus, custom to Qiskit Nature. But we are working with the QCSchema authors to make this integration official!\n",
    "\n",
    "For the purposes of this tutorial, we are using the `PySCFDriver`, but most discussion points should apply to the other electronic structure drivers, too.\n",
    "\n",
    "First, let us construct a `PySCFDriver` and run it:"
   ]
  },
  {
   "cell_type": "code",
   "execution_count": 1,
   "id": "58fc6126",
   "metadata": {},
   "outputs": [
    {
     "name": "stdout",
     "output_type": "stream",
     "text": [
      "<qiskit_nature.second_q.problems.electronic_structure_problem.ElectronicStructureProblem object at 0x155041be1250>\n"
     ]
    }
   ],
   "source": [
    "from qiskit_nature.second_q.drivers import PySCFDriver\n",
    "\n",
    "driver = PySCFDriver()\n",
    "\n",
    "problem = driver.run()\n",
    "print(problem)"
   ]
  },
  {
   "cell_type": "markdown",
   "id": "8159093f",
   "metadata": {},
   "source": [
    "This is basically short for the following:"
   ]
  },
  {
   "cell_type": "code",
   "execution_count": 2,
   "id": "9a15d2cb",
   "metadata": {},
   "outputs": [
    {
     "name": "stdout",
     "output_type": "stream",
     "text": [
      "ElectronicBasis.MO\n"
     ]
    }
   ],
   "source": [
    "from qiskit_nature.second_q.problems import ElectronicBasis\n",
    "\n",
    "driver.run_pyscf()\n",
    "problem = driver.to_problem(basis=ElectronicBasis.MO, include_dipole=True)\n",
    "print(problem.basis)"
   ]
  },
  {
   "cell_type": "markdown",
   "id": "9f29061c",
   "metadata": {},
   "source": [
    "There are two things to note here:\n",
    "- the problem is specifically requested in the MO basis\n",
    "- dipole integrals are handled separately (because the current QCSchema standard does not support these coefficients)\n",
    "\n",
    "What this means for you as an end-user, is that you can also request the problem in another basis like so:"
   ]
  },
  {
   "cell_type": "code",
   "execution_count": 3,
   "id": "141fbf74",
   "metadata": {},
   "outputs": [
    {
     "name": "stdout",
     "output_type": "stream",
     "text": [
      "ElectronicBasis.AO\n"
     ]
    }
   ],
   "source": [
    "ao_problem = driver.to_problem(basis=ElectronicBasis.AO)\n",
    "print(ao_problem.basis)"
   ]
  },
  {
   "cell_type": "markdown",
   "id": "a6abf1a4",
   "metadata": {},
   "source": [
    "If you now want to transform an AO problem into the MO basis, you need to use the `BasisTransformer` which is explained in [a separate tutorial](05_problem_transformers.ipynb).\n",
    "\n",
    "This is the point, where you need to understand that the `to_problem` method actually relies on the `to_qcschema` method internally:"
   ]
  },
  {
   "cell_type": "code",
   "execution_count": 4,
   "id": "1554d775",
   "metadata": {},
   "outputs": [],
   "source": [
    "from qiskit_nature.second_q.formats.qcschema_translator import qcschema_to_problem\n",
    "\n",
    "qcschema = driver.to_qcschema()\n",
    "ao_problem = qcschema_to_problem(qcschema, basis=ElectronicBasis.AO)"
   ]
  },
  {
   "cell_type": "markdown",
   "id": "398a8238",
   "metadata": {},
   "source": [
    "Specifically extracting the QCSchema object from the driver allows you to later extract a `BasisTransformer` from it, without having to manually dig out the AO-2-MO transformation coefficients from the depths of the driver object:"
   ]
  },
  {
   "cell_type": "code",
   "execution_count": 5,
   "id": "96fcf465",
   "metadata": {},
   "outputs": [],
   "source": [
    "from qiskit_nature.second_q.formats.qcschema_translator import get_ao_to_mo_from_qcschema\n",
    "\n",
    "basis_transformer = get_ao_to_mo_from_qcschema(qcschema)"
   ]
  },
  {
   "cell_type": "code",
   "execution_count": 6,
   "id": "722fc2b8",
   "metadata": {},
   "outputs": [
    {
     "name": "stdout",
     "output_type": "stream",
     "text": [
      "ElectronicBasis.MO\n"
     ]
    }
   ],
   "source": [
    "mo_problem = basis_transformer.transform(ao_problem)\n",
    "print(mo_problem.basis)"
   ]
  },
  {
   "cell_type": "code",
   "execution_count": 7,
   "id": "2140c25f",
   "metadata": {},
   "outputs": [
    {
     "data": {
      "text/html": [
       "<h3>Version Information</h3><table><tr><th>Qiskit Software</th><th>Version</th></tr><tr><td><code>qiskit-terra</code></td><td>0.23.0.dev0+fca8db6</td></tr><tr><td><code>qiskit-aer</code></td><td>0.11.0</td></tr><tr><td><code>qiskit-ibmq-provider</code></td><td>0.19.2</td></tr><tr><td><code>qiskit-nature</code></td><td>0.5.0</td></tr><tr><th>System information</th></tr><tr><td>Python version</td><td>3.9.14</td></tr><tr><td>Python compiler</td><td>GCC 12.2.1 20220819 (Red Hat 12.2.1-1)</td></tr><tr><td>Python build</td><td>main, Sep  7 2022 00:00:00</td></tr><tr><td>OS</td><td>Linux</td></tr><tr><td>CPUs</td><td>8</td></tr><tr><td>Memory (Gb)</td><td>62.501182556152344</td></tr><tr><td colspan='2'>Fri Oct 21 15:48:48 2022 CEST</td></tr></table>"
      ],
      "text/plain": [
       "<IPython.core.display.HTML object>"
      ]
     },
     "metadata": {},
     "output_type": "display_data"
    },
    {
     "data": {
      "text/html": [
       "<div style='width: 100%; background-color:#d5d9e0;padding-left: 10px; padding-bottom: 10px; padding-right: 10px; padding-top: 5px'><h3>This code is a part of Qiskit</h3><p>&copy; Copyright IBM 2017, 2022.</p><p>This code is licensed under the Apache License, Version 2.0. You may<br>obtain a copy of this license in the LICENSE.txt file in the root directory<br> of this source tree or at http://www.apache.org/licenses/LICENSE-2.0.<p>Any modifications or derivative works of this code must retain this<br>copyright notice, and modified files need to carry a notice indicating<br>that they have been altered from the originals.</p></div>"
      ],
      "text/plain": [
       "<IPython.core.display.HTML object>"
      ]
     },
     "metadata": {},
     "output_type": "display_data"
    }
   ],
   "source": [
    "import qiskit.tools.jupyter\n",
    "\n",
    "%qiskit_version_table\n",
    "%qiskit_copyright"
   ]
  }
 ],
 "metadata": {
  "kernelspec": {
   "display_name": "Python 3",
   "language": "python",
   "name": "python3"
  },
  "language_info": {
   "codemirror_mode": {
    "name": "ipython",
    "version": 3
   },
   "file_extension": ".py",
   "mimetype": "text/x-python",
   "name": "python",
   "nbconvert_exporter": "python",
   "pygments_lexer": "ipython3",
   "version": "3.9.15"
  }
 },
 "nbformat": 4,
 "nbformat_minor": 5
}
