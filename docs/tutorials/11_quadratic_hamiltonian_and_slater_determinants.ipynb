{
 "cells": [
  {
   "cell_type": "markdown",
   "id": "a2ecf1af-4d9d-482c-8cda-44ae649e40c3",
   "metadata": {},
   "source": [
    "# Quadratic Hamiltonians and Slater determinants\n",
    "\n",
    "A quadratic Hamiltonian is a Hamiltonian of the form\n",
    "$$\n",
    "    H =\n",
    "    \\sum_{j, k} M_{jk} a^\\dagger_j a_k\n",
    "    + \\frac12 \\sum_{j, k}\n",
    "        (\\Delta_{jk} a^\\dagger_j a^\\dagger_k + \\Delta^*_{jk} a_k a_j)\n",
    "    + \\text{constant}\n",
    "$$\n",
    "where $M$ is a Hermitian matrix ($M^\\dagger = M$) and $\\Delta$ is an antisymmetric matrix ($\\Delta^T = -\\Delta$), and the $\\{a_j^\\dagger\\}$ are fermionic creation operators which satisfy the anticommutation relations\n",
    "$$\n",
    "    \\begin{align}\n",
    "        a_j a_k + a_k a_j &= 0 \\\\\n",
    "        a_j a^\\dagger_k + a^\\dagger_k a_j &= \\delta_{pq}\n",
    "    \\end{align}.\n",
    "$$\n",
    "\n",
    "Quadratic Hamiltonians are an important class of Hamiltonians that are classically tractable. Their eigenstates are called fermionic Gaussian states, and they can be efficiently prepared on a quantum computer. Qiskit Nature includes the `QuadraticHamiltonian` class for representing quadratic Hamiltonians.\n",
    "\n",
    "Of course, the `FermionicOp` class can also be used to represent any quadratic Hamiltonian. The reason to have a class specifically for quadratic Hamiltonians is that they support special numerical routines that involve performing linear algebra on the matrices $M$ and $\\Delta$. The internal representation format of `FermionicOp` is not suitable for these routines.\n",
    "\n",
    "A quadratic Hamiltonian is initialized like so:"
   ]
  },
  {
   "cell_type": "code",
   "execution_count": 1,
   "id": "6b91735f-72e4-46de-a2fa-d2d89db53d6a",
   "metadata": {
    "tags": []
   },
   "outputs": [
    {
     "name": "stdout",
     "output_type": "stream",
     "text": [
      "Fermionic Operator\n",
      "register length=4, number terms=29\n",
      "  4.0\n",
      "+ 1.0 * ( +_0 -_0 )\n",
      "+ 2.0 * ( +_0 -_1 )\n",
      "+ 2.0 * ( +_1 -_0 )\n",
      "+ 3.0 * ( +_0 +_1 )\n",
      "+ 3.0 * ( -_1 -_0 )\n",
      "+ 0.0 * ( +_0 -_2 )\n",
      "+ 0.0 * ( +_2 -_0 )\n",
      "+ 0.0 * ( +_0 +_2 )\n",
      "+ 0.0 * ( -_2 -_0 )\n",
      "+ 0.0 * ( +_0 -_3 )\n",
      "+ 0.0 * ( +_3 -_0 )\n",
      "+ 0.0 * ( +_0 +_3 )\n",
      "+ 0.0 * ( -_3 -_0 )\n",
      "+ 1.0 * ( +_1 -_1 )\n",
      "+ 2.0 * ( +_1 -_2 )\n",
      "+ 2.0 * ( +_2 -_1 )\n",
      "+ 3.0 * ( +_1 +_2 )\n",
      "+ 3.0 * ( -_2 -_1 )\n",
      "+ 0.0 * ( +_1 -_3 )\n",
      "+ 0.0 * ( +_3 -_1 )\n",
      "+ 0.0 * ( +_1 +_3 )\n",
      "+ 0.0 * ( -_3 -_1 )\n",
      "+ 1.0 * ( +_2 -_2 )\n",
      "+ 2.0 * ( +_2 -_3 )\n",
      "+ 2.0 * ( +_3 -_2 )\n",
      "+ 3.0 * ( +_2 +_3 )\n",
      "+ 3.0 * ( -_3 -_2 )\n",
      "+ 1.0 * ( +_3 -_3 )\n"
     ]
    }
   ],
   "source": [
    "import numpy as np\n",
    "from qiskit_nature.operators.second_quantization import QuadraticHamiltonian\n",
    "\n",
    "# create Hamiltonian\n",
    "hermitian_part = np.array(\n",
    "    [\n",
    "        [1.0, 2.0, 0.0, 0.0],\n",
    "        [2.0, 1.0, 2.0, 0.0],\n",
    "        [0.0, 2.0, 1.0, 2.0],\n",
    "        [0.0, 0.0, 2.0, 1.0],\n",
    "    ]\n",
    ")\n",
    "antisymmetric_part = np.array(\n",
    "    [\n",
    "        [0.0, 3.0, 0.0, 0.0],\n",
    "        [-3.0, 0.0, 3.0, 0.0],\n",
    "        [0.0, -3.0, 0.0, 3.0],\n",
    "        [0.0, 0.0, -3.0, 0.0],\n",
    "    ]\n",
    ")\n",
    "constant = 4.0\n",
    "\n",
    "hamiltonian = QuadraticHamiltonian(\n",
    "    hermitian_part=hermitian_part,\n",
    "    antisymmetric_part=antisymmetric_part,\n",
    "    constant=constant,\n",
    ")\n",
    "\n",
    "# convert it to a FermionicOp and print it\n",
    "hamiltonian_ferm = hamiltonian.to_fermionic_op()\n",
    "hamiltonian_ferm.set_truncation(0)\n",
    "print(hamiltonian_ferm)"
   ]
  },
  {
   "cell_type": "markdown",
   "id": "93b2ca42-9947-45da-ad1e-7c11735dc5a5",
   "metadata": {},
   "source": [
    "## Diagonalization and state preparation\n",
    "A quadratic Hamiltonian can always be rewritten in the form\n",
    "$$\n",
    "    H = \\sum_{j} \\varepsilon_j b^\\dagger_j b_j + \\text{constant}\n",
    "$$\n",
    "where $\\varepsilon_0 \\leq \\varepsilon_1 \\leq \\cdots \\leq \\varepsilon_N$ are non-negative real numbers called orbitals energies and\n",
    "the $\\{b_j^\\dagger\\}$ are a new set of fermionic creation operators\n",
    "that also satisfy the canonical anticommutation relations.\n",
    "These new creation operators are linear combinations of the original creation and annihilation operators:\n",
    "$$\n",
    "    \\begin{pmatrix}\n",
    "    b^\\dagger_1 \\\\\n",
    "    \\vdots \\\\\n",
    "    b^\\dagger_N \\\\\n",
    "    \\end{pmatrix}\n",
    "    = W\n",
    "    \\begin{pmatrix}\n",
    "    a^\\dagger_1 \\\\\n",
    "    \\vdots \\\\\n",
    "    a^\\dagger_N \\\\\n",
    "    a_1 \\\\\n",
    "    \\vdots \\\\\n",
    "    a_N\n",
    "    \\end{pmatrix},\n",
    "$$\n",
    "where $W$ is an $N \\times 2N$ matrix. Given a basis of eigenvectors of the Hamiltonian, each eigenvector is labeled by a subset of $\\{0, \\ldots, N - 1\\}$, which we call the occupied orbitals. The corresponding eigenvalue is the sum of the corresponding values of $\\varepsilon_j$, plus the constant."
   ]
  },
  {
   "cell_type": "code",
   "execution_count": 2,
   "id": "62be7f36-3abe-4bde-a2cf-82a5c667fa27",
   "metadata": {},
   "outputs": [
    {
     "name": "stdout",
     "output_type": "stream",
     "text": [
      "Shape of matrix W: (4, 8)\n",
      "Orbital energies: [0.29826763 4.38883678 5.5513683  5.64193745]\n",
      "Transformed constant: -1.9402050758492795\n"
     ]
    }
   ],
   "source": [
    "# get the transformation matrix W and orbital energies {epsilon_j}\n",
    "(\n",
    "    transformation_matrix,\n",
    "    orbital_energies,\n",
    "    transformed_constant,\n",
    ") = hamiltonian.diagonalizing_bogoliubov_transform()\n",
    "\n",
    "print(f\"Shape of matrix W: {transformation_matrix.shape}\")\n",
    "print(f\"Orbital energies: {orbital_energies}\")\n",
    "print(f\"Transformed constant: {transformed_constant}\")"
   ]
  },
  {
   "cell_type": "markdown",
   "id": "8345dded-8bce-46b8-8edd-414ce4f87494",
   "metadata": {},
   "source": [
    "The transformation matrix $W$ is used to construct a circuit to prepare an eigenvector of the Hamiltonian. The circuit is constructed using the `FermionicGaussianState` class. Currently, only the [Jordan-Wigner Transform](https://qiskit.org/documentation/nature/stubs/qiskit_nature.mappers.second_quantization.JordanWignerMapper.html)\n",
    "is supported. The circuit for the Jordan-Wigner Transform has linear depth and uses only linear qubit connectivity. The algorithm is from [Phys. Rev. Applied 9, 044036](https://journals.aps.org/prapplied/abstract/10.1103/PhysRevApplied.9.044036)."
   ]
  },
  {
   "cell_type": "code",
   "execution_count": 3,
   "id": "ef228c33-90d3-4fe7-a5f9-d42438aa559b",
   "metadata": {},
   "outputs": [
    {
     "name": "stdout",
     "output_type": "stream",
     "text": [
      "Eigenvalue: 3.909430851761581\n"
     ]
    },
    {
     "data": {
      "image/png": "[encoded data removed]",
      "text/plain": [
       "<Figure size 1544.38x264.88 with 1 Axes>"
      ]
     },
     "execution_count": 3,
     "metadata": {},
     "output_type": "execute_result"
    }
   ],
   "source": [
    "from qiskit_nature.circuit.library import FermionicGaussianState\n",
    "\n",
    "occupied_orbitals = (0, 2)\n",
    "eig = np.sum(orbital_energies[list(occupied_orbitals)]) + transformed_constant\n",
    "print(f\"Eigenvalue: {eig}\")\n",
    "\n",
    "circuit = FermionicGaussianState(transformation_matrix, occupied_orbitals=occupied_orbitals)\n",
    "circuit.draw(\"mpl\")"
   ]
  },
  {
   "cell_type": "markdown",
   "id": "ba6d59f6-8dcf-4fe9-b40d-7fde3221e7b2",
   "metadata": {},
   "source": [
    "The following code cell simulates the circuit and verifies that the output state is indeed an eigenstate of the Hamiltonian with the expected eigenvalue."
   ]
  },
  {
   "cell_type": "code",
   "execution_count": 4,
   "id": "498b232d-dde7-4248-aa61-be56a2b59a2d",
   "metadata": {},
   "outputs": [],
   "source": [
    "from qiskit.quantum_info import Statevector\n",
    "from qiskit_nature.mappers.second_quantization import JordanWignerMapper\n",
    "\n",
    "# simulate the circuit to get the final state\n",
    "state = np.array(Statevector(circuit))\n",
    "\n",
    "# convert the Hamiltonian to a matrix\n",
    "hamiltonian_jw = JordanWignerMapper().map(hamiltonian_ferm).to_matrix()\n",
    "\n",
    "# check that the state is an eigenvector with the expected eigenvalue\n",
    "np.testing.assert_allclose(hamiltonian_jw @ state, eig * state, atol=1e-8)"
   ]
  },
  {
   "cell_type": "markdown",
   "id": "e7d2a25e-5f5c-44ae-9e19-ff980704ed3a",
   "metadata": {},
   "source": [
    "## Slater determinants\n",
    "\n",
    "When the antisymmetric part $\\Delta = 0$, then the Hamiltonian conserves the number of particles. In this case, the basis change only needs to mix creation operators, not annihilation operators:\n",
    "$$\n",
    "    \\begin{pmatrix}\n",
    "    b^\\dagger_1 \\\\\n",
    "    \\vdots \\\\\n",
    "    b^\\dagger_N \\\\\n",
    "    \\end{pmatrix}\n",
    "    = W\n",
    "    \\begin{pmatrix}\n",
    "    a^\\dagger_1 \\\\\n",
    "    \\vdots \\\\\n",
    "    a^\\dagger_N \\\\\n",
    "    \\end{pmatrix},\n",
    "$$\n",
    "where now $W$ is an $N \\times N$ matrix. Furthermore, the orbital energies $\\{\\varepsilon_j\\}$ are allowed to be negative."
   ]
  },
  {
   "cell_type": "code",
   "execution_count": 5,
   "id": "3193749f-727d-407c-bc22-e0e4e1127a57",
   "metadata": {},
   "outputs": [
    {
     "name": "stdout",
     "output_type": "stream",
     "text": [
      "Hamiltonian conserves particle number: True\n"
     ]
    }
   ],
   "source": [
    "# create Hamiltonian\n",
    "hermitian_part = np.array(\n",
    "    [\n",
    "        [1.0, 2.0, 0.0, 0.0],\n",
    "        [2.0, 1.0, 2.0, 0.0],\n",
    "        [0.0, 2.0, 1.0, 2.0],\n",
    "        [0.0, 0.0, 2.0, 1.0],\n",
    "    ]\n",
    ")\n",
    "constant = 4.0\n",
    "\n",
    "hamiltonian = QuadraticHamiltonian(\n",
    "    hermitian_part=hermitian_part,\n",
    "    constant=constant,\n",
    ")\n",
    "\n",
    "print(f\"Hamiltonian conserves particle number: {hamiltonian.conserves_particle_number()}\")"
   ]
  },
  {
   "cell_type": "code",
   "execution_count": 6,
   "id": "46f07608-a62b-4530-bd27-447a08747f95",
   "metadata": {},
   "outputs": [
    {
     "name": "stdout",
     "output_type": "stream",
     "text": [
      "Shape of matrix W: (4, 4)\n",
      "Orbital energies: [-2.23606798 -0.23606798  2.23606798  4.23606798]\n",
      "Transformed constant: 4.0\n"
     ]
    }
   ],
   "source": [
    "# get the transformation matrix W and orbital energies {epsilon_j}\n",
    "(\n",
    "    transformation_matrix,\n",
    "    orbital_energies,\n",
    "    transformed_constant,\n",
    ") = hamiltonian.diagonalizing_bogoliubov_transform()\n",
    "\n",
    "print(f\"Shape of matrix W: {transformation_matrix.shape}\")\n",
    "print(f\"Orbital energies: {orbital_energies}\")\n",
    "print(f\"Transformed constant: {transformed_constant}\")"
   ]
  },
  {
   "cell_type": "markdown",
   "id": "c1c223ae-04cb-4851-a473-76b5368049d9",
   "metadata": {},
   "source": [
    "In this special case, the eigenstates are called Slater determinants, and a more efficient algorithm is used to prepare them. This algorithm is accessed by using the `SlaterDeterminant` class instead of `FermionicGaussianState`. `SlaterDeterminant` does not take the occupied orbitals as input. Instead, the shape of the transformation matrix is allowed to vary. It should be an $\\eta \\times N$ matrix where $\\eta$ is the number of particles."
   ]
  },
  {
   "cell_type": "code",
   "execution_count": 7,
   "id": "f9f232ea-81bb-472f-a3d4-8deacea65be4",
   "metadata": {},
   "outputs": [
    {
     "name": "stdout",
     "output_type": "stream",
     "text": [
      "Eigenvalue: 4.000000000000001\n"
     ]
    },
    {
     "data": {
      "image/png": "[encoded data removed]",
      "text/plain": [
       "<Figure size 701.723x264.88 with 1 Axes>"
      ]
     },
     "execution_count": 7,
     "metadata": {},
     "output_type": "execute_result"
    }
   ],
   "source": [
    "from qiskit_nature.circuit.library import SlaterDeterminant\n",
    "\n",
    "occupied_orbitals = (0, 2)\n",
    "eig = np.sum(orbital_energies[list(occupied_orbitals)]) + transformed_constant\n",
    "print(f\"Eigenvalue: {eig}\")\n",
    "\n",
    "circuit = SlaterDeterminant(transformation_matrix[list(occupied_orbitals)])\n",
    "circuit.draw(\"mpl\")"
   ]
  },
  {
   "cell_type": "markdown",
   "id": "a37fe6fb-d960-408e-b3b3-da9c130884da",
   "metadata": {},
   "source": [
    "## Time evolution\n",
    "\n",
    "Time evolution under a quadratic Hamiltonian can be easily performed by changing into the diagonal basis of the Hamiltonian. The state preparation circuits shown above effect this basis change, but they are optimized for state preparation from a computational basis state (assumed to be the all zeros state), and they do not work on arbitrary states. The general unitary basis change which does work on arbitrary states is called the Bogoliubov transform, and it is also implemented in Qiskit Nature.\n",
    "\n",
    "The code block below demonstrates the use of the Bogoliubov transform to implement time evolution for a quadratic Hamiltonian."
   ]
  },
  {
   "cell_type": "code",
   "execution_count": 8,
   "id": "229a7a9b-b7cc-429b-8df9-175251d7f363",
   "metadata": {
    "tags": []
   },
   "outputs": [],
   "source": [
    "from qiskit_nature.circuit.library import BogoliubovTransform\n",
    "from qiskit import QuantumCircuit, QuantumRegister\n",
    "from qiskit.quantum_info import random_hermitian, random_statevector, state_fidelity\n",
    "from scipy.linalg import expm\n",
    "\n",
    "# create Hamiltonian\n",
    "n_modes = 5\n",
    "hermitian_part = np.array(random_hermitian(n_modes))\n",
    "hamiltonian = QuadraticHamiltonian(hermitian_part=hermitian_part)\n",
    "\n",
    "# diagonalize Hamiltonian\n",
    "(\n",
    "    transformation_matrix,\n",
    "    orbital_energies,\n",
    "    _,\n",
    ") = hamiltonian.diagonalizing_bogoliubov_transform()\n",
    "\n",
    "# set simulation time and construct time evolution circuit\n",
    "time = 1.0\n",
    "register = QuantumRegister(n_modes)\n",
    "circuit = QuantumCircuit(register)\n",
    "bog_circuit = BogoliubovTransform(transformation_matrix)\n",
    "# change to the diagonal basis of the Hamiltonian\n",
    "circuit.append(bog_circuit.inverse(), register)\n",
    "# perform time evolution by applying z rotations\n",
    "for q, energy in zip(register, orbital_energies):\n",
    "    circuit.rz(-energy * time, q)\n",
    "# change back to the original basis\n",
    "circuit.append(bog_circuit, register)\n",
    "\n",
    "# simulate the circuit\n",
    "initial_state = random_statevector(2**n_modes)\n",
    "final_state = initial_state.evolve(circuit)\n",
    "\n",
    "# compute the correct state by direct exponentiation\n",
    "hamiltonian_jw = JordanWignerMapper().map(hamiltonian.to_fermionic_op()).to_matrix()\n",
    "exact_evolution_op = expm(-1j * time * hamiltonian_jw)\n",
    "expected_state = exact_evolution_op @ np.array(initial_state)\n",
    "\n",
    "# check that the simulated state is correct\n",
    "fidelity = state_fidelity(final_state, expected_state)\n",
    "np.testing.assert_allclose(fidelity, 1.0, atol=1e-8)"
   ]
  },
  {
   "cell_type": "code",
   "execution_count": 9,
   "id": "bc169d46-52c0-4852-a6db-73c0e56d37f6",
   "metadata": {},
   "outputs": [
    {
     "data": {
      "text/html": [
       "<h3>Version Information</h3><table><tr><th>Qiskit Software</th><th>Version</th></tr><tr><td><code>qiskit-terra</code></td><td>0.21.0.dev0+cbc801e</td></tr><tr><td><code>qiskit-aer</code></td><td>0.11.0</td></tr><tr><td><code>qiskit-nature</code></td><td>0.4.0</td></tr><tr><th>System information</th></tr><tr><td>Python version</td><td>3.9.6</td></tr><tr><td>Python compiler</td><td>GCC 8.5.0 20210514 (Red Hat 8.5.0-3)</td></tr><tr><td>Python build</td><td>default, Aug 11 2021 06:39:25</td></tr><tr><td>OS</td><td>Linux</td></tr><tr><td>CPUs</td><td>4</td></tr><tr><td>Memory (Gb)</td><td>15.314849853515625</td></tr><tr><td colspan='2'>Thu Jun 09 11:38:02 2022 EDT</td></tr></table>"
      ],
      "text/plain": [
       "<IPython.core.display.HTML object>"
      ]
     },
     "metadata": {},
     "output_type": "display_data"
    },
    {
     "data": {
      "text/html": [
       "<div style='width: 100%; background-color:#d5d9e0;padding-left: 10px; padding-bottom: 10px; padding-right: 10px; padding-top: 5px'><h3>This code is a part of Qiskit</h3><p>&copy; Copyright IBM 2017, 2022.</p><p>This code is licensed under the Apache License, Version 2.0. You may<br>obtain a copy of this license in the LICENSE.txt file in the root directory<br> of this source tree or at http://www.apache.org/licenses/LICENSE-2.0.<p>Any modifications or derivative works of this code must retain this<br>copyright notice, and modified files need to carry a notice indicating<br>that they have been altered from the originals.</p></div>"
      ],
      "text/plain": [
       "<IPython.core.display.HTML object>"
      ]
     },
     "metadata": {},
     "output_type": "display_data"
    }
   ],
   "source": [
    "import qiskit.tools.jupyter\n",
    "\n",
    "%qiskit_version_table\n",
    "%qiskit_copyright"
   ]
  }
 ],
 "metadata": {
  "kernelspec": {
   "display_name": "qiskit-nature",
   "language": "python",
   "name": "python3"
  },
  "language_info": {
   "codemirror_mode": {
    "name": "ipython",
    "version": 3
   },
   "file_extension": ".py",
   "mimetype": "text/x-python",
   "name": "python",
   "nbconvert_exporter": "python",
   "pygments_lexer": "ipython3",
   "version": "3.9.6"
  }
 },
 "nbformat": 4,
 "nbformat_minor": 5
}
