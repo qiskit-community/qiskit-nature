{
 "cells": [
  {
   "cell_type": "markdown",
   "id": "739993c7",
   "metadata": {},
   "source": [
    "# Protein Folding"
   ]
  },
  {
   "cell_type": "markdown",
   "id": "d64f8162",
   "metadata": {},
   "source": [
    "### Introduction"
   ]
  },
  {
   "cell_type": "markdown",
   "id": "3110941f",
   "metadata": {},
   "source": [
    "The goal of this work is to determine the minimum energy configuration of a protein. Starting from a random configuration, the protein's structure is optimized to lower the energy. This can be achieved by encoding the protein folding problem into a qubit operator and ensuring that all physical constrains are satisfied. "
   ]
  },
  {
   "cell_type": "markdown",
   "id": "29deb98b",
   "metadata": {},
   "source": [
    "For the problem encoding we use: \n",
    "\n",
    "- Configuration qubits: qubits that are used to describe the configurations and the relative position of the different beads\n",
    "- Interaction qubits: qubits that encode interacations between the different aminoacids\n",
    "\n",
    "For our case we use a tetrahydral lattice (diamond shape lattice) where we encode the movement through the configuration qubits. \n",
    "\n",
    "The Hamiltonian of the system for a set of qubits $\\mathbf{q}=\\{\\mathbf{q}_{cf}, \\mathbf{q}_{in}\\}$ is \n",
    "\n",
    "$$H(\\mathbf{q}) = H_{gc}(\\mathbf{q}_{cf}) + H_{ch}(\\mathbf{q}_{cf}) + H_{in}(\\mathbf{q}) $$\n",
    "\n",
    "where \n",
    "- $H_{gc}$ is the geometrical constrain term (governing the growth of the primary sequence of aminoacids without bifurcations\n",
    "- $H_{ch}$ is the chirality constrain (enforcing the righ stereochemistry for the system)\n",
    "- $H_{in}$ is the interaction energy terms of the system. In our case we consider only nearest neighbor interactions. "
   ]
  },
  {
   "cell_type": "markdown",
   "id": "62d99a5f",
   "metadata": {},
   "source": [
    "Further details about the used model and the encoding of the problem can be found in [1].\n",
    "\n",
    "<font size='2'>[1] A.Robert, P.Barkoutsos, S.Woerner and I.Tavernelli, Resource-efficient quantum algorithm for protein folding, npj Quantum Information, 2021 </font>"
   ]
  },
  {
   "cell_type": "code",
   "execution_count": 1,
   "id": "8f541d04",
   "metadata": {},
   "outputs": [],
   "source": [
    "from qiskit_nature.problems.sampling.protein_folding.interactions.random_interaction import RandomInteraction \n",
    "from qiskit_nature.problems.sampling.protein_folding.interactions.miyazawa_jernigan_interaction import MiyazawaJerniganInteraction \n",
    "from qiskit_nature.problems.sampling.protein_folding.peptide.peptide import Peptide\n",
    "from qiskit_nature.problems.sampling.protein_folding.protein_folding_problem import ProteinFoldingProblem\n",
    "\n",
    "from qiskit_nature.problems.sampling.protein_folding.penalty_parameters import PenaltyParameters\n",
    "\n",
    "PATH = \"problems/sampling/protein_folding/resources/test_protein_folding_problem\"\n"
   ]
  },
  {
   "cell_type": "markdown",
   "id": "fced9189",
   "metadata": {},
   "source": [
    "### Protein Main Chain"
   ]
  },
  {
   "cell_type": "markdown",
   "id": "350c031c",
   "metadata": {},
   "source": [
    "The Protein consists of a main chain that is a linear chain of aminoacids. For the naming of different residues we use the one-letter code as defined in Reference [2]. Further details about the naming and the type of aminoacids can also be found in [3].\n",
    "\n",
    "For this particular case we demonstrate the generation of the qubit operator in a neuropeptide with the main chain consisting of 7 aminoacids with letter codes APRLFY (see also [1]).\n",
    "\n",
    "<font size=\"2\">[2] IUPAC–IUB Commission on Biochemical Nomenclature (1972). \"A one-letter notation for amino acid sequences\". Pure and Applied Chemistry. 31 (4): 641–645. doi:10.1351/pac197231040639. PMID 5080161.</font> <br>\n",
    "<font size=\"2\">[3] https://en.wikipedia.org/wiki/Amino_acid</font>"
   ]
  },
  {
   "cell_type": "code",
   "execution_count": 2,
   "id": "bf140d37",
   "metadata": {},
   "outputs": [],
   "source": [
    "main_chain_len = 7\n",
    "main_chain_residue_seq = [\"A\", \"P\", \"R\", \"L\", \"R\", \"F\", \"Y\"]"
   ]
  },
  {
   "cell_type": "markdown",
   "id": "e399913f",
   "metadata": {},
   "source": [
    "### Side Chains"
   ]
  },
  {
   "cell_type": "markdown",
   "id": "d71b4571",
   "metadata": {},
   "source": [
    "Beyond the main chain of the protein there may be aminoacids attached to the residues of the main chain. Our model allows for side chains of the maximum length of one. Enlongated side chains would require the introduction of additional penalty terms that are still under development. \n",
    "\n",
    "For the definition of the side chain we provide a binary vector specifying the existence of a side chain and if a side chain is present we indicate the letter type of the residue."
   ]
  },
  {
   "cell_type": "code",
   "execution_count": 3,
   "id": "4d148961",
   "metadata": {},
   "outputs": [],
   "source": [
    "side_chain_lens = [0, 0, 0, 0, 0, 0, 0]\n",
    "side_chain_residue_sequences = [None]*7"
   ]
  },
  {
   "cell_type": "markdown",
   "id": "948d6e75",
   "metadata": {},
   "source": [
    "### Interaction between Aminoacids"
   ]
  },
  {
   "cell_type": "markdown",
   "id": "960e20e9",
   "metadata": {},
   "source": [
    "For the description of inter-residue contacts for proteins we use knowledge-based (statistical) potentials derived using quasi-chemical approximation. The potentials used here are introduced by Miyazawa, S. and Jernigan, R. L. in [4]. \n",
    "\n",
    "Beyond this model we also allow for random contact maps (interactions) that provide a random interaction map. One can also introduce a custom interaction map that enhances certain configurations of the protein (e.g. alpha helix, beta sheet etc). \n",
    "\n",
    "<font size=\"2\"> [4] J. Mol. Biol.256, 623–644 (1996), Table 3. </font>"
   ]
  },
  {
   "cell_type": "code",
   "execution_count": 4,
   "id": "26908e43",
   "metadata": {},
   "outputs": [],
   "source": [
    "random_interaction = RandomInteraction()\n",
    "mj_interaction = MiyazawaJerniganInteraction()"
   ]
  },
  {
   "cell_type": "code",
   "execution_count": 5,
   "id": "db5cc7a5",
   "metadata": {},
   "outputs": [],
   "source": [
    "## @ Darius can we make here a contact map plot? like a heat map "
   ]
  },
  {
   "cell_type": "markdown",
   "id": "94612caf",
   "metadata": {},
   "source": [
    "### Physical Constrains"
   ]
  },
  {
   "cell_type": "markdown",
   "id": "cf834eb2",
   "metadata": {},
   "source": [
    "To ensure that all physical constrains are respected we introduce penalty functions. The different penalty terms used are: \n",
    "- penalty_chiral: A penalty parameter used to impose the right chirality.\n",
    "- penalty_back: A penalty parameter used to penalize turns along the same axis.\n",
    "- penalty_1: A penalty parameter used to penalize local overlap between beads within a nearest neighbor contact."
   ]
  },
  {
   "cell_type": "code",
   "execution_count": 6,
   "id": "e4d0feae",
   "metadata": {},
   "outputs": [],
   "source": [
    "lambda_back = 10\n",
    "lambda_chiral = 10\n",
    "lambda_1 = 10\n",
    "\n",
    "penalty_terms = PenaltyParameters(lambda_chiral, lambda_back, lambda_1)"
   ]
  },
  {
   "cell_type": "markdown",
   "id": "7426b407",
   "metadata": {},
   "source": [
    "### Peptide Definition\n"
   ]
  },
  {
   "cell_type": "markdown",
   "id": "466014ee",
   "metadata": {},
   "source": [
    "Based on the main chain and possible side chains we define the peptide object that includes all the structural information of the modeled system."
   ]
  },
  {
   "cell_type": "code",
   "execution_count": 7,
   "id": "d37df517",
   "metadata": {},
   "outputs": [],
   "source": [
    "peptide = Peptide(main_chain_len, main_chain_residue_seq, side_chain_lens, side_chain_residue_sequences)"
   ]
  },
  {
   "cell_type": "markdown",
   "id": "cb67de5f",
   "metadata": {},
   "source": [
    "### Protein Folding Problem "
   ]
  },
  {
   "cell_type": "markdown",
   "id": "e49b89bb",
   "metadata": {},
   "source": [
    "Based on the defined peptide, the interaction (contact map) and the penalty terms we defined for our model we define the protein folding problem that returns qubit operators.\n"
   ]
  },
  {
   "cell_type": "code",
   "execution_count": 8,
   "id": "17ac5b7f",
   "metadata": {},
   "outputs": [],
   "source": [
    "protein_folding_problem = ProteinFoldingProblem(peptide, random_interaction, penalty_terms)\n",
    "qubit_op = protein_folding_problem.qubit_op()"
   ]
  },
  {
   "cell_type": "code",
   "execution_count": 9,
   "id": "6c41d668",
   "metadata": {
    "scrolled": true
   },
   "outputs": [
    {
     "name": "stdout",
     "output_type": "stream",
     "text": [
      "1628.7627905057327 * IIIIIIIII\n",
      "- 711.84887518386 * ZIIIIIIII\n",
      "- 914.4139153218729 * IZIIIIIII\n",
      "+ 5.0 * ZZIIIIIII\n",
      "+ 192.5 * IIZIIIIII\n",
      "- 200.0 * ZIZIIIIII\n",
      "+ 7.5 * IZZIIIIII\n",
      "+ 105.0 * IIIZIIIII\n",
      "- 105.0 * ZIIZIIIII\n",
      "+ 95.0 * IIZZIIIII\n",
      "- 100.0 * ZIZZIIIII\n",
      "+ 5.0 * IZZZIIIII\n",
      "- 497.5 * IIIIZIIII\n",
      "+ 195.0 * ZIIIZIIII\n",
      "+ 302.5 * IZIIZIIII\n",
      "- 95.0 * IIZIZIIII\n",
      "+ 100.0 * ZIZIZIIII\n",
      "- 2.5 * IZZIZIIII\n",
      "- 100.0 * IIIIIZIII\n",
      "+ 102.5 * ZIIIIZIII\n",
      "- 2.5 * IZIIIZIII\n",
      "- 95.0 * IIIZIZIII\n",
      "+ 100.0 * ZIIZIZIII\n",
      "- 2.5 * IZIZIZIII\n",
      "- 300.0 * IIIIZZIII\n",
      "+ 97.5 * ZIIIZZIII\n",
      "+ 202.5 * IZIIZZIII\n",
      "- 95.0 * IIZZZZIII\n",
      "+ 100.0 * ZIZZZZIII\n",
      "- 2.5 * IZZZZZIII\n",
      "+ 487.5 * IIIIIIZII\n",
      "- 195.0 * ZIIIIIZII\n",
      "- 295.0 * IZIIIIZII\n",
      "+ 97.5 * IIZIIIZII\n",
      "- 100.0 * ZIZIIIZII\n",
      "+ 2.5 * IZZIIIZII\n",
      "- 195.0 * IIIIZIZII\n",
      "+ 97.5 * ZIIIZIZII\n",
      "+ 100.0 * IZIIZIZII\n",
      "+ 100.0 * IIIIIIIZI\n",
      "- 102.5 * ZIIIIIIZI\n",
      "+ 2.5 * IZIIIIIZI\n",
      "+ 97.5 * IIIZIIIZI\n",
      "- 100.0 * ZIIZIIIZI\n",
      "+ 2.5 * IZIZIIIZI\n",
      "- 195.0 * IIIIIZIZI\n",
      "+ 97.5 * ZIIIIZIZI\n",
      "+ 100.0 * IZIIIZIZI\n",
      "+ 295.0 * IIIIIIZZI\n",
      "- 97.5 * ZIIIIIZZI\n",
      "- 197.5 * IZIIIIZZI\n",
      "+ 97.5 * IIZZIIZZI\n",
      "- 100.0 * ZIZZIIZZI\n",
      "+ 2.5 * IZZZIIZZI\n",
      "- 195.0 * IIIIZZZZI\n",
      "+ 97.5 * ZIIIZZZZI\n",
      "+ 100.0 * IZIIZZZZI\n",
      "+ 195.0 * IIIIIIIIZ\n",
      "+ 5.0 * ZIIIIIIIZ\n",
      "- 200.0 * IZIIIIIIZ\n",
      "- 97.5 * IIIZIIIIZ\n",
      "+ 100.0 * ZIIZIIIIZ\n",
      "- 2.5 * IZIZIIIIZ\n",
      "+ 97.5 * IIZZIIIIZ\n",
      "- 100.0 * ZIZZIIIIZ\n",
      "+ 2.5 * IZZZIIIIZ\n",
      "+ 197.5 * IIIIIZIIZ\n",
      "- 97.5 * ZIIIIZIIZ\n",
      "- 100.0 * IZIIIZIIZ\n",
      "- 197.5 * IIIIZZIIZ\n",
      "+ 97.5 * ZIIIZZIIZ\n",
      "+ 100.0 * IZIIZZIIZ\n",
      "- 192.5 * IIIIIIIZZ\n",
      "+ 97.5 * ZIIIIIIZZ\n",
      "+ 97.5 * IZIIIIIZZ\n",
      "+ 192.5 * IIIIIIZZZ\n",
      "- 97.5 * ZIIIIIZZZ\n",
      "- 97.5 * IZIIIIZZZ\n"
     ]
    }
   ],
   "source": [
    "print(qubit_op)"
   ]
  },
  {
   "cell_type": "markdown",
   "id": "f170cad7",
   "metadata": {},
   "source": [
    "### Using VQE with CVAR expecation value for the solution of the problem"
   ]
  },
  {
   "cell_type": "markdown",
   "id": "0f2d3e2c",
   "metadata": {},
   "source": [
    "We can use the VQE with CVAR expectation value for the solution of the problem and for finding the minimum configuration energy. "
   ]
  },
  {
   "cell_type": "code",
   "execution_count": 10,
   "id": "f6dc43e7",
   "metadata": {},
   "outputs": [
    {
     "name": "stdout",
     "output_type": "stream",
     "text": [
      "{   'aux_operator_eigenvalues': None,\n",
      "    'cost_function_evals': 100,\n",
      "    'eigenstate': {   '000000000': 0.03125,\n",
      "                      '000000011': 0.04419417382415922,\n",
      "                      '000000100': 0.05412658773652741,\n",
      "                      '000001001': 0.03125,\n",
      "                      '000001100': 0.05412658773652741,\n",
      "                      '000001111': 0.05412658773652741,\n",
      "                      '000010000': 0.08838834764831845,\n",
      "                      '000010001': 0.04419417382415922,\n",
      "                      '000010011': 0.03125,\n",
      "                      '000010100': 0.17399263633843817,\n",
      "                      '000010101': 0.04419417382415922,\n",
      "                      '000010110': 0.08838834764831845,\n",
      "                      '000010111': 0.08267972847076846,\n",
      "                      '000011000': 0.07654655446197431,\n",
      "                      '000011010': 0.03125,\n",
      "                      '000011100': 0.16237976320958225,\n",
      "                      '000011110': 0.06987712429686843,\n",
      "                      '000100100': 0.07654655446197431,\n",
      "                      '000100110': 0.04419417382415922,\n",
      "                      '000101000': 0.03125,\n",
      "                      '000101100': 0.05412658773652741,\n",
      "                      '000101110': 0.03125,\n",
      "                      '000101111': 0.03125,\n",
      "                      '000110000': 0.08838834764831845,\n",
      "                      '000110010': 0.03125,\n",
      "                      '000110011': 0.04419417382415922,\n",
      "                      '000110100': 0.17399263633843817,\n",
      "                      '000110110': 0.10364452469860624,\n",
      "                      '000110111': 0.08838834764831845,\n",
      "                      '000111000': 0.11267347735824966,\n",
      "                      '000111010': 0.04419417382415922,\n",
      "                      '000111011': 0.03125,\n",
      "                      '000111100': 0.184877493221863,\n",
      "                      '000111110': 0.06987712429686843,\n",
      "                      '000111111': 0.04419417382415922,\n",
      "                      '001000001': 0.10825317547305482,\n",
      "                      '001000010': 0.04419417382415922,\n",
      "                      '001000011': 0.20252314682524564,\n",
      "                      '001000100': 0.09375,\n",
      "                      '001000101': 0.06987712429686843,\n",
      "                      '001000110': 0.06987712429686843,\n",
      "                      '001000111': 0.13621559198564606,\n",
      "                      '001001000': 0.04419417382415922,\n",
      "                      '001001001': 0.08838834764831845,\n",
      "                      '001001010': 0.08838834764831845,\n",
      "                      '001001011': 0.16237976320958225,\n",
      "                      '001001111': 0.06987712429686843,\n",
      "                      '001010000': 0.03125,\n",
      "                      '001010001': 0.03125,\n",
      "                      '001010010': 0.04419417382415922,\n",
      "                      '001010011': 0.07654655446197431,\n",
      "                      '001010100': 0.06987712429686843,\n",
      "                      '001011000': 0.0625,\n",
      "                      '001011011': 0.08838834764831845,\n",
      "                      '001011100': 0.08267972847076846,\n",
      "                      '001011110': 0.0625,\n",
      "                      '001011111': 0.06987712429686843,\n",
      "                      '001100000': 0.03125,\n",
      "                      '001100001': 0.08267972847076846,\n",
      "                      '001100010': 0.04419417382415922,\n",
      "                      '001100011': 0.17399263633843817,\n",
      "                      '001100100': 0.04419417382415922,\n",
      "                      '001100101': 0.04419417382415922,\n",
      "                      '001100110': 0.03125,\n",
      "                      '001100111': 0.09375,\n",
      "                      '001101001': 0.08838834764831845,\n",
      "                      '001101010': 0.03125,\n",
      "                      '001101011': 0.15309310892394862,\n",
      "                      '001101110': 0.05412658773652741,\n",
      "                      '001101111': 0.1288470508005519,\n",
      "                      '001110000': 0.08838834764831845,\n",
      "                      '001110001': 0.04419417382415922,\n",
      "                      '001110011': 0.10825317547305482,\n",
      "                      '001110100': 0.1767766952966369,\n",
      "                      '001110110': 0.09375,\n",
      "                      '001110111': 0.13975424859373686,\n",
      "                      '001111000': 0.09375,\n",
      "                      '001111010': 0.08267972847076846,\n",
      "                      '001111011': 0.07654655446197431,\n",
      "                      '001111100': 0.14986973510352247,\n",
      "                      '001111110': 0.08267972847076846,\n",
      "                      '001111111': 0.03125,\n",
      "                      '010001001': 0.03125,\n",
      "                      '010100100': 0.03125,\n",
      "                      '010101011': 0.03125,\n",
      "                      '011000001': 0.03125,\n",
      "                      '011000011': 0.05412658773652741,\n",
      "                      '011000100': 0.04419417382415922,\n",
      "                      '011000111': 0.05412658773652741,\n",
      "                      '011001000': 0.05412658773652741,\n",
      "                      '011001001': 0.05412658773652741,\n",
      "                      '011001011': 0.09375,\n",
      "                      '011001111': 0.04419417382415922,\n",
      "                      '011010011': 0.04419417382415922,\n",
      "                      '011010101': 0.03125,\n",
      "                      '011011001': 0.03125,\n",
      "                      '011011011': 0.03125,\n",
      "                      '011100001': 0.03125,\n",
      "                      '011100011': 0.07654655446197431,\n",
      "                      '011101011': 0.0625,\n",
      "                      '011101100': 0.03125,\n",
      "                      '011101111': 0.03125,\n",
      "                      '011110011': 0.03125,\n",
      "                      '011110100': 0.03125,\n",
      "                      '011110101': 0.03125,\n",
      "                      '011110111': 0.05412658773652741,\n",
      "                      '011111000': 0.03125,\n",
      "                      '011111100': 0.03125,\n",
      "                      '100000100': 0.04419417382415922,\n",
      "                      '100000110': 0.03125,\n",
      "                      '100001000': 0.03125,\n",
      "                      '100001100': 0.03125,\n",
      "                      '100001110': 0.03125,\n",
      "                      '100001111': 0.04419417382415922,\n",
      "                      '100010000': 0.0625,\n",
      "                      '100010001': 0.04419417382415922,\n",
      "                      '100010011': 0.03125,\n",
      "                      '100010100': 0.10825317547305482,\n",
      "                      '100010101': 0.03125,\n",
      "                      '100010110': 0.03125,\n",
      "                      '100010111': 0.05412658773652741,\n",
      "                      '100011000': 0.08838834764831845,\n",
      "                      '100011010': 0.03125,\n",
      "                      '100011100': 0.09882117688026186,\n",
      "                      '100011110': 0.05412658773652741,\n",
      "                      '100011111': 0.03125,\n",
      "                      '100100100': 0.05412658773652741,\n",
      "                      '100101100': 0.05412658773652741,\n",
      "                      '100101110': 0.04419417382415922,\n",
      "                      '100110000': 0.04419417382415922,\n",
      "                      '100110010': 0.03125,\n",
      "                      '100110011': 0.03125,\n",
      "                      '100110100': 0.12103072956898178,\n",
      "                      '100110110': 0.05412658773652741,\n",
      "                      '100110111': 0.05412658773652741,\n",
      "                      '100111000': 0.04419417382415922,\n",
      "                      '100111100': 0.11692679333668567,\n",
      "                      '100111110': 0.05412658773652741,\n",
      "                      '101000001': 0.05412658773652741,\n",
      "                      '101000011': 0.14657549249448218,\n",
      "                      '101000100': 0.05412658773652741,\n",
      "                      '101000110': 0.03125,\n",
      "                      '101000111': 0.08267972847076846,\n",
      "                      '101001001': 0.03125,\n",
      "                      '101001010': 0.05412658773652741,\n",
      "                      '101001011': 0.09375,\n",
      "                      '101001111': 0.05412658773652741,\n",
      "                      '101010000': 0.04419417382415922,\n",
      "                      '101010011': 0.03125,\n",
      "                      '101010100': 0.05412658773652741,\n",
      "                      '101010110': 0.03125,\n",
      "                      '101011011': 0.04419417382415922,\n",
      "                      '101011100': 0.06987712429686843,\n",
      "                      '101011111': 0.03125,\n",
      "                      '101100000': 0.03125,\n",
      "                      '101100001': 0.0625,\n",
      "                      '101100011': 0.14657549249448218,\n",
      "                      '101100101': 0.03125,\n",
      "                      '101100110': 0.03125,\n",
      "                      '101100111': 0.0625,\n",
      "                      '101101001': 0.04419417382415922,\n",
      "                      '101101011': 0.10825317547305482,\n",
      "                      '101101100': 0.0625,\n",
      "                      '101101110': 0.03125,\n",
      "                      '101101111': 0.05412658773652741,\n",
      "                      '101110000': 0.04419417382415922,\n",
      "                      '101110001': 0.04419417382415922,\n",
      "                      '101110011': 0.05412658773652741,\n",
      "                      '101110100': 0.125,\n",
      "                      '101110110': 0.06987712429686843,\n",
      "                      '101110111': 0.08267972847076846,\n",
      "                      '101111000': 0.06987712429686843,\n",
      "                      '101111011': 0.06987712429686843,\n",
      "                      '101111100': 0.10364452469860624,\n",
      "                      '101111110': 0.03125,\n",
      "                      '110100111': 0.03125,\n",
      "                      '111000001': 0.03125,\n",
      "                      '111000011': 0.04419417382415922,\n",
      "                      '111001001': 0.03125,\n",
      "                      '111011011': 0.03125,\n",
      "                      '111100111': 0.03125,\n",
      "                      '111111100': 0.03125},\n",
      "    'eigenvalue': -2.27374e-13,\n",
      "    'optimal_parameters': {   ParameterVectorElement(θ[0]): -1.8332179926820475,\n",
      "                              ParameterVectorElement(θ[1]): 1.1033405433384837,\n",
      "                              ParameterVectorElement(θ[2]): -1.8906843103492692,\n",
      "                              ParameterVectorElement(θ[3]): 1.1853439582418241,\n",
      "                              ParameterVectorElement(θ[4]): -1.8187711819054373,\n",
      "                              ParameterVectorElement(θ[5]): 1.0030639020710654,\n",
      "                              ParameterVectorElement(θ[6]): 0.31084913382937174,\n",
      "                              ParameterVectorElement(θ[7]): 0.4162367964834943,\n",
      "                              ParameterVectorElement(θ[8]): 1.8883367953384456,\n",
      "                              ParameterVectorElement(θ[9]): 1.6239354029067892,\n",
      "                              ParameterVectorElement(θ[10]): -0.7562111325139504,\n",
      "                              ParameterVectorElement(θ[11]): 0.502736322091947,\n",
      "                              ParameterVectorElement(θ[12]): 3.3179754269855586,\n",
      "                              ParameterVectorElement(θ[13]): -0.8749083357446836,\n",
      "                              ParameterVectorElement(θ[14]): 0.14869018138823842,\n",
      "                              ParameterVectorElement(θ[15]): -2.339882185852633,\n",
      "                              ParameterVectorElement(θ[17]): 3.2888371003566856,\n",
      "                              ParameterVectorElement(θ[16]): -0.7692057125392016},\n",
      "    'optimal_point': array([-1.83321799, -0.75621113,  0.50273632,  3.31797543, -0.87490834,\n",
      "        0.14869018, -2.33988219, -0.76920571,  3.2888371 ,  1.10334054,\n",
      "       -1.89068431,  1.18534396, -1.81877118,  1.0030639 ,  0.31084913,\n",
      "        0.4162368 ,  1.8883368 ,  1.6239354 ]),\n",
      "    'optimal_value': -2.27374e-13,\n",
      "    'optimizer_evals': 100,\n",
      "    'optimizer_time': 52.303062200546265}\n"
     ]
    }
   ],
   "source": [
    "from qiskit.circuit.library import RealAmplitudes\n",
    "from qiskit.algorithms.optimizers import COBYLA\n",
    "from qiskit.algorithms import NumPyMinimumEigensolver, VQE\n",
    "from qiskit.opflow import PauliExpectation, CVaRExpectation\n",
    "from qiskit import execute, Aer\n",
    "\n",
    "# set classical optimizer\n",
    "maxiter = 100\n",
    "optimizer = COBYLA(maxiter=maxiter)\n",
    "\n",
    "# set variational ansatz\n",
    "ansatz = RealAmplitudes(7, reps=1)\n",
    "\n",
    "# set backend\n",
    "backend_name = 'qasm_simulator'  # use this for QASM simulator\n",
    "# backend_name = 'aer_simulator_statevector'  # use this for statevector simlator\n",
    "backend = Aer.get_backend(backend_name)  \n",
    "\n",
    "# run variational optimization for different values of alpha\n",
    "alphas = [0.15]  # confidence levels to be evaluated\n",
    "\n",
    "counts = []\n",
    "values = []\n",
    "    \n",
    "def store_intermediate_result(eval_count, parameters, mean, std):\n",
    "    counts.append(eval_count)\n",
    "    values.append(mean)\n",
    "\n",
    "# initialize CVaR_alpha objective\n",
    "cvar_exp = CVaRExpectation(alphas[0], PauliExpectation())\n",
    "\n",
    "# initialize VQE using CVaR\n",
    "vqe = VQE(expectation=cvar_exp, optimizer=optimizer, ansatz=ansatz, quantum_instance=backend,\n",
    "          callback=store_intermediate_result)\n",
    "\n",
    "eigenvalue = vqe.compute_minimum_eigenvalue(qubit_op)\n",
    "# print results\n",
    "print(eigenvalue)"
   ]
  },
  {
   "cell_type": "code",
   "execution_count": 11,
   "id": "ef2d727b",
   "metadata": {},
   "outputs": [
    {
     "data": {
      "image/png": "[encoded data removed]",
      "text/plain": [
       "<Figure size 640x480 with 2 Axes>"
      ]
     },
     "metadata": {},
     "output_type": "display_data"
    }
   ],
   "source": [
    "import matplotlib.pyplot as plt\n",
    "\n",
    "fig = plt.figure()\n",
    "\n",
    "plt.plot(counts,values)\n",
    "plt.xlabel('Energy')\n",
    "plt.ylabel('VQE Iterations')\n",
    "\n",
    "fig.add_axes([0.35,0.52,0.5,0.3])\n",
    "\n",
    "plt.plot(counts[70:],values[70:])\n",
    "plt.xlabel('Energy')\n",
    "plt.ylabel('VQE Iterations')\n",
    "plt.show()"
   ]
  },
  {
   "cell_type": "code",
   "execution_count": null,
   "id": "f5ad6196",
   "metadata": {},
   "outputs": [],
   "source": []
  },
  {
   "cell_type": "code",
   "execution_count": null,
   "id": "5fa70c64",
   "metadata": {},
   "outputs": [],
   "source": []
  }
 ],
 "metadata": {
  "kernelspec": {
   "display_name": "Python 3",
   "language": "python",
   "name": "python3"
  },
  "language_info": {
   "codemirror_mode": {
    "name": "ipython",
    "version": 3
   },
   "file_extension": ".py",
   "mimetype": "text/x-python",
   "name": "python",
   "nbconvert_exporter": "python",
   "pygments_lexer": "ipython3",
   "version": "3.7.10"
  }
 },
 "nbformat": 4,
 "nbformat_minor": 5
}
