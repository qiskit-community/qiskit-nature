{
 "cells": [
  {
   "cell_type": "markdown",
   "id": "739993c7",
   "metadata": {},
   "source": [
    "# Protein Folding"
   ]
  },
  {
   "cell_type": "markdown",
   "id": "d64f8162",
   "metadata": {},
   "source": [
    "### Introduction"
   ]
  },
  {
   "cell_type": "markdown",
   "id": "3bd209d1",
   "metadata": {},
   "source": [
    "The structure and function of many natural and human-engineered\n",
    "proteins is still only poorly understood. As a result, our understanding of\n",
    "processes connected with protein folding, such as those encountered in\n",
    "Alzheimer’s disease, vaccine development, and crop improvement\n",
    "research, has remained limited.\n",
    "\n",
    "Unfolded polypeptides have a very large number of degrees of freedom\n",
    "and thus an enormous number of potential conformations. For example, a\n",
    "chain with 100 aminoacids has on the order of 10<sup>47</sup> conformations. In\n",
    "reality, however, many proteins fold to their native structure within\n",
    "seconds. This is known as Levinthal’s paradox [1].\n",
    "\n",
    "The exponential growth of potential conformations with chain length\n",
    "makes the problem intractable for classical computers. In the quantum\n",
    "framework, our resource-efficient algorithm scales linearly with\n",
    "the number of amino acids N.\n",
    "\n",
    "\n",
    "<font size='2'>[1] https://en.wikipedia.org/wiki/Levinthal%27s_paradox </font>"
   ]
  },
  {
   "cell_type": "markdown",
   "id": "3110941f",
   "metadata": {},
   "source": [
    "The goal of this work is to determine the minimum energy conformation of a protein. Starting from a random configuration, the protein's structure is optimized to lower the energy. This can be achieved by encoding the protein folding problem into a qubit operator and ensuring that all physical constrains are satisfied. "
   ]
  },
  {
   "cell_type": "markdown",
   "id": "29deb98b",
   "metadata": {},
   "source": [
    "For the problem encoding we use: \n",
    "\n",
    "- Configuration qubits: qubits that are used to describe the configurations and the relative position of the different beads\n",
    "- Interaction qubits: qubits that encode interactions between the different aminoacids\n",
    "\n",
    "For our case we use a tetrahydral lattice (diamond shape lattice) where we encode the movement through the configuration qubits (see image below). \n",
    "\n",
    "<img src=\"aux_files/lattice_protein.png\" width=\"300\">"
   ]
  },
  {
   "cell_type": "markdown",
   "id": "f571d4a8",
   "metadata": {},
   "source": [
    "The Hamiltonian of the system for a set of qubits $\\mathbf{q}=\\{\\mathbf{q}_{cf}, \\mathbf{q}_{in}\\}$ is \n",
    "\n",
    "$$H(\\mathbf{q}) = H_{gc}(\\mathbf{q}_{cf}) + H_{ch}(\\mathbf{q}_{cf}) + H_{in}(\\mathbf{q}) $$\n",
    "\n",
    "where \n",
    "- $H_{gc}$ is the geometrical constraint term (governing the growth of the primary sequence of aminoacids without bifurcations\n",
    "- $H_{ch}$ is the chirality constraint (enforcing the right stereochemistry for the system)\n",
    "- $H_{in}$ is the interaction energy terms of the system. In our case we consider only nearest neighbor interactions. "
   ]
  },
  {
   "cell_type": "markdown",
   "id": "62d99a5f",
   "metadata": {},
   "source": [
    "Further details about the used model and the encoding of the problem can be found in [2].\n",
    "\n",
    "<font size='2'>[2] A.Robert, P.Barkoutsos, S.Woerner and I.Tavernelli, Resource-efficient quantum algorithm for protein folding, NPJ Quantum Information, 2021 </font>"
   ]
  },
  {
   "cell_type": "code",
   "execution_count": 1,
   "id": "8f541d04",
   "metadata": {},
   "outputs": [],
   "source": [
    "from qiskit_nature.problems.sampling.protein_folding.interactions.random_interaction import RandomInteraction \n",
    "from qiskit_nature.problems.sampling.protein_folding.interactions.miyazawa_jernigan_interaction import MiyazawaJerniganInteraction \n",
    "from qiskit_nature.problems.sampling.protein_folding.peptide.peptide import Peptide\n",
    "from qiskit_nature.problems.sampling.protein_folding.protein_folding_problem import ProteinFoldingProblem\n",
    "\n",
    "from qiskit_nature.problems.sampling.protein_folding.penalty_parameters import PenaltyParameters\n",
    "\n",
    "from qiskit.utils import algorithm_globals, QuantumInstance\n",
    "\n",
    "algorithm_globals.random_seed = 42"
   ]
  },
  {
   "cell_type": "markdown",
   "id": "fced9189",
   "metadata": {},
   "source": [
    "### Protein Main Chain"
   ]
  },
  {
   "cell_type": "markdown",
   "id": "350c031c",
   "metadata": {},
   "source": [
    "The Protein consists of a main chain that is a linear chain of aminoacids. For the naming of different residues we use the one-letter code as defined in Ref. [3]. Further details about the naming and the type of aminoacids can also be found in [4].\n",
    "\n",
    "For this particular case we demonstrate the generation of the qubit operator in a neuropeptide with the main chain consisting of 7 aminoacids with letter codes APRLRFY (see also [2]).\n",
    "\n",
    "<font size=\"2\">[3] IUPAC–IUB Commission on Biochemical Nomenclature (1972). \"A one-letter notation for aminoacid sequences\". Pure and Applied Chemistry. 31 (4): 641–645. doi:10.1351/pac197231040639. PMID 5080161.</font> <br>\n",
    "<font size=\"2\">[4] https://en.wikipedia.org/wiki/Amino_acid</font>"
   ]
  },
  {
   "cell_type": "code",
   "execution_count": 2,
   "id": "bf140d37",
   "metadata": {},
   "outputs": [],
   "source": [
    "main_chain = \"APRLRFY\""
   ]
  },
  {
   "cell_type": "markdown",
   "id": "e399913f",
   "metadata": {},
   "source": [
    "### Side Chains"
   ]
  },
  {
   "cell_type": "markdown",
   "id": "d71b4571",
   "metadata": {},
   "source": [
    "Beyond the main chain of the protein there may be aminoacids attached to the residues of the main chain. Our model allows for side chains of the maximum length of one. Elongated side chains would require the introduction of additional penalty terms which are still under development. "
   ]
  },
  {
   "cell_type": "code",
   "execution_count": 3,
   "id": "4d148961",
   "metadata": {},
   "outputs": [],
   "source": [
    "side_chains = ['']*7"
   ]
  },
  {
   "cell_type": "markdown",
   "id": "948d6e75",
   "metadata": {},
   "source": [
    "### Interaction between Aminoacids"
   ]
  },
  {
   "cell_type": "markdown",
   "id": "960e20e9",
   "metadata": {},
   "source": [
    "For the description of inter-residue contacts for proteins we use knowledge-based (statistical) potentials derived using quasi-chemical approximation. The potentials used here are introduced by Miyazawa, S. and Jernigan, R. L. in [5]. \n",
    "\n",
    "Beyond this model we also allow for random contact maps (interactions) that provide a random interaction map. One can also introduce a custom interaction map that enhances certain configurations of the protein (e.g. alpha helix, beta sheet etc). \n",
    "\n",
    "<font size=\"2\"> [5] J. Mol. Biol.256, 623–644 (1996), Table 3. </font>"
   ]
  },
  {
   "cell_type": "code",
   "execution_count": 4,
   "id": "26908e43",
   "metadata": {},
   "outputs": [],
   "source": [
    "random_interaction = RandomInteraction()\n",
    "mj_interaction = MiyazawaJerniganInteraction()"
   ]
  },
  {
   "cell_type": "markdown",
   "id": "94612caf",
   "metadata": {},
   "source": [
    "### Physical Constraints"
   ]
  },
  {
   "cell_type": "markdown",
   "id": "cf834eb2",
   "metadata": {},
   "source": [
    "To ensure that all physical constraints are respected we introduce penalty functions. The different penalty terms used are: \n",
    "- penalty_chiral: A penalty parameter used to impose the right chirality.\n",
    "- penalty_back: A penalty parameter used to penalize turns along the same axis. This term is used to eliminate sequences where the same axis is chosen twice in a row. In this way we do not allow for a chain to fold back into itself.\n",
    "- penalty_1: A penalty parameter used to penalize local overlap between beads within a nearest neighbor contact."
   ]
  },
  {
   "cell_type": "code",
   "execution_count": 5,
   "id": "e4d0feae",
   "metadata": {},
   "outputs": [],
   "source": [
    "lambda_back = 10\n",
    "lambda_chiral = 10\n",
    "lambda_1 = 10\n",
    "\n",
    "penalty_terms = PenaltyParameters(lambda_chiral, lambda_back, lambda_1)"
   ]
  },
  {
   "cell_type": "markdown",
   "id": "7426b407",
   "metadata": {},
   "source": [
    "### Peptide Definition\n"
   ]
  },
  {
   "cell_type": "markdown",
   "id": "466014ee",
   "metadata": {},
   "source": [
    "Based on the main chain and possible side chains we define the peptide object that includes all the structural information of the modeled system."
   ]
  },
  {
   "cell_type": "code",
   "execution_count": 6,
   "id": "d37df517",
   "metadata": {},
   "outputs": [],
   "source": [
    "peptide = Peptide(main_chain,side_chains)"
   ]
  },
  {
   "cell_type": "markdown",
   "id": "cb67de5f",
   "metadata": {},
   "source": [
    "### Protein Folding Problem "
   ]
  },
  {
   "cell_type": "markdown",
   "id": "e49b89bb",
   "metadata": {},
   "source": [
    "Based on the defined peptide, the interaction (contact map) and the penalty terms we defined for our model we define the protein folding problem that returns qubit operators.\n"
   ]
  },
  {
   "cell_type": "code",
   "execution_count": 7,
   "id": "17ac5b7f",
   "metadata": {},
   "outputs": [],
   "source": [
    "protein_folding_problem = ProteinFoldingProblem(peptide, random_interaction, penalty_terms)\n",
    "qubit_op = protein_folding_problem.qubit_op()"
   ]
  },
  {
   "cell_type": "code",
   "execution_count": 8,
   "id": "6c41d668",
   "metadata": {
    "scrolled": true
   },
   "outputs": [
    {
     "name": "stdout",
     "output_type": "stream",
     "text": [
      "1613.8185044761667 * IIIIIIIII\n",
      "- 701.9612238842058 * ZIIIIIIII\n",
      "- 904.3572805919612 * IZIIIIIII\n",
      "+ 192.5 * IIZIIIIII\n",
      "- 200.0 * ZIZIIIIII\n",
      "+ 7.5 * IZZIIIIII\n",
      "+ 105.0 * IIIZIIIII\n",
      "- 105.0 * ZIIZIIIII\n",
      "+ 95.0 * IIZZIIIII\n",
      "- 100.0 * ZIZZIIIII\n",
      "+ 5.0 * IZZZIIIII\n",
      "- 497.5 * IIIIZIIII\n",
      "+ 195.0 * ZIIIZIIII\n",
      "+ 302.5 * IZIIZIIII\n",
      "- 95.0 * IIZIZIIII\n",
      "+ 100.0 * ZIZIZIIII\n",
      "- 2.5 * IZZIZIIII\n",
      "- 100.0 * IIIIIZIII\n",
      "+ 102.5 * ZIIIIZIII\n",
      "- 2.5 * IZIIIZIII\n",
      "- 95.0 * IIIZIZIII\n",
      "+ 100.0 * ZIIZIZIII\n",
      "- 2.5 * IZIZIZIII\n",
      "- 300.0 * IIIIZZIII\n",
      "+ 97.5 * ZIIIZZIII\n",
      "+ 202.5 * IZIIZZIII\n",
      "- 95.0 * IIZZZZIII\n",
      "+ 100.0 * ZIZZZZIII\n",
      "- 2.5 * IZZZZZIII\n",
      "+ 487.5 * IIIIIIZII\n",
      "- 195.0 * ZIIIIIZII\n",
      "- 295.0 * IZIIIIZII\n",
      "+ 97.5 * IIZIIIZII\n",
      "- 100.0 * ZIZIIIZII\n",
      "+ 2.5 * IZZIIIZII\n",
      "- 195.0 * IIIIZIZII\n",
      "+ 97.5 * ZIIIZIZII\n",
      "+ 100.0 * IZIIZIZII\n",
      "+ 100.0 * IIIIIIIZI\n",
      "- 102.5 * ZIIIIIIZI\n",
      "+ 2.5 * IZIIIIIZI\n",
      "+ 97.5 * IIIZIIIZI\n",
      "- 100.0 * ZIIZIIIZI\n",
      "+ 2.5 * IZIZIIIZI\n",
      "- 195.0 * IIIIIZIZI\n",
      "+ 97.5 * ZIIIIZIZI\n",
      "+ 100.0 * IZIIIZIZI\n",
      "+ 295.0 * IIIIIIZZI\n",
      "- 97.5 * ZIIIIIZZI\n",
      "- 197.5 * IZIIIIZZI\n",
      "+ 97.5 * IIZZIIZZI\n",
      "- 100.0 * ZIZZIIZZI\n",
      "+ 2.5 * IZZZIIZZI\n",
      "- 195.0 * IIIIZZZZI\n",
      "+ 97.5 * ZIIIZZZZI\n",
      "+ 100.0 * IZIIZZZZI\n",
      "+ 195.0 * IIIIIIIIZ\n",
      "+ 5.0 * ZIIIIIIIZ\n",
      "- 200.0 * IZIIIIIIZ\n",
      "- 97.5 * IIIZIIIIZ\n",
      "+ 100.0 * ZIIZIIIIZ\n",
      "- 2.5 * IZIZIIIIZ\n",
      "+ 97.5 * IIZZIIIIZ\n",
      "- 100.0 * ZIZZIIIIZ\n",
      "+ 2.5 * IZZZIIIIZ\n",
      "+ 197.5 * IIIIIZIIZ\n",
      "- 97.5 * ZIIIIZIIZ\n",
      "- 100.0 * IZIIIZIIZ\n",
      "- 197.5 * IIIIZZIIZ\n",
      "+ 97.5 * ZIIIZZIIZ\n",
      "+ 100.0 * IZIIZZIIZ\n",
      "- 192.5 * IIIIIIIZZ\n",
      "+ 97.5 * ZIIIIIIZZ\n",
      "+ 97.5 * IZIIIIIZZ\n",
      "+ 192.5 * IIIIIIZZZ\n",
      "- 97.5 * ZIIIIIZZZ\n",
      "- 97.5 * IZIIIIZZZ\n"
     ]
    }
   ],
   "source": [
    "print(qubit_op)"
   ]
  },
  {
   "cell_type": "markdown",
   "id": "f170cad7",
   "metadata": {},
   "source": [
    "### Using VQE with CVAR expecation value for the solution of the problem"
   ]
  },
  {
   "cell_type": "markdown",
   "id": "0f2d3e2c",
   "metadata": {},
   "source": [
    "The problem that we are tackling has now implement all the physical constraints and has a diagonal Hamiltonian. We can use the Variational Quantum Eigensolver with Conditional Value at Risk (CVAR) expectation value for the solution of the problem and for finding the minimum configuration energy [6] . We follow the same approach as in Ref. [2] but here we use COBYLA for the classical optimization part. \n",
    "\n",
    "<font size=\"2\"> [6] P.Barkoutsos, G. Nannichini, A.Robert, I.Tavernelli, S.Woerner, Improving Variational Quantum Optimization using CVaR, Quantum 4, 256, 2020  </font>"
   ]
  },
  {
   "cell_type": "code",
   "execution_count": 25,
   "id": "f6dc43e7",
   "metadata": {},
   "outputs": [
    {
     "name": "stdout",
     "output_type": "stream",
     "text": [
      "{   'aux_operator_eigenvalues': None,\n",
      "    'cost_function_evals': 50,\n",
      "    'eigenstate': {   '000000001': 0.011048543456039806,\n",
      "                      '000001001': 0.015625,\n",
      "                      '000001101': 0.011048543456039806,\n",
      "                      '000010001': 0.015625,\n",
      "                      '000010101': 0.011048543456039806,\n",
      "                      '000010110': 0.011048543456039806,\n",
      "                      '000011001': 0.02209708691207961,\n",
      "                      '000011101': 0.011048543456039806,\n",
      "                      '000100001': 0.05298695299316616,\n",
      "                      '000100010': 0.024705294220065465,\n",
      "                      '000100011': 0.011048543456039806,\n",
      "                      '000100100': 0.019136638615493577,\n",
      "                      '000100101': 0.08629188294677548,\n",
      "                      '000100110': 0.04941058844013093,\n",
      "                      '000101000': 0.015625,\n",
      "                      '000101001': 0.07328774624724109,\n",
      "                      '000101010': 0.05298695299316616,\n",
      "                      '000110001': 0.011048543456039806,\n",
      "                      '000111000': 0.011048543456039806,\n",
      "                      '000111001': 0.04941058844013093,\n",
      "                      '000111010': 0.027063293868263706,\n",
      "                      '001000000': 0.046875,\n",
      "                      '001000001': 0.19825902406952375,\n",
      "                      '001000010': 0.12153397801643785,\n",
      "                      '001000011': 0.011048543456039806,\n",
      "                      '001000100': 0.06810779599282303,\n",
      "                      '001000101': 0.3365728004459065,\n",
      "                      '001000110': 0.19200321449132043,\n",
      "                      '001001000': 0.05298695299316616,\n",
      "                      '001001001': 0.24951124097923924,\n",
      "                      '001001010': 0.1608692209529219,\n",
      "                      '001001011': 0.03125,\n",
      "                      '001010001': 0.04133986423538423,\n",
      "                      '001010010': 0.027063293868263706,\n",
      "                      '001010100': 0.024705294220065465,\n",
      "                      '001010101': 0.12103072956898178,\n",
      "                      '001010110': 0.07493486755176124,\n",
      "                      '001011000': 0.011048543456039806,\n",
      "                      '001011001': 0.05298695299316616,\n",
      "                      '001011010': 0.05298695299316616,\n",
      "                      '001011101': 0.05740991584648074,\n",
      "                      '001011110': 0.029231698334171417,\n",
      "                      '001100001': 0.034938562148434216,\n",
      "                      '001100010': 0.03125,\n",
      "                      '001100101': 0.0427908248050911,\n",
      "                      '001100110': 0.027063293868263706,\n",
      "                      '001101000': 0.029231698334171417,\n",
      "                      '001101001': 0.09568319307746789,\n",
      "                      '001101010': 0.0625,\n",
      "                      '001101101': 0.02209708691207961,\n",
      "                      '001101110': 0.019136638615493577,\n",
      "                      '001110000': 0.011048543456039806,\n",
      "                      '001110001': 0.06051536478449089,\n",
      "                      '001110010': 0.04133986423538423,\n",
      "                      '001110100': 0.019136638615493577,\n",
      "                      '001110101': 0.07245014449606019,\n",
      "                      '001110110': 0.05182226234930312,\n",
      "                      '001111000': 0.027063293868263706,\n",
      "                      '001111001': 0.11899645477912357,\n",
      "                      '001111010': 0.06987712429686843,\n",
      "                      '001111110': 0.011048543456039806,\n",
      "                      '010000000': 0.015625,\n",
      "                      '010000001': 0.05846339666834283,\n",
      "                      '010000010': 0.036643873123620545,\n",
      "                      '010000100': 0.011048543456039806,\n",
      "                      '010000101': 0.09309668193603894,\n",
      "                      '010000110': 0.04941058844013093,\n",
      "                      '010001000': 0.019136638615493577,\n",
      "                      '010001001': 0.0855816496101822,\n",
      "                      '010001010': 0.04555431167847891,\n",
      "                      '010010001': 0.015625,\n",
      "                      '010010010': 0.011048543456039806,\n",
      "                      '010011001': 0.04555431167847891,\n",
      "                      '010011010': 0.027063293868263706,\n",
      "                      '010011011': 0.011048543456039806,\n",
      "                      '010011101': 0.019136638615493577,\n",
      "                      '010011110': 0.011048543456039806,\n",
      "                      '010100000': 0.02209708691207961,\n",
      "                      '010100001': 0.07967217989988726,\n",
      "                      '010100010': 0.036643873123620545,\n",
      "                      '010100011': 0.011048543456039806,\n",
      "                      '010100100': 0.02209708691207961,\n",
      "                      '010100101': 0.10245997694221876,\n",
      "                      '010100110': 0.06051536478449089,\n",
      "                      '010101000': 0.03125,\n",
      "                      '010101001': 0.11481983169296148,\n",
      "                      '010101010': 0.06442352540027595,\n",
      "                      '010101011': 0.019136638615493577,\n",
      "                      '010110001': 0.02209708691207961,\n",
      "                      '010110010': 0.019136638615493577,\n",
      "                      '010110100': 0.011048543456039806,\n",
      "                      '010110110': 0.015625,\n",
      "                      '010111000': 0.027063293868263706,\n",
      "                      '010111001': 0.08699631816921909,\n",
      "                      '010111010': 0.05524271728019903,\n",
      "                      '010111101': 0.024705294220065465,\n",
      "                      '010111110': 0.019136638615493577,\n",
      "                      '011000000': 0.0427908248050911,\n",
      "                      '011000001': 0.18652088103614567,\n",
      "                      '011000010': 0.10993161937086163,\n",
      "                      '011000011': 0.015625,\n",
      "                      '011000100': 0.05412658773652741,\n",
      "                      '011000101': 0.3138642097906354,\n",
      "                      '011000110': 0.17573784186253114,\n",
      "                      '011000111': 0.011048543456039806,\n",
      "                      '011001000': 0.05063078670631141,\n",
      "                      '011001001': 0.22963966338592295,\n",
      "                      '011001010': 0.15027643798180737,\n",
      "                      '011001011': 0.027063293868263706,\n",
      "                      '011010001': 0.03125,\n",
      "                      '011010010': 0.015625,\n",
      "                      '011010100': 0.02209708691207961,\n",
      "                      '011010101': 0.11848242881330548,\n",
      "                      '011010110': 0.0625,\n",
      "                      '011011001': 0.06720566614877052,\n",
      "                      '011011010': 0.038273277230987154,\n",
      "                      '011011100': 0.015625,\n",
      "                      '011011101': 0.04419417382415922,\n",
      "                      '011011110': 0.027063293868263706,\n",
      "                      '011100000': 0.02209708691207961,\n",
      "                      '011100001': 0.05412658773652741,\n",
      "                      '011100010': 0.03125,\n",
      "                      '011100101': 0.06720566614877052,\n",
      "                      '011100110': 0.038273277230987154,\n",
      "                      '011101000': 0.024705294220065465,\n",
      "                      '011101001': 0.10126157341262282,\n",
      "                      '011101010': 0.06987712429686843,\n",
      "                      '011101011': 0.015625,\n",
      "                      '011101101': 0.019136638615493577,\n",
      "                      '011110000': 0.011048543456039806,\n",
      "                      '011110001': 0.05298695299316616,\n",
      "                      '011110010': 0.034938562148434216,\n",
      "                      '011110100': 0.015625,\n",
      "                      '011110101': 0.078125,\n",
      "                      '011110110': 0.04419417382415922,\n",
      "                      '011111000': 0.03125,\n",
      "                      '011111001': 0.11158481919598204,\n",
      "                      '011111010': 0.06536406457297465,\n",
      "                      '011111011': 0.015625,\n",
      "                      '011111100': 0.011048543456039806,\n",
      "                      '011111101': 0.015625,\n",
      "                      '011111110': 0.011048543456039806,\n",
      "                      '100010001': 0.011048543456039806,\n",
      "                      '100010101': 0.011048543456039806,\n",
      "                      '100010110': 0.011048543456039806,\n",
      "                      '100011001': 0.011048543456039806,\n",
      "                      '100100001': 0.029231698334171417,\n",
      "                      '100100010': 0.02209708691207961,\n",
      "                      '100100100': 0.015625,\n",
      "                      '100100101': 0.048159484398195125,\n",
      "                      '100100110': 0.03125,\n",
      "                      '100101001': 0.04941058844013093,\n",
      "                      '100101010': 0.03125,\n",
      "                      '100111001': 0.024705294220065465,\n",
      "                      '100111010': 0.015625,\n",
      "                      '100111101': 0.011048543456039806,\n",
      "                      '101000000': 0.015625,\n",
      "                      '101000001': 0.12253427454186033,\n",
      "                      '101000010': 0.06987712429686843,\n",
      "                      '101000100': 0.03983608994994363,\n",
      "                      '101000101': 0.20581156050499205,\n",
      "                      '101000110': 0.11481983169296148,\n",
      "                      '101000111': 0.011048543456039806,\n",
      "                      '101001000': 0.034938562148434216,\n",
      "                      '101001001': 0.15428451295415233,\n",
      "                      '101001010': 0.09177609472242758,\n",
      "                      '101001011': 0.019136638615493577,\n",
      "                      '101010001': 0.024705294220065465,\n",
      "                      '101010100': 0.011048543456039806,\n",
      "                      '101010101': 0.06346905003621844,\n",
      "                      '101010110': 0.034938562148434216,\n",
      "                      '101011000': 0.015625,\n",
      "                      '101011001': 0.034938562148434216,\n",
      "                      '101011010': 0.02209708691207961,\n",
      "                      '101011101': 0.024705294220065465,\n",
      "                      '101011110': 0.019136638615493577,\n",
      "                      '101100001': 0.029231698334171417,\n",
      "                      '101100010': 0.02209708691207961,\n",
      "                      '101100101': 0.027063293868263706,\n",
      "                      '101100110': 0.019136638615493577,\n",
      "                      '101101000': 0.019136638615493577,\n",
      "                      '101101001': 0.05182226234930312,\n",
      "                      '101101010': 0.04555431167847891,\n",
      "                      '101110000': 0.011048543456039806,\n",
      "                      '101110001': 0.036643873123620545,\n",
      "                      '101110010': 0.015625,\n",
      "                      '101110011': 0.011048543456039806,\n",
      "                      '101110100': 0.019136638615493577,\n",
      "                      '101110101': 0.04941058844013093,\n",
      "                      '101110110': 0.027063293868263706,\n",
      "                      '101111000': 0.02209708691207961,\n",
      "                      '101111001': 0.07733980419227864,\n",
      "                      '101111010': 0.0427908248050911,\n",
      "                      '111000001': 0.011048543456039806,\n",
      "                      '111000010': 0.011048543456039806,\n",
      "                      '111000101': 0.024705294220065465,\n",
      "                      '111011010': 0.011048543456039806},\n",
      "    'eigenvalue': -1.2854388160778853,\n",
      "    'optimal_parameters': {   ParameterVectorElement(θ[8]): 0.1312700132463161,\n",
      "                              ParameterVectorElement(θ[10]): 0.5260926237228705,\n",
      "                              ParameterVectorElement(θ[9]): 3.8598297083630317,\n",
      "                              ParameterVectorElement(θ[17]): 0.4514225295636882,\n",
      "                              ParameterVectorElement(θ[16]): -1.4576852201280377,\n",
      "                              ParameterVectorElement(θ[15]): 2.6575270849604924,\n",
      "                              ParameterVectorElement(θ[14]): 2.4932718475763584,\n",
      "                              ParameterVectorElement(θ[1]): -0.08622850418033487,\n",
      "                              ParameterVectorElement(θ[5]): -0.5017606811505576,\n",
      "                              ParameterVectorElement(θ[6]): 0.27630087679572474,\n",
      "                              ParameterVectorElement(θ[7]): 0.5969199936117994,\n",
      "                              ParameterVectorElement(θ[4]): 3.805753367598077,\n",
      "                              ParameterVectorElement(θ[2]): -2.245339736036496,\n",
      "                              ParameterVectorElement(θ[3]): -2.5291176964810362,\n",
      "                              ParameterVectorElement(θ[0]): 0.9758597166845857,\n",
      "                              ParameterVectorElement(θ[13]): -0.043120572613139264,\n",
      "                              ParameterVectorElement(θ[12]): 1.0618112706939722,\n",
      "                              ParameterVectorElement(θ[11]): 1.680502896165807},\n",
      "    'optimal_point': array([ 0.97585972,  0.52609262,  1.6805029 ,  1.06181127, -0.04312057,\n",
      "        2.49327185,  2.65752708, -1.45768522,  0.45142253, -0.0862285 ,\n",
      "       -2.24533974, -2.5291177 ,  3.80575337, -0.50176068,  0.27630088,\n",
      "        0.59691999,  0.13127001,  3.85982971]),\n",
      "    'optimal_value': -1.2854388160778853,\n",
      "    'optimizer_evals': 50,\n",
      "    'optimizer_time': 35.76891589164734}\n"
     ]
    }
   ],
   "source": [
    "from qiskit.circuit.library import RealAmplitudes\n",
    "from qiskit.algorithms.optimizers import COBYLA\n",
    "from qiskit.algorithms import NumPyMinimumEigensolver, VQE\n",
    "from qiskit.opflow import PauliExpectation, CVaRExpectation\n",
    "from qiskit import execute, Aer\n",
    "\n",
    "# set classical optimizer\n",
    "optimizer = COBYLA(maxiter=50)\n",
    "\n",
    "# set variational ansatz\n",
    "ansatz = RealAmplitudes(7, reps=1)\n",
    "\n",
    "#set the backend\n",
    "backend_name = 'qasm_simulator' \n",
    "backend = QuantumInstance(\n",
    "    Aer.get_backend(backend_name),\n",
    "    shots=8192,\n",
    "    seed_transpiler=algorithm_globals.random_seed,\n",
    "    seed_simulator=algorithm_globals.random_seed)\n",
    "\n",
    "counts = []\n",
    "values = []\n",
    "    \n",
    "def store_intermediate_result(eval_count, parameters, mean, std):\n",
    "    counts.append(eval_count)\n",
    "    values.append(mean)\n",
    "\n",
    "# initialize CVaR_alpha objective with alpha = 0.1\n",
    "cvar_exp = CVaRExpectation(0.1, PauliExpectation())\n",
    "\n",
    "# initialize VQE using CVaR\n",
    "vqe = VQE(expectation=cvar_exp, optimizer=optimizer, ansatz=ansatz, quantum_instance=backend,\n",
    "          callback=store_intermediate_result)\n",
    "\n",
    "eigenvalue = vqe.compute_minimum_eigenvalue(qubit_op)\n",
    "print(eigenvalue)"
   ]
  },
  {
   "cell_type": "code",
   "execution_count": 28,
   "id": "ef2d727b",
   "metadata": {},
   "outputs": [
    {
     "data": {
      "image/png": "[encoded data removed]",
      "text/plain": [
       "<Figure size 640x480 with 2 Axes>"
      ]
     },
     "metadata": {},
     "output_type": "display_data"
    }
   ],
   "source": [
    "import matplotlib.pyplot as plt\n",
    "\n",
    "fig = plt.figure()\n",
    "\n",
    "plt.plot(counts,values)\n",
    "plt.ylabel('Conformation Energy')\n",
    "plt.xlabel('VQE Iterations')\n",
    "\n",
    "fig.add_axes([0.44,0.51,0.44,0.32])\n",
    "\n",
    "plt.plot(counts[40:],values[40:])\n",
    "plt.ylabel('Conformation Energy')\n",
    "plt.xlabel('VQE Iterations')\n",
    "plt.show()"
   ]
  },
  {
   "cell_type": "code",
   "execution_count": 27,
   "id": "f5ad6196",
   "metadata": {},
   "outputs": [
    {
     "data": {
      "text/html": [
       "<h3>Version Information</h3><table><tr><th>Qiskit Software</th><th>Version</th></tr><tr><td>Qiskit</td><td>0.26.2</td></tr><tr><td>Terra</td><td>0.18.0.dev0+33e7448</td></tr><tr><td>Aer</td><td>0.8.2</td></tr><tr><td>Ignis</td><td>0.6.0</td></tr><tr><td>Aqua</td><td>0.9.1</td></tr><tr><td>IBM Q Provider</td><td>0.13.1</td></tr><tr><th>System information</th></tr><tr><td>Python</td><td>3.7.10 (default, Feb 26 2021, 10:16:00) \n",
       "[Clang 10.0.0 ]</td></tr><tr><td>OS</td><td>Darwin</td></tr><tr><td>CPUs</td><td>6</td></tr><tr><td>Memory (Gb)</td><td>16.0</td></tr><tr><td colspan='2'>Fri Aug 13 16:36:28 2021 CEST</td></tr></table>"
      ],
      "text/plain": [
       "<IPython.core.display.HTML object>"
      ]
     },
     "metadata": {},
     "output_type": "display_data"
    },
    {
     "data": {
      "text/html": [
       "<div style='width: 100%; background-color:#d5d9e0;padding-left: 10px; padding-bottom: 10px; padding-right: 10px; padding-top: 5px'><h3>This code is a part of Qiskit</h3><p>&copy; Copyright IBM 2017, 2021.</p><p>This code is licensed under the Apache License, Version 2.0. You may<br>obtain a copy of this license in the LICENSE.txt file in the root directory<br> of this source tree or at http://www.apache.org/licenses/LICENSE-2.0.<p>Any modifications or derivative works of this code must retain this<br>copyright notice, and modified files need to carry a notice indicating<br>that they have been altered from the originals.</p></div>"
      ],
      "text/plain": [
       "<IPython.core.display.HTML object>"
      ]
     },
     "metadata": {},
     "output_type": "display_data"
    }
   ],
   "source": [
    "import qiskit.tools.jupyter\n",
    "%qiskit_version_table\n",
    "%qiskit_copyright"
   ]
  }
 ],
 "metadata": {
  "kernelspec": {
   "display_name": "Python 3",
   "language": "python",
   "name": "python3"
  },
  "language_info": {
   "codemirror_mode": {
    "name": "ipython",
    "version": 3
   },
   "file_extension": ".py",
   "mimetype": "text/x-python",
   "name": "python",
   "nbconvert_exporter": "python",
   "pygments_lexer": "ipython3",
   "version": "3.7.10"
  }
 },
 "nbformat": 4,
 "nbformat_minor": 5
}
