{
 "cells": [
  {
   "cell_type": "markdown",
   "id": "739993c7",
   "metadata": {},
   "source": [
    "# Protein Folding"
   ]
  },
  {
   "cell_type": "markdown",
   "id": "d64f8162",
   "metadata": {},
   "source": [
    "### Introduction"
   ]
  },
  {
   "cell_type": "markdown",
   "id": "3bd209d1",
   "metadata": {},
   "source": [
    "The structure and function of many natural and human-engineered\n",
    "proteins is still only poorly understood. As a result, our understanding of\n",
    "processes connected with protein folding, such as those encountered in\n",
    "Alzheimer’s disease, vaccine development, and crop improvement\n",
    "research, has remained limited.\n",
    "\n",
    "Unfolded polypeptides have a very large number of degrees of freedom\n",
    "and thus an enormous number of potential conformations. For example, a\n",
    "chain with 100 amino acids has on the order of 10 conformations. In\n",
    "reality, however, many proteins fold to their native structure within\n",
    "seconds. This is known as Levinthal’s paradox [1].\n",
    "\n",
    "The exponential growth of potential conformations with chain length\n",
    "makes the problem intractable for classical computers. In the quantum\n",
    "framework, our resource-efficient algorithm scales linearly with\n",
    "the number of amino acids N.\n",
    "\n",
    "\n",
    "<font size='2'>[1] https://en.wikipedia.org/wiki/Levinthal%27s_paradox </font>"
   ]
  },
  {
   "cell_type": "markdown",
   "id": "3110941f",
   "metadata": {},
   "source": [
    "The goal of this work is to determine the minimum energy configuration of a protein. Starting from a random configuration, the protein's structure is optimized to lower the energy. This can be achieved by encoding the protein folding problem into a qubit operator and ensuring that all physical constrains are satisfied. "
   ]
  },
  {
   "cell_type": "markdown",
   "id": "29deb98b",
   "metadata": {},
   "source": [
    "For the problem encoding we use: \n",
    "\n",
    "- Configuration qubits: qubits that are used to describe the configurations and the relative position of the different beads\n",
    "- Interaction qubits: qubits that encode interacations between the different aminoacids\n",
    "\n",
    "For our case we use a tetrahydral lattice (diamond shape lattice) where we encode the movement through the configuration qubits (see image below). \n",
    "\n",
    "<img src=\"aux_files/lattice_protein.png\" width=\"300\">"
   ]
  },
  {
   "cell_type": "markdown",
   "id": "f571d4a8",
   "metadata": {},
   "source": [
    "The Hamiltonian of the system for a set of qubits $\\mathbf{q}=\\{\\mathbf{q}_{cf}, \\mathbf{q}_{in}\\}$ is \n",
    "\n",
    "$$H(\\mathbf{q}) = H_{gc}(\\mathbf{q}_{cf}) + H_{ch}(\\mathbf{q}_{cf}) + H_{in}(\\mathbf{q}) $$\n",
    "\n",
    "where \n",
    "- $H_{gc}$ is the geometrical constrain term (governing the growth of the primary sequence of aminoacids without bifurcations\n",
    "- $H_{ch}$ is the chirality constrain (enforcing the righ stereochemistry for the system)\n",
    "- $H_{in}$ is the interaction energy terms of the system. In our case we consider only nearest neighbor interactions. "
   ]
  },
  {
   "cell_type": "markdown",
   "id": "62d99a5f",
   "metadata": {},
   "source": [
    "Further details about the used model and the encoding of the problem can be found in [2].\n",
    "\n",
    "<font size='2'>[2] A.Robert, P.Barkoutsos, S.Woerner and I.Tavernelli, Resource-efficient quantum algorithm for protein folding, NPJ Quantum Information, 2021 </font>"
   ]
  },
  {
   "cell_type": "code",
   "execution_count": 1,
   "id": "8f541d04",
   "metadata": {},
   "outputs": [],
   "source": [
    "from qiskit_nature.problems.sampling.protein_folding.interactions.random_interaction import RandomInteraction \n",
    "from qiskit_nature.problems.sampling.protein_folding.interactions.miyazawa_jernigan_interaction import MiyazawaJerniganInteraction \n",
    "from qiskit_nature.problems.sampling.protein_folding.peptide.peptide import Peptide\n",
    "from qiskit_nature.problems.sampling.protein_folding.protein_folding_problem import ProteinFoldingProblem\n",
    "\n",
    "from qiskit_nature.problems.sampling.protein_folding.penalty_parameters import PenaltyParameters"
   ]
  },
  {
   "cell_type": "markdown",
   "id": "fced9189",
   "metadata": {},
   "source": [
    "### Protein Main Chain"
   ]
  },
  {
   "cell_type": "markdown",
   "id": "350c031c",
   "metadata": {},
   "source": [
    "The Protein consists of a main chain that is a linear chain of aminoacids. For the naming of different residues we use the one-letter code as defined in Reference [3]. Further details about the naming and the type of aminoacids can also be found in [4].\n",
    "\n",
    "For this particular case we demonstrate the generation of the qubit operator in a neuropeptide with the main chain consisting of 7 aminoacids with letter codes APRLFY (see also [2]).\n",
    "\n",
    "<font size=\"2\">[3] IUPAC–IUB Commission on Biochemical Nomenclature (1972). \"A one-letter notation for amino acid sequences\". Pure and Applied Chemistry. 31 (4): 641–645. doi:10.1351/pac197231040639. PMID 5080161.</font> <br>\n",
    "<font size=\"2\">[4] https://en.wikipedia.org/wiki/Amino_acid</font>"
   ]
  },
  {
   "cell_type": "code",
   "execution_count": 2,
   "id": "bf140d37",
   "metadata": {},
   "outputs": [],
   "source": [
    "main_chain_len = 7\n",
    "main_chain_residue_seq = [\"A\", \"P\", \"R\", \"L\", \"R\", \"F\", \"Y\"]"
   ]
  },
  {
   "cell_type": "markdown",
   "id": "e399913f",
   "metadata": {},
   "source": [
    "### Side Chains"
   ]
  },
  {
   "cell_type": "markdown",
   "id": "d71b4571",
   "metadata": {},
   "source": [
    "Beyond the main chain of the protein there may be aminoacids attached to the residues of the main chain. Our model allows for side chains of the maximum length of one. Enlongated side chains would require the introduction of additional penalty terms that are still under development. \n",
    "\n",
    "For the definition of the side chain we provide a binary vector specifying the existence of a side chain and if a side chain is present we indicate the letter type of the residue."
   ]
  },
  {
   "cell_type": "code",
   "execution_count": 3,
   "id": "4d148961",
   "metadata": {},
   "outputs": [],
   "source": [
    "side_chain_lens = [0, 0, 0, 0, 0, 0, 0]\n",
    "side_chain_residue_sequences = [None]*7"
   ]
  },
  {
   "cell_type": "markdown",
   "id": "948d6e75",
   "metadata": {},
   "source": [
    "### Interaction between Aminoacids"
   ]
  },
  {
   "cell_type": "markdown",
   "id": "960e20e9",
   "metadata": {},
   "source": [
    "For the description of inter-residue contacts for proteins we use knowledge-based (statistical) potentials derived using quasi-chemical approximation. The potentials used here are introduced by Miyazawa, S. and Jernigan, R. L. in [5]. \n",
    "\n",
    "Beyond this model we also allow for random contact maps (interactions) that provide a random interaction map. One can also introduce a custom interaction map that enhances certain configurations of the protein (e.g. alpha helix, beta sheet etc). \n",
    "\n",
    "<font size=\"2\"> [5] J. Mol. Biol.256, 623–644 (1996), Table 3. </font>"
   ]
  },
  {
   "cell_type": "code",
   "execution_count": 4,
   "id": "26908e43",
   "metadata": {},
   "outputs": [],
   "source": [
    "random_interaction = RandomInteraction()\n",
    "mj_interaction = MiyazawaJerniganInteraction()"
   ]
  },
  {
   "cell_type": "markdown",
   "id": "94612caf",
   "metadata": {},
   "source": [
    "### Physical Constrains"
   ]
  },
  {
   "cell_type": "markdown",
   "id": "cf834eb2",
   "metadata": {},
   "source": [
    "To ensure that all physical constrains are respected we introduce penalty functions. The different penalty terms used are: \n",
    "- penalty_chiral: A penalty parameter used to impose the right chirality.\n",
    "- penalty_back: A penalty parameter used to penalize turns along the same axis.\n",
    "- penalty_1: A penalty parameter used to penalize local overlap between beads within a nearest neighbor contact."
   ]
  },
  {
   "cell_type": "code",
   "execution_count": 5,
   "id": "e4d0feae",
   "metadata": {},
   "outputs": [],
   "source": [
    "lambda_back = 10\n",
    "lambda_chiral = 10\n",
    "lambda_1 = 10\n",
    "\n",
    "penalty_terms = PenaltyParameters(lambda_chiral, lambda_back, lambda_1)"
   ]
  },
  {
   "cell_type": "markdown",
   "id": "7426b407",
   "metadata": {},
   "source": [
    "### Peptide Definition\n"
   ]
  },
  {
   "cell_type": "markdown",
   "id": "466014ee",
   "metadata": {},
   "source": [
    "Based on the main chain and possible side chains we define the peptide object that includes all the structural information of the modeled system."
   ]
  },
  {
   "cell_type": "code",
   "execution_count": 6,
   "id": "d37df517",
   "metadata": {},
   "outputs": [],
   "source": [
    "peptide = Peptide(main_chain_len, main_chain_residue_seq, side_chain_lens, side_chain_residue_sequences)"
   ]
  },
  {
   "cell_type": "markdown",
   "id": "cb67de5f",
   "metadata": {},
   "source": [
    "### Protein Folding Problem "
   ]
  },
  {
   "cell_type": "markdown",
   "id": "e49b89bb",
   "metadata": {},
   "source": [
    "Based on the defined peptide, the interaction (contact map) and the penalty terms we defined for our model we define the protein folding problem that returns qubit operators.\n"
   ]
  },
  {
   "cell_type": "code",
   "execution_count": 7,
   "id": "17ac5b7f",
   "metadata": {},
   "outputs": [],
   "source": [
    "protein_folding_problem = ProteinFoldingProblem(peptide, random_interaction, penalty_terms)\n",
    "qubit_op = protein_folding_problem.qubit_op()"
   ]
  },
  {
   "cell_type": "code",
   "execution_count": 8,
   "id": "6c41d668",
   "metadata": {
    "scrolled": true
   },
   "outputs": [
    {
     "name": "stdout",
     "output_type": "stream",
     "text": [
      "1613.9681141838932 * IIIIIIIII\n",
      "- 701.9418734158013 * ZIIIIIIII\n",
      "- 904.5262407680921 * IZIIIIIII\n",
      "+ 192.5 * IIZIIIIII\n",
      "- 200.0 * ZIZIIIIII\n",
      "+ 7.5 * IZZIIIIII\n",
      "+ 105.0 * IIIZIIIII\n",
      "- 105.0 * ZIIZIIIII\n",
      "+ 95.0 * IIZZIIIII\n",
      "- 100.0 * ZIZZIIIII\n",
      "+ 5.0 * IZZZIIIII\n",
      "- 497.5 * IIIIZIIII\n",
      "+ 195.0 * ZIIIZIIII\n",
      "+ 302.5 * IZIIZIIII\n",
      "- 95.0 * IIZIZIIII\n",
      "+ 100.0 * ZIZIZIIII\n",
      "- 2.5 * IZZIZIIII\n",
      "- 100.0 * IIIIIZIII\n",
      "+ 102.5 * ZIIIIZIII\n",
      "- 2.5 * IZIIIZIII\n",
      "- 95.0 * IIIZIZIII\n",
      "+ 100.0 * ZIIZIZIII\n",
      "- 2.5 * IZIZIZIII\n",
      "- 300.0 * IIIIZZIII\n",
      "+ 97.5 * ZIIIZZIII\n",
      "+ 202.5 * IZIIZZIII\n",
      "- 95.0 * IIZZZZIII\n",
      "+ 100.0 * ZIZZZZIII\n",
      "- 2.5 * IZZZZZIII\n",
      "+ 487.5 * IIIIIIZII\n",
      "- 195.0 * ZIIIIIZII\n",
      "- 295.0 * IZIIIIZII\n",
      "+ 97.5 * IIZIIIZII\n",
      "- 100.0 * ZIZIIIZII\n",
      "+ 2.5 * IZZIIIZII\n",
      "- 195.0 * IIIIZIZII\n",
      "+ 97.5 * ZIIIZIZII\n",
      "+ 100.0 * IZIIZIZII\n",
      "+ 100.0 * IIIIIIIZI\n",
      "- 102.5 * ZIIIIIIZI\n",
      "+ 2.5 * IZIIIIIZI\n",
      "+ 97.5 * IIIZIIIZI\n",
      "- 100.0 * ZIIZIIIZI\n",
      "+ 2.5 * IZIZIIIZI\n",
      "- 195.0 * IIIIIZIZI\n",
      "+ 97.5 * ZIIIIZIZI\n",
      "+ 100.0 * IZIIIZIZI\n",
      "+ 295.0 * IIIIIIZZI\n",
      "- 97.5 * ZIIIIIZZI\n",
      "- 197.5 * IZIIIIZZI\n",
      "+ 97.5 * IIZZIIZZI\n",
      "- 100.0 * ZIZZIIZZI\n",
      "+ 2.5 * IZZZIIZZI\n",
      "- 195.0 * IIIIZZZZI\n",
      "+ 97.5 * ZIIIZZZZI\n",
      "+ 100.0 * IZIIZZZZI\n",
      "+ 195.0 * IIIIIIIIZ\n",
      "+ 5.0 * ZIIIIIIIZ\n",
      "- 200.0 * IZIIIIIIZ\n",
      "- 97.5 * IIIZIIIIZ\n",
      "+ 100.0 * ZIIZIIIIZ\n",
      "- 2.5 * IZIZIIIIZ\n",
      "+ 97.5 * IIZZIIIIZ\n",
      "- 100.0 * ZIZZIIIIZ\n",
      "+ 2.5 * IZZZIIIIZ\n",
      "+ 197.5 * IIIIIZIIZ\n",
      "- 97.5 * ZIIIIZIIZ\n",
      "- 100.0 * IZIIIZIIZ\n",
      "- 197.5 * IIIIZZIIZ\n",
      "+ 97.5 * ZIIIZZIIZ\n",
      "+ 100.0 * IZIIZZIIZ\n",
      "- 192.5 * IIIIIIIZZ\n",
      "+ 97.5 * ZIIIIIIZZ\n",
      "+ 97.5 * IZIIIIIZZ\n",
      "+ 192.5 * IIIIIIZZZ\n",
      "- 97.5 * ZIIIIIZZZ\n",
      "- 97.5 * IZIIIIZZZ\n"
     ]
    }
   ],
   "source": [
    "print(qubit_op)"
   ]
  },
  {
   "cell_type": "markdown",
   "id": "f170cad7",
   "metadata": {},
   "source": [
    "### Using VQE with CVAR expecation value for the solution of the problem"
   ]
  },
  {
   "cell_type": "markdown",
   "id": "0f2d3e2c",
   "metadata": {},
   "source": [
    "The problem that we are tackling has now been mapped to an optimizaiton problem. We can use the Variational Quantum Eigensolver with Conditional Value at Risk (CVAR) expectation value for the solution of the problem and for finding the minimum configuration energy [6] . We follow the same approach as in Ref. [2] but here we use COBYLA for the classical optimization part. \n",
    "\n",
    "<font size=\"2\"> [6] P.Barkoutsos, G. Nannichini, A.Robert, I.Tavernelli, S.Woerner, Improving Variational Quantum Optimization using CVaR, Quantum 4, 256, 2020  </font>"
   ]
  },
  {
   "cell_type": "code",
   "execution_count": 28,
   "id": "f6dc43e7",
   "metadata": {},
   "outputs": [
    {
     "name": "stdout",
     "output_type": "stream",
     "text": [
      "{   'aux_operator_eigenvalues': None,\n",
      "    'cost_function_evals': 155,\n",
      "    'eigenstate': {   '000000001': 0.04419417382415922,\n",
      "                      '000000010': 0.04419417382415922,\n",
      "                      '000000101': 0.03125,\n",
      "                      '000001001': 0.03125,\n",
      "                      '000010001': 0.03125,\n",
      "                      '000011010': 0.04419417382415922,\n",
      "                      '000100010': 0.03125,\n",
      "                      '000100101': 0.03125,\n",
      "                      '000110001': 0.04419417382415922,\n",
      "                      '000110010': 0.05412658773652741,\n",
      "                      '000110011': 0.03125,\n",
      "                      '000110101': 0.03125,\n",
      "                      '000111001': 0.07654655446197431,\n",
      "                      '000111010': 0.08838834764831845,\n",
      "                      '000111011': 0.05412658773652741,\n",
      "                      '000111101': 0.03125,\n",
      "                      '001000001': 0.125,\n",
      "                      '001000010': 0.07654655446197431,\n",
      "                      '001000100': 0.04419417382415922,\n",
      "                      '001000101': 0.05412658773652741,\n",
      "                      '001000110': 0.04419417382415922,\n",
      "                      '001001001': 0.04419417382415922,\n",
      "                      '001011010': 0.04419417382415922,\n",
      "                      '001100010': 0.03125,\n",
      "                      '001111001': 0.03125,\n",
      "                      '010000101': 0.03125,\n",
      "                      '010010001': 0.03125,\n",
      "                      '010010010': 0.03125,\n",
      "                      '010010101': 0.04419417382415922,\n",
      "                      '010011001': 0.09375,\n",
      "                      '010011010': 0.08267972847076846,\n",
      "                      '010011100': 0.03125,\n",
      "                      '010011101': 0.05412658773652741,\n",
      "                      '010100001': 0.0625,\n",
      "                      '010100010': 0.03125,\n",
      "                      '010100101': 0.0625,\n",
      "                      '010100110': 0.03125,\n",
      "                      '010101010': 0.03125,\n",
      "                      '010110001': 0.12103072956898178,\n",
      "                      '010110010': 0.13258252147247765,\n",
      "                      '010110100': 0.03125,\n",
      "                      '010110101': 0.05412658773652741,\n",
      "                      '010111001': 0.27599252707274524,\n",
      "                      '010111010': 0.27775607554111215,\n",
      "                      '010111011': 0.09882117688026186,\n",
      "                      '010111100': 0.05412658773652741,\n",
      "                      '010111101': 0.10825317547305482,\n",
      "                      '010111110': 0.04419417382415922,\n",
      "                      '010111111': 0.03125,\n",
      "                      '011000001': 0.13258252147247765,\n",
      "                      '011000010': 0.16535945694153692,\n",
      "                      '011000100': 0.04419417382415922,\n",
      "                      '011000101': 0.10364452469860624,\n",
      "                      '011000110': 0.0625,\n",
      "                      '011001001': 0.04419417382415922,\n",
      "                      '011001100': 0.03125,\n",
      "                      '011001101': 0.03125,\n",
      "                      '011010001': 0.03125,\n",
      "                      '011010010': 0.04419417382415922,\n",
      "                      '011010101': 0.03125,\n",
      "                      '011100001': 0.03125,\n",
      "                      '011100010': 0.05412658773652741,\n",
      "                      '011100101': 0.0625,\n",
      "                      '011100110': 0.03125,\n",
      "                      '011110001': 0.03125,\n",
      "                      '011110010': 0.04419417382415922,\n",
      "                      '011110101': 0.03125,\n",
      "                      '011111001': 0.10825317547305482,\n",
      "                      '011111010': 0.10364452469860624,\n",
      "                      '011111101': 0.04419417382415922,\n",
      "                      '011111110': 0.03125,\n",
      "                      '100000001': 0.03125,\n",
      "                      '100000010': 0.07654655446197431,\n",
      "                      '100000011': 0.03125,\n",
      "                      '100000101': 0.08267972847076846,\n",
      "                      '100000110': 0.03125,\n",
      "                      '100001001': 0.03125,\n",
      "                      '100001101': 0.03125,\n",
      "                      '100010001': 0.03125,\n",
      "                      '100011001': 0.05412658773652741,\n",
      "                      '100110001': 0.05412658773652741,\n",
      "                      '100110010': 0.03125,\n",
      "                      '100110101': 0.04419417382415922,\n",
      "                      '100111001': 0.0625,\n",
      "                      '100111010': 0.09375,\n",
      "                      '100111100': 0.03125,\n",
      "                      '100111101': 0.05412658773652741,\n",
      "                      '100111110': 0.03125,\n",
      "                      '101000001': 0.3321920566479578,\n",
      "                      '101000010': 0.30618621784789724,\n",
      "                      '101000011': 0.04419417382415922,\n",
      "                      '101000100': 0.1288470508005519,\n",
      "                      '101000101': 0.28641098093474,\n",
      "                      '101000110': 0.14657549249448218,\n",
      "                      '101000111': 0.0625,\n",
      "                      '101001001': 0.08838834764831845,\n",
      "                      '101001010': 0.04419417382415922,\n",
      "                      '101001011': 0.03125,\n",
      "                      '101001100': 0.04419417382415922,\n",
      "                      '101001101': 0.10364452469860624,\n",
      "                      '101001110': 0.0625,\n",
      "                      '101011001': 0.05412658773652741,\n",
      "                      '101011010': 0.05412658773652741,\n",
      "                      '101100001': 0.07654655446197431,\n",
      "                      '101100010': 0.09375,\n",
      "                      '101100101': 0.1288470508005519,\n",
      "                      '101100110': 0.05412658773652741,\n",
      "                      '101101100': 0.03125,\n",
      "                      '101110001': 0.03125,\n",
      "                      '101110010': 0.03125,\n",
      "                      '101111001': 0.09375,\n",
      "                      '101111010': 0.07654655446197431,\n",
      "                      '101111101': 0.04419417382415922,\n",
      "                      '101111110': 0.03125,\n",
      "                      '110000001': 0.05412658773652741,\n",
      "                      '110000010': 0.04419417382415922,\n",
      "                      '110011010': 0.03125,\n",
      "                      '110101010': 0.03125,\n",
      "                      '111000001': 0.13975424859373686,\n",
      "                      '111000010': 0.15934435979977452,\n",
      "                      '111000011': 0.04419417382415922,\n",
      "                      '111000100': 0.07654655446197431,\n",
      "                      '111000101': 0.15309310892394862,\n",
      "                      '111000110': 0.04419417382415922,\n",
      "                      '111000111': 0.04419417382415922,\n",
      "                      '111001001': 0.05412658773652741,\n",
      "                      '111001010': 0.03125,\n",
      "                      '111001011': 0.03125,\n",
      "                      '111001101': 0.05412658773652741,\n",
      "                      '111011001': 0.03125,\n",
      "                      '111011010': 0.04419417382415922,\n",
      "                      '111100001': 0.03125,\n",
      "                      '111100010': 0.04419417382415922,\n",
      "                      '111100100': 0.03125,\n",
      "                      '111100101': 0.04419417382415922,\n",
      "                      '111101010': 0.03125,\n",
      "                      '111111001': 0.03125,\n",
      "                      '111111010': 0.05412658773652741},\n",
      "    'eigenvalue': -1.116253168397634,\n",
      "    'optimal_parameters': {   ParameterVectorElement(θ[2]): -2.8462608205771573,\n",
      "                              ParameterVectorElement(θ[6]): -1.0396628351651138,\n",
      "                              ParameterVectorElement(θ[5]): 1.3606240206521691,\n",
      "                              ParameterVectorElement(θ[4]): 1.9293766936437673,\n",
      "                              ParameterVectorElement(θ[3]): -1.3515800313727602,\n",
      "                              ParameterVectorElement(θ[16]): -0.6220159164563152,\n",
      "                              ParameterVectorElement(θ[15]): -2.098138665745685,\n",
      "                              ParameterVectorElement(θ[17]): 0.9840433448614467,\n",
      "                              ParameterVectorElement(θ[14]): 1.0220781644186039,\n",
      "                              ParameterVectorElement(θ[10]): 2.434598260919615,\n",
      "                              ParameterVectorElement(θ[11]): 4.086752995553022,\n",
      "                              ParameterVectorElement(θ[8]): 2.786387954599158,\n",
      "                              ParameterVectorElement(θ[9]): 0.44154294113537623,\n",
      "                              ParameterVectorElement(θ[13]): 1.7512558403831038,\n",
      "                              ParameterVectorElement(θ[7]): 1.8845446962002568,\n",
      "                              ParameterVectorElement(θ[12]): 3.919178395859825,\n",
      "                              ParameterVectorElement(θ[1]): 0.5332945794891589,\n",
      "                              ParameterVectorElement(θ[0]): -1.7435963599925102},\n",
      "    'optimal_point': array([-1.74359636,  2.43459826,  4.086753  ,  3.9191784 ,  1.75125584,\n",
      "        1.02207816, -2.09813867, -0.62201592,  0.98404334,  0.53329458,\n",
      "       -2.84626082, -1.35158003,  1.92937669,  1.36062402, -1.03966284,\n",
      "        1.8845447 ,  2.78638795,  0.44154294]),\n",
      "    'optimal_value': -1.116253168397634,\n",
      "    'optimizer_evals': 155,\n",
      "    'optimizer_time': 58.14610815048218}\n"
     ]
    }
   ],
   "source": [
    "from qiskit.circuit.library import RealAmplitudes\n",
    "from qiskit.algorithms.optimizers import COBYLA\n",
    "from qiskit.algorithms import NumPyMinimumEigensolver, VQE\n",
    "from qiskit.opflow import PauliExpectation, CVaRExpectation\n",
    "from qiskit import execute, Aer\n",
    "\n",
    "# set classical optimizer\n",
    "optimizer = COBYLA(maxiter=200)\n",
    "\n",
    "# set variational ansatz\n",
    "ansatz = RealAmplitudes(7, reps=1)\n",
    "\n",
    "#set the backend\n",
    "backend_name = 'qasm_simulator' \n",
    "backend = Aer.get_backend(backend_name)  \n",
    "\n",
    "counts = []\n",
    "values = []\n",
    "    \n",
    "def store_intermediate_result(eval_count, parameters, mean, std):\n",
    "    counts.append(eval_count)\n",
    "    values.append(mean)\n",
    "\n",
    "# initialize CVaR_alpha objective with alpha = 0.1\n",
    "cvar_exp = CVaRExpectation(0.1, PauliExpectation())\n",
    "\n",
    "# initialize VQE using CVaR\n",
    "vqe = VQE(expectation=cvar_exp, optimizer=optimizer, ansatz=ansatz, quantum_instance=backend,\n",
    "          callback=store_intermediate_result)\n",
    "\n",
    "eigenvalue = vqe.compute_minimum_eigenvalue(qubit_op)\n",
    "print(eigenvalue)"
   ]
  },
  {
   "cell_type": "code",
   "execution_count": 29,
   "id": "ef2d727b",
   "metadata": {},
   "outputs": [
    {
     "data": {
      "image/png": "[encoded data removed]",
      "text/plain": [
       "<Figure size 640x480 with 2 Axes>"
      ]
     },
     "metadata": {},
     "output_type": "display_data"
    }
   ],
   "source": [
    "import matplotlib.pyplot as plt\n",
    "\n",
    "fig = plt.figure()\n",
    "\n",
    "plt.plot(counts,values)\n",
    "plt.ylabel('Conformation Energy')\n",
    "plt.xlabel('VQE Iterations')\n",
    "\n",
    "fig.add_axes([0.38,0.54,0.5,0.3])\n",
    "\n",
    "plt.plot(counts[120:],values[120:])\n",
    "plt.ylabel('Conformation Energy')\n",
    "plt.xlabel('VQE Iterations')\n",
    "plt.show()"
   ]
  },
  {
   "cell_type": "code",
   "execution_count": 27,
   "id": "f5ad6196",
   "metadata": {},
   "outputs": [
    {
     "data": {
      "text/html": [
       "<h3>Version Information</h3><table><tr><th>Qiskit Software</th><th>Version</th></tr><tr><td>Qiskit</td><td>0.26.2</td></tr><tr><td>Terra</td><td>0.18.0.dev0+33e7448</td></tr><tr><td>Aer</td><td>0.8.2</td></tr><tr><td>Ignis</td><td>0.6.0</td></tr><tr><td>Aqua</td><td>0.9.1</td></tr><tr><td>IBM Q Provider</td><td>0.13.1</td></tr><tr><th>System information</th></tr><tr><td>Python</td><td>3.7.10 (default, Feb 26 2021, 10:16:00) \n",
       "[Clang 10.0.0 ]</td></tr><tr><td>OS</td><td>Darwin</td></tr><tr><td>CPUs</td><td>6</td></tr><tr><td>Memory (Gb)</td><td>16.0</td></tr><tr><td colspan='2'>Fri Aug 13 14:49:42 2021 CEST</td></tr></table>"
      ],
      "text/plain": [
       "<IPython.core.display.HTML object>"
      ]
     },
     "metadata": {},
     "output_type": "display_data"
    },
    {
     "data": {
      "text/html": [
       "<div style='width: 100%; background-color:#d5d9e0;padding-left: 10px; padding-bottom: 10px; padding-right: 10px; padding-top: 5px'><h3>This code is a part of Qiskit</h3><p>&copy; Copyright IBM 2017, 2021.</p><p>This code is licensed under the Apache License, Version 2.0. You may<br>obtain a copy of this license in the LICENSE.txt file in the root directory<br> of this source tree or at http://www.apache.org/licenses/LICENSE-2.0.<p>Any modifications or derivative works of this code must retain this<br>copyright notice, and modified files need to carry a notice indicating<br>that they have been altered from the originals.</p></div>"
      ],
      "text/plain": [
       "<IPython.core.display.HTML object>"
      ]
     },
     "metadata": {},
     "output_type": "display_data"
    }
   ],
   "source": [
    "import qiskit.tools.jupyter\n",
    "%qiskit_version_table\n",
    "%qiskit_copyright"
   ]
  }
 ],
 "metadata": {
  "kernelspec": {
   "display_name": "Python 3",
   "language": "python",
   "name": "python3"
  },
  "language_info": {
   "codemirror_mode": {
    "name": "ipython",
    "version": 3
   },
   "file_extension": ".py",
   "mimetype": "text/x-python",
   "name": "python",
   "nbconvert_exporter": "python",
   "pygments_lexer": "ipython3",
   "version": "3.7.10"
  }
 },
 "nbformat": 4,
 "nbformat_minor": 5
}
