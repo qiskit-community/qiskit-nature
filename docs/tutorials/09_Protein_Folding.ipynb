{
 "cells": [
  {
   "cell_type": "markdown",
   "id": "4d2ea6f4",
   "metadata": {},
   "source": [
    "# Protein Folding"
   ]
  },
  {
   "cell_type": "markdown",
   "id": "aa2fe29c",
   "metadata": {},
   "source": [
    "### Introduction"
   ]
  },
  {
   "cell_type": "markdown",
   "id": "ffa82037",
   "metadata": {},
   "source": [
    "The structure and function of many natural and human-engineered\n",
    "proteins is still only poorly understood. As a result, our understanding of\n",
    "processes connected with protein folding, such as those encountered in\n",
    "Alzheimer’s disease, vaccine development, and crop improvement\n",
    "research, has remained limited.\n",
    "\n",
    "Unfolded polypeptides have a very large number of degrees of freedom\n",
    "and thus an enormous number of potential conformations. For example, a\n",
    "chain with $100$ aminoacids has on the order of $10^{47}$ conformations. In\n",
    "reality, however, many proteins fold to their native structure within\n",
    "seconds. This is known as Levinthal’s paradox [1].\n",
    "\n",
    "The exponential growth of potential conformations with chain length\n",
    "makes the problem intractable for classical computers. In the quantum\n",
    "framework, our resource-efficient algorithm scales linearly with\n",
    "the number of aminoacids N."
   ]
  },
  {
   "cell_type": "markdown",
   "id": "58f24401",
   "metadata": {},
   "source": [
    "The goal of this work is to determine the minimum energy conformation of a protein. Starting from a random configuration, the protein's structure is optimized to lower the energy. This can be achieved by encoding the protein folding problem into a qubit operator and ensuring that all physical constraints are satisfied. "
   ]
  },
  {
   "cell_type": "markdown",
   "id": "76928cec",
   "metadata": {},
   "source": [
    "For the problem encoding we use: \n",
    "\n",
    "- Configuration qubits: qubits that are used to describe the configurations and the relative position of the different beads\n",
    "\n",
    "- Interaction qubits: qubits that encode interactions between the different aminoacids\n",
    "\n",
    "For our case we use a tetrahedral lattice (diamond shape lattice) where we encode the movement through the configuration qubits (see image below). \n",
    "\n",
    "<img src=\"aux_files/lattice_protein.png\" width=\"300\">"
   ]
  },
  {
   "cell_type": "markdown",
   "id": "50dc1324",
   "metadata": {},
   "source": [
    "The Hamiltonian of the system for a set of qubits $\\mathbf{q}=\\{\\mathbf{q}_{cf}, \\mathbf{q}_{in}\\}$ is \n",
    "\n",
    "$$H(\\mathbf{q}) = H_{gc}(\\mathbf{q}_{cf}) + H_{ch}(\\mathbf{q}_{cf}) + H_{in}(\\mathbf{q}_{cf}, \\mathbf{q}_{in}) $$\n",
    "\n",
    "where \n",
    "\n",
    "- $H_{gc}$ is the geometrical constraint term (governing the growth of the primary sequence of aminoacids without bifurcations)\n",
    "\n",
    "- $H_{ch}$ is the chirality constraint (enforcing the right stereochemistry for the system)\n",
    "\n",
    "- $H_{in}$ is the interaction energy terms of the system. In our case we consider only nearest neighbor interactions. "
   ]
  },
  {
   "cell_type": "markdown",
   "id": "0d7f4dbb",
   "metadata": {},
   "source": [
    "Further details about the used model and the encoding of the problem can be found in [2]."
   ]
  },
  {
   "cell_type": "code",
   "execution_count": 1,
   "id": "4a022975",
   "metadata": {},
   "outputs": [],
   "source": [
    "from qiskit_nature.problems.sampling.protein_folding.interactions.random_interaction import (\n",
    "    RandomInteraction,\n",
    ")\n",
    "from qiskit_nature.problems.sampling.protein_folding.interactions.miyazawa_jernigan_interaction import (\n",
    "    MiyazawaJerniganInteraction,\n",
    ")\n",
    "from qiskit_nature.problems.sampling.protein_folding.peptide.peptide import Peptide\n",
    "from qiskit_nature.problems.sampling.protein_folding.protein_folding_problem import (\n",
    "    ProteinFoldingProblem,\n",
    ")\n",
    "\n",
    "from qiskit_nature.problems.sampling.protein_folding.penalty_parameters import PenaltyParameters\n",
    "\n",
    "from qiskit.utils import algorithm_globals, QuantumInstance\n",
    "\n",
    "algorithm_globals.random_seed = 23"
   ]
  },
  {
   "cell_type": "markdown",
   "id": "51e540f5",
   "metadata": {},
   "source": [
    "### Protein Main Chain"
   ]
  },
  {
   "cell_type": "markdown",
   "id": "15a69286",
   "metadata": {},
   "source": [
    "The Protein consists of a main chain that is a linear chain of aminoacids. For the naming of different residues we use the one-letter code as defined in Ref. [3]. Further details about the naming and the type of aminoacids can also be found in [4].\n",
    "\n",
    "For this particular case we demonstrate the generation of the qubit operator in a neuropeptide with the main chain consisting of 7 aminoacids with letter codes APRLRFY (see also [2])."
   ]
  },
  {
   "cell_type": "code",
   "execution_count": 2,
   "id": "b78d077a",
   "metadata": {},
   "outputs": [],
   "source": [
    "main_chain = \"APRLRFY\""
   ]
  },
  {
   "cell_type": "markdown",
   "id": "2b28a00e",
   "metadata": {},
   "source": [
    "### Side Chains"
   ]
  },
  {
   "cell_type": "markdown",
   "id": "b99c81a8",
   "metadata": {},
   "source": [
    "Beyond the main chain of the protein there may be aminoacids attached to the residues of the main chain. Our model allows for side chains of the maximum length of one. Elongated side chains would require the introduction of additional penalty terms which are still under development. In this example we do not consider any side chains to keep the real structure of the neuropeptide. "
   ]
  },
  {
   "cell_type": "code",
   "execution_count": 3,
   "id": "f0cea914",
   "metadata": {},
   "outputs": [],
   "source": [
    "side_chains = [\"\"] * 7"
   ]
  },
  {
   "cell_type": "markdown",
   "id": "203e288b",
   "metadata": {},
   "source": [
    "### Interaction between Aminoacids"
   ]
  },
  {
   "cell_type": "markdown",
   "id": "72ff748d",
   "metadata": {},
   "source": [
    "For the description of inter-residue contacts for proteins we use knowledge-based (statistical) potentials derived using quasi-chemical approximation. The potentials used here are introduced by Miyazawa, S. and Jernigan, R. L. in [5]. \n",
    "\n",
    "Beyond this model we also allow for random contact maps (interactions) that provide a random interaction map. One can also introduce a custom interaction map that enhances certain configurations of the protein (e.g. alpha helix, beta sheet etc). "
   ]
  },
  {
   "cell_type": "code",
   "execution_count": 4,
   "id": "cca5df13",
   "metadata": {},
   "outputs": [],
   "source": [
    "random_interaction = RandomInteraction()\n",
    "mj_interaction = MiyazawaJerniganInteraction()"
   ]
  },
  {
   "cell_type": "markdown",
   "id": "bb5c3ec8",
   "metadata": {},
   "source": [
    "### Physical Constraints"
   ]
  },
  {
   "cell_type": "markdown",
   "id": "5adb4c73",
   "metadata": {},
   "source": [
    "To ensure that all physical constraints are respected we introduce penalty functions. The different penalty terms used are: \n",
    "\n",
    "- penalty_chiral: A penalty parameter used to impose the right chirality.\n",
    "\n",
    "- penalty_back: A penalty parameter used to penalize turns along the same axis. This term is used to eliminate sequences where the same axis is chosen twice in a row. In this way we do not allow for a chain to fold back into itself.\n",
    "\n",
    "- penalty_1: A penalty parameter used to penalize local overlap between beads within a nearest neighbor contact."
   ]
  },
  {
   "cell_type": "code",
   "execution_count": 5,
   "id": "d96678c3",
   "metadata": {},
   "outputs": [],
   "source": [
    "penalty_back = 10\n",
    "penalty_chiral = 10\n",
    "penalty_1 = 10\n",
    "\n",
    "penalty_terms = PenaltyParameters(penalty_chiral, penalty_back, penalty_1)"
   ]
  },
  {
   "cell_type": "markdown",
   "id": "29807064",
   "metadata": {},
   "source": [
    "### Peptide Definition\n"
   ]
  },
  {
   "cell_type": "markdown",
   "id": "3eafb4dd",
   "metadata": {},
   "source": [
    "Based on the main chain and possible side chains we define the peptide object that includes all the structural information of the modeled system."
   ]
  },
  {
   "cell_type": "code",
   "execution_count": 6,
   "id": "94b24aec",
   "metadata": {},
   "outputs": [],
   "source": [
    "peptide = Peptide(main_chain, side_chains)"
   ]
  },
  {
   "cell_type": "markdown",
   "id": "48deb63f",
   "metadata": {},
   "source": [
    "### Protein Folding Problem "
   ]
  },
  {
   "cell_type": "markdown",
   "id": "729f35c0",
   "metadata": {},
   "source": [
    "Based on the defined peptide, the interaction (contact map) and the penalty terms we defined for our model we define the protein folding problem that returns qubit operators.\n"
   ]
  },
  {
   "cell_type": "code",
   "execution_count": 7,
   "id": "8d0408ed",
   "metadata": {},
   "outputs": [],
   "source": [
    "protein_folding_problem = ProteinFoldingProblem(peptide, mj_interaction, penalty_terms)\n",
    "qubit_op = protein_folding_problem.qubit_op()"
   ]
  },
  {
   "cell_type": "code",
   "execution_count": 8,
   "id": "29860ed3",
   "metadata": {
    "scrolled": true
   },
   "outputs": [
    {
     "name": "stdout",
     "output_type": "stream",
     "text": [
      "1613.5895000000003 * IIIIIIIII\n",
      "- 701.802 * ZIIIIIIII\n",
      "- 904.2875 * IZIIIIIII\n",
      "+ 192.5 * IIZIIIIII\n",
      "- 200.0 * ZIZIIIIII\n",
      "+ 7.5 * IZZIIIIII\n",
      "+ 105.0 * IIIZIIIII\n",
      "- 105.0 * ZIIZIIIII\n",
      "+ 95.0 * IIZZIIIII\n",
      "- 100.0 * ZIZZIIIII\n",
      "+ 5.0 * IZZZIIIII\n",
      "- 497.5 * IIIIZIIII\n",
      "+ 195.0 * ZIIIZIIII\n",
      "+ 302.5 * IZIIZIIII\n",
      "- 95.0 * IIZIZIIII\n",
      "+ 100.0 * ZIZIZIIII\n",
      "- 2.5 * IZZIZIIII\n",
      "- 100.0 * IIIIIZIII\n",
      "+ 102.5 * ZIIIIZIII\n",
      "- 2.5 * IZIIIZIII\n",
      "- 95.0 * IIIZIZIII\n",
      "+ 100.0 * ZIIZIZIII\n",
      "- 2.5 * IZIZIZIII\n",
      "- 300.0 * IIIIZZIII\n",
      "+ 97.5 * ZIIIZZIII\n",
      "+ 202.5 * IZIIZZIII\n",
      "- 95.0 * IIZZZZIII\n",
      "+ 100.0 * ZIZZZZIII\n",
      "- 2.5 * IZZZZZIII\n",
      "+ 487.5 * IIIIIIZII\n",
      "- 195.0 * ZIIIIIZII\n",
      "- 295.0 * IZIIIIZII\n",
      "+ 97.5 * IIZIIIZII\n",
      "- 100.0 * ZIZIIIZII\n",
      "+ 2.5 * IZZIIIZII\n",
      "- 195.0 * IIIIZIZII\n",
      "+ 97.5 * ZIIIZIZII\n",
      "+ 100.0 * IZIIZIZII\n",
      "+ 100.0 * IIIIIIIZI\n",
      "- 102.5 * ZIIIIIIZI\n",
      "+ 2.5 * IZIIIIIZI\n",
      "+ 97.5 * IIIZIIIZI\n",
      "- 100.0 * ZIIZIIIZI\n",
      "+ 2.5 * IZIZIIIZI\n",
      "- 195.0 * IIIIIZIZI\n",
      "+ 97.5 * ZIIIIZIZI\n",
      "+ 100.0 * IZIIIZIZI\n",
      "+ 295.0 * IIIIIIZZI\n",
      "- 97.5 * ZIIIIIZZI\n",
      "- 197.5 * IZIIIIZZI\n",
      "+ 97.5 * IIZZIIZZI\n",
      "- 100.0 * ZIZZIIZZI\n",
      "+ 2.5 * IZZZIIZZI\n",
      "- 195.0 * IIIIZZZZI\n",
      "+ 97.5 * ZIIIZZZZI\n",
      "+ 100.0 * IZIIZZZZI\n",
      "+ 195.0 * IIIIIIIIZ\n",
      "+ 5.0 * ZIIIIIIIZ\n",
      "- 200.0 * IZIIIIIIZ\n",
      "- 97.5 * IIIZIIIIZ\n",
      "+ 100.0 * ZIIZIIIIZ\n",
      "- 2.5 * IZIZIIIIZ\n",
      "+ 97.5 * IIZZIIIIZ\n",
      "- 100.0 * ZIZZIIIIZ\n",
      "+ 2.5 * IZZZIIIIZ\n",
      "+ 197.5 * IIIIIZIIZ\n",
      "- 97.5 * ZIIIIZIIZ\n",
      "- 100.0 * IZIIIZIIZ\n",
      "- 197.5 * IIIIZZIIZ\n",
      "+ 97.5 * ZIIIZZIIZ\n",
      "+ 100.0 * IZIIZZIIZ\n",
      "- 192.5 * IIIIIIIZZ\n",
      "+ 97.5 * ZIIIIIIZZ\n",
      "+ 97.5 * IZIIIIIZZ\n",
      "+ 192.5 * IIIIIIZZZ\n",
      "- 97.5 * ZIIIIIZZZ\n",
      "- 97.5 * IZIIIIZZZ\n"
     ]
    }
   ],
   "source": [
    "print(qubit_op)"
   ]
  },
  {
   "cell_type": "markdown",
   "id": "441ccc74",
   "metadata": {},
   "source": [
    "### Using VQE with CVaR expectation value for the solution of the problem"
   ]
  },
  {
   "cell_type": "markdown",
   "id": "e99e05de",
   "metadata": {},
   "source": [
    "The problem that we are tackling has now implemented all the physical constraints and has a diagonal Hamiltonian. For the particular case we are targeting the single bitstring that gives us the minimum energy (corresponding to the folded structure of the protein). Thus, we can use the Variational Quantum Eigensolver with Conditional Value at Risk (CVaR) expectation values for the solution of the problem and for finding the minimum configuration energy [6] . We follow the same approach as in Ref. [2] but here we use COBYLA for the classical optimization part. One can also use the standard VQE or QAOA algorithm for the solution of the problem, though as discussed in Ref. [2] CVaR is more suitable. "
   ]
  },
  {
   "cell_type": "code",
   "execution_count": 9,
   "id": "5eb95499",
   "metadata": {},
   "outputs": [
    {
     "name": "stdout",
     "output_type": "stream",
     "text": [
      "{   'aux_operator_eigenvalues': None,\n",
      "    'cost_function_evals': 50,\n",
      "    'eigenstate': {   '000000010': 0.011048543456039806,\n",
      "                      '000000011': 0.03125,\n",
      "                      '000000100': 0.011048543456039806,\n",
      "                      '000000101': 0.02209708691207961,\n",
      "                      '000001011': 0.011048543456039806,\n",
      "                      '000001101': 0.019136638615493577,\n",
      "                      '000010011': 0.024705294220065465,\n",
      "                      '000010100': 0.011048543456039806,\n",
      "                      '000010101': 0.02209708691207961,\n",
      "                      '000011011': 0.015625,\n",
      "                      '000011101': 0.02209708691207961,\n",
      "                      '000100010': 0.04133986423538423,\n",
      "                      '000100011': 0.10004881620988826,\n",
      "                      '000100100': 0.046875,\n",
      "                      '000100101': 0.08267972847076846,\n",
      "                      '000100111': 0.011048543456039806,\n",
      "                      '000110010': 0.019136638615493577,\n",
      "                      '000110011': 0.04419417382415922,\n",
      "                      '000110100': 0.015625,\n",
      "                      '000110101': 0.036643873123620545,\n",
      "                      '000110110': 0.011048543456039806,\n",
      "                      '000111011': 0.011048543456039806,\n",
      "                      '001000010': 0.029231698334171417,\n",
      "                      '001000011': 0.0897587913521567,\n",
      "                      '001000100': 0.03125,\n",
      "                      '001000101': 0.07328774624724109,\n",
      "                      '001000110': 0.011048543456039806,\n",
      "                      '001001010': 0.019136638615493577,\n",
      "                      '001001011': 0.04419417382415922,\n",
      "                      '001001100': 0.034938562148434216,\n",
      "                      '001001101': 0.04555431167847891,\n",
      "                      '001001111': 0.011048543456039806,\n",
      "                      '001010010': 0.036643873123620545,\n",
      "                      '001010011': 0.08486547258750168,\n",
      "                      '001010100': 0.03983608994994363,\n",
      "                      '001010101': 0.06442352540027595,\n",
      "                      '001010110': 0.011048543456039806,\n",
      "                      '001011000': 0.015625,\n",
      "                      '001011001': 0.015625,\n",
      "                      '001011010': 0.038273277230987154,\n",
      "                      '001011011': 0.11103648752774918,\n",
      "                      '001011100': 0.07411588266019639,\n",
      "                      '001011101': 0.11267347735824966,\n",
      "                      '001011110': 0.011048543456039806,\n",
      "                      '001011111': 0.015625,\n",
      "                      '001100000': 0.011048543456039806,\n",
      "                      '001100010': 0.120017902310447,\n",
      "                      '001100011': 0.3167677333236452,\n",
      "                      '001100100': 0.1401903003509872,\n",
      "                      '001100101': 0.22453293536249866,\n",
      "                      '001100110': 0.024705294220065465,\n",
      "                      '001100111': 0.034938562148434216,\n",
      "                      '001101010': 0.011048543456039806,\n",
      "                      '001101011': 0.019136638615493577,\n",
      "                      '001101100': 0.015625,\n",
      "                      '001101101': 0.027063293868263706,\n",
      "                      '001101111': 0.015625,\n",
      "                      '001110000': 0.011048543456039806,\n",
      "                      '001110010': 0.0427908248050911,\n",
      "                      '001110011': 0.1254873312828829,\n",
      "                      '001110100': 0.05063078670631141,\n",
      "                      '001110101': 0.0855816496101822,\n",
      "                      '001111011': 0.015625,\n",
      "                      '010000000': 0.011048543456039806,\n",
      "                      '010000010': 0.05412658773652741,\n",
      "                      '010000011': 0.137553256731711,\n",
      "                      '010000100': 0.05846339666834283,\n",
      "                      '010000101': 0.10881553341550093,\n",
      "                      '010000111': 0.02209708691207961,\n",
      "                      '010001000': 0.015625,\n",
      "                      '010001010': 0.024705294220065465,\n",
      "                      '010001011': 0.09882117688026186,\n",
      "                      '010001100': 0.05412658773652741,\n",
      "                      '010001101': 0.10305395279900718,\n",
      "                      '010001110': 0.015625,\n",
      "                      '010001111': 0.02209708691207961,\n",
      "                      '010010000': 0.015625,\n",
      "                      '010010010': 0.05412658773652741,\n",
      "                      '010010011': 0.15896085897949846,\n",
      "                      '010010100': 0.08193819126329309,\n",
      "                      '010010101': 0.12645635981436443,\n",
      "                      '010010110': 0.011048543456039806,\n",
      "                      '010010111': 0.019136638615493577,\n",
      "                      '010011000': 0.015625,\n",
      "                      '010011001': 0.011048543456039806,\n",
      "                      '010011010': 0.07574499777213015,\n",
      "                      '010011011': 0.19764235376052372,\n",
      "                      '010011100': 0.12789613706050704,\n",
      "                      '010011101': 0.20191949973937634,\n",
      "                      '010011110': 0.027063293868263706,\n",
      "                      '010011111': 0.04555431167847891,\n",
      "                      '010100000': 0.011048543456039806,\n",
      "                      '010100010': 0.07733980419227864,\n",
      "                      '010100011': 0.19295451617544482,\n",
      "                      '010100100': 0.09504316453590968,\n",
      "                      '010100101': 0.15428451295415233,\n",
      "                      '010100110': 0.019136638615493577,\n",
      "                      '010100111': 0.011048543456039806,\n",
      "                      '010101101': 0.019136638615493577,\n",
      "                      '010110010': 0.027063293868263706,\n",
      "                      '010110011': 0.08699631816921909,\n",
      "                      '010110100': 0.0427908248050911,\n",
      "                      '010110101': 0.059498227389561786,\n",
      "                      '010110110': 0.011048543456039806,\n",
      "                      '010110111': 0.011048543456039806,\n",
      "                      '011000011': 0.015625,\n",
      "                      '011000101': 0.015625,\n",
      "                      '011001011': 0.015625,\n",
      "                      '011001101': 0.015625,\n",
      "                      '011010011': 0.029231698334171417,\n",
      "                      '011010100': 0.015625,\n",
      "                      '011010101': 0.015625,\n",
      "                      '011011010': 0.011048543456039806,\n",
      "                      '011011011': 0.019136638615493577,\n",
      "                      '011011100': 0.011048543456039806,\n",
      "                      '011011101': 0.03125,\n",
      "                      '011011111': 0.011048543456039806,\n",
      "                      '011100010': 0.015625,\n",
      "                      '011100011': 0.05740991584648074,\n",
      "                      '011100100': 0.024705294220065465,\n",
      "                      '011100101': 0.04133986423538423,\n",
      "                      '011110011': 0.024705294220065465,\n",
      "                      '011110101': 0.015625,\n",
      "                      '100000011': 0.03983608994994363,\n",
      "                      '100000100': 0.02209708691207961,\n",
      "                      '100000101': 0.03125,\n",
      "                      '100001011': 0.019136638615493577,\n",
      "                      '100001100': 0.011048543456039806,\n",
      "                      '100001101': 0.029231698334171417,\n",
      "                      '100010010': 0.015625,\n",
      "                      '100010011': 0.036643873123620545,\n",
      "                      '100010100': 0.024705294220065465,\n",
      "                      '100010101': 0.03125,\n",
      "                      '100011000': 0.011048543456039806,\n",
      "                      '100011010': 0.024705294220065465,\n",
      "                      '100011011': 0.04555431167847891,\n",
      "                      '100011100': 0.036643873123620545,\n",
      "                      '100011101': 0.04555431167847891,\n",
      "                      '100011111': 0.011048543456039806,\n",
      "                      '100100000': 0.011048543456039806,\n",
      "                      '100100010': 0.0427908248050911,\n",
      "                      '100100011': 0.11481983169296148,\n",
      "                      '100100100': 0.046875,\n",
      "                      '100100101': 0.07654655446197431,\n",
      "                      '100100110': 0.015625,\n",
      "                      '100100111': 0.019136638615493577,\n",
      "                      '100101101': 0.011048543456039806,\n",
      "                      '100110010': 0.015625,\n",
      "                      '100110011': 0.03314563036811941,\n",
      "                      '100110100': 0.024705294220065465,\n",
      "                      '100110101': 0.03983608994994363,\n",
      "                      '100111011': 0.011048543456039806,\n",
      "                      '101000010': 0.038273277230987154,\n",
      "                      '101000011': 0.07890238233095373,\n",
      "                      '101000100': 0.03125,\n",
      "                      '101000101': 0.0625,\n",
      "                      '101001011': 0.036643873123620545,\n",
      "                      '101001100': 0.02209708691207961,\n",
      "                      '101001101': 0.04941058844013093,\n",
      "                      '101010010': 0.03125,\n",
      "                      '101010011': 0.06899813176818631,\n",
      "                      '101010100': 0.036643873123620545,\n",
      "                      '101010101': 0.05412658773652741,\n",
      "                      '101010111': 0.011048543456039806,\n",
      "                      '101011000': 0.011048543456039806,\n",
      "                      '101011010': 0.036643873123620545,\n",
      "                      '101011011': 0.09504316453590968,\n",
      "                      '101011100': 0.046875,\n",
      "                      '101011101': 0.08907620508587015,\n",
      "                      '101011110': 0.011048543456039806,\n",
      "                      '101011111': 0.024705294220065465,\n",
      "                      '101100000': 0.015625,\n",
      "                      '101100010': 0.12203515118604147,\n",
      "                      '101100011': 0.2814669302289347,\n",
      "                      '101100100': 0.13395647030845506,\n",
      "                      '101100101': 0.21986323874172325,\n",
      "                      '101100110': 0.02209708691207961,\n",
      "                      '101100111': 0.02209708691207961,\n",
      "                      '101101011': 0.011048543456039806,\n",
      "                      '101101100': 0.024705294220065465,\n",
      "                      '101101101': 0.015625,\n",
      "                      '101101111': 0.011048543456039806,\n",
      "                      '101110000': 0.011048543456039806,\n",
      "                      '101110010': 0.04555431167847891,\n",
      "                      '101110011': 0.10539638721275033,\n",
      "                      '101110100': 0.05524271728019903,\n",
      "                      '101110101': 0.08043461047646094,\n",
      "                      '101110110': 0.011048543456039806,\n",
      "                      '101110111': 0.015625,\n",
      "                      '101111011': 0.015625,\n",
      "                      '110000010': 0.02209708691207961,\n",
      "                      '110000011': 0.06720566614877052,\n",
      "                      '110000100': 0.038273277230987154,\n",
      "                      '110000101': 0.05740991584648074,\n",
      "                      '110001010': 0.02209708691207961,\n",
      "                      '110001011': 0.05182226234930312,\n",
      "                      '110001100': 0.027063293868263706,\n",
      "                      '110001101': 0.04555431167847891,\n",
      "                      '110001111': 0.011048543456039806,\n",
      "                      '110010010': 0.024705294220065465,\n",
      "                      '110010011': 0.08267972847076846,\n",
      "                      '110010100': 0.04941058844013093,\n",
      "                      '110010101': 0.06810779599282303,\n",
      "                      '110010111': 0.015625,\n",
      "                      '110011000': 0.011048543456039806,\n",
      "                      '110011010': 0.04419417382415922,\n",
      "                      '110011011': 0.10245997694221876,\n",
      "                      '110011100': 0.05633673867912483,\n",
      "                      '110011101': 0.09943689110435824,\n",
      "                      '110011110': 0.011048543456039806,\n",
      "                      '110011111': 0.011048543456039806,\n",
      "                      '110100010': 0.03314563036811941,\n",
      "                      '110100011': 0.10768788087570486,\n",
      "                      '110100100': 0.046875,\n",
      "                      '110100101': 0.07890238233095373,\n",
      "                      '110101101': 0.011048543456039806,\n",
      "                      '110110000': 0.011048543456039806,\n",
      "                      '110110010': 0.019136638615493577,\n",
      "                      '110110011': 0.04419417382415922,\n",
      "                      '110110100': 0.019136638615493577,\n",
      "                      '110110101': 0.029231698334171417,\n",
      "                      '111100010': 0.029231698334171417,\n",
      "                      '111100011': 0.05846339666834283,\n",
      "                      '111100100': 0.027063293868263706,\n",
      "                      '111100101': 0.03983608994994363,\n",
      "                      '111101100': 0.011048543456039806,\n",
      "                      '111110011': 0.02209708691207961,\n",
      "                      '111110100': 0.015625,\n",
      "                      '111110101': 0.015625},\n",
      "    'eigenvalue': -1.4029738769529685,\n",
      "    'optimal_parameters': {   ParameterVectorElement(θ[3]): -0.8186867402589327,\n",
      "                              ParameterVectorElement(θ[0]): 2.949180306189535,\n",
      "                              ParameterVectorElement(θ[2]): 0.14444186020294084,\n",
      "                              ParameterVectorElement(θ[1]): 1.3457240264704409,\n",
      "                              ParameterVectorElement(θ[4]): -1.8240547294565919,\n",
      "                              ParameterVectorElement(θ[5]): -0.5827243733538114,\n",
      "                              ParameterVectorElement(θ[6]): -1.2832898975245257,\n",
      "                              ParameterVectorElement(θ[7]): 0.4624546118844573,\n",
      "                              ParameterVectorElement(θ[8]): 0.8545861177349986,\n",
      "                              ParameterVectorElement(θ[9]): 0.9009227496535541,\n",
      "                              ParameterVectorElement(θ[10]): 1.0664066215537364,\n",
      "                              ParameterVectorElement(θ[11]): -1.168411616516486,\n",
      "                              ParameterVectorElement(θ[12]): -0.9257640933096077,\n",
      "                              ParameterVectorElement(θ[13]): 2.4469152902217863,\n",
      "                              ParameterVectorElement(θ[14]): 1.6982911959520248,\n",
      "                              ParameterVectorElement(θ[15]): -0.8473176376463815,\n",
      "                              ParameterVectorElement(θ[16]): -2.028888948827069,\n",
      "                              ParameterVectorElement(θ[17]): 0.3825263440080858},\n",
      "    'optimal_point': array([ 2.94918031,  1.06640662, -1.16841162, -0.92576409,  2.44691529,\n",
      "        1.6982912 , -0.84731764, -2.02888895,  0.38252634,  1.34572403,\n",
      "        0.14444186, -0.81868674, -1.82405473, -0.58272437, -1.2832899 ,\n",
      "        0.46245461,  0.85458612,  0.90092275]),\n",
      "    'optimal_value': -1.4029738769529685,\n",
      "    'optimizer_evals': 50,\n",
      "    'optimizer_time': 34.98536920547485}\n"
     ]
    }
   ],
   "source": [
    "from qiskit.circuit.library import RealAmplitudes\n",
    "from qiskit.algorithms.optimizers import COBYLA\n",
    "from qiskit.algorithms import NumPyMinimumEigensolver, VQE\n",
    "from qiskit.opflow import PauliExpectation, CVaRExpectation\n",
    "from qiskit import execute, Aer\n",
    "\n",
    "# set classical optimizer\n",
    "optimizer = COBYLA(maxiter=50)\n",
    "\n",
    "# set variational ansatz\n",
    "ansatz = RealAmplitudes(reps=1)\n",
    "\n",
    "# set the backend\n",
    "backend_name = \"aer_simulator\"\n",
    "backend = QuantumInstance(\n",
    "    Aer.get_backend(backend_name),\n",
    "    shots=8192,\n",
    "    seed_transpiler=algorithm_globals.random_seed,\n",
    "    seed_simulator=algorithm_globals.random_seed,\n",
    ")\n",
    "\n",
    "counts = []\n",
    "values = []\n",
    "\n",
    "\n",
    "def store_intermediate_result(eval_count, parameters, mean, std):\n",
    "    counts.append(eval_count)\n",
    "    values.append(mean)\n",
    "\n",
    "\n",
    "# initialize CVaR_alpha objective with alpha = 0.1\n",
    "cvar_exp = CVaRExpectation(0.1, PauliExpectation())\n",
    "\n",
    "# initialize VQE using CVaR\n",
    "vqe = VQE(\n",
    "    expectation=cvar_exp,\n",
    "    optimizer=optimizer,\n",
    "    ansatz=ansatz,\n",
    "    quantum_instance=backend,\n",
    "    callback=store_intermediate_result,\n",
    ")\n",
    "\n",
    "result = vqe.compute_minimum_eigenvalue(qubit_op)\n",
    "print(result)"
   ]
  },
  {
   "cell_type": "code",
   "execution_count": 10,
   "id": "7d51e6b4",
   "metadata": {},
   "outputs": [
    {
     "data": {
      "image/png": "[encoded data removed]",
      "text/plain": [
       "<Figure size 640x480 with 2 Axes>"
      ]
     },
     "metadata": {},
     "output_type": "display_data"
    }
   ],
   "source": [
    "import matplotlib.pyplot as plt\n",
    "\n",
    "fig = plt.figure()\n",
    "\n",
    "plt.plot(counts, values)\n",
    "plt.ylabel(\"Conformation Energy\")\n",
    "plt.xlabel(\"VQE Iterations\")\n",
    "\n",
    "fig.add_axes([0.44, 0.51, 0.44, 0.32])\n",
    "\n",
    "plt.plot(counts[40:], values[40:])\n",
    "plt.ylabel(\"Conformation Energy\")\n",
    "plt.xlabel(\"VQE Iterations\")\n",
    "plt.show()"
   ]
  },
  {
   "cell_type": "markdown",
   "id": "3000495a",
   "metadata": {},
   "source": [
    "### References"
   ]
  },
  {
   "cell_type": "markdown",
   "id": "c835b123",
   "metadata": {},
   "source": [
    "<font size='2'>[1] https://en.wikipedia.org/wiki/Levinthal%27s_paradox </font>\n",
    "\n",
    "<font size='2'>[2] A.Robert, P.Barkoutsos, S.Woerner and I.Tavernelli, Resource-efficient quantum algorithm for protein folding, NPJ Quantum Information, 2021, https://doi.org/10.1038/s41534-021-00368-4 </font>\n",
    "\n",
    "<font size=\"2\">[3] IUPAC–IUB Commission on Biochemical Nomenclature (1972). \"A one-letter notation for aminoacid sequences\". Pure and Applied Chemistry. 31 (4): 641–645. doi:10.1351/pac197231040639. PMID 5080161.</font> <br>\n",
    "\n",
    "<font size=\"2\">[4] https://en.wikipedia.org/wiki/Amino_acid</font>\n",
    "\n",
    "<font size=\"2\"> [5] S. Miyazawa and R. L.Jernigan, Residue – Residue Potentials with a Favorable Contact Pair Term and an Unfavorable High Packing Density Term for Simulation and Threading, J. Mol. Biol.256, 623–644, 1996, Table 3, https://doi.org/10.1006/jmbi.1996.0114 </font>\n",
    "\n",
    "<font size=\"2\"> [6] P.Barkoutsos, G. Nannichini, A.Robert, I.Tavernelli, S.Woerner, Improving Variational Quantum Optimization using CVaR, Quantum 4, 256, 2020, https://doi.org/10.22331/q-2020-04-20-256  </font>"
   ]
  },
  {
   "cell_type": "code",
   "execution_count": 11,
   "id": "8f7e04a1",
   "metadata": {},
   "outputs": [
    {
     "data": {
      "text/html": [
       "<h3>Version Information</h3><table><tr><th>Qiskit Software</th><th>Version</th></tr><tr><td>Qiskit</td><td>0.26.2</td></tr><tr><td>Terra</td><td>0.18.0.dev0+33e7448</td></tr><tr><td>Aer</td><td>0.8.2</td></tr><tr><td>Ignis</td><td>0.6.0</td></tr><tr><td>Aqua</td><td>0.9.1</td></tr><tr><td>IBM Q Provider</td><td>0.13.1</td></tr><tr><th>System information</th></tr><tr><td>Python</td><td>3.7.10 (default, Feb 26 2021, 10:16:00) \n",
       "[Clang 10.0.0 ]</td></tr><tr><td>OS</td><td>Darwin</td></tr><tr><td>CPUs</td><td>6</td></tr><tr><td>Memory (Gb)</td><td>16.0</td></tr><tr><td colspan='2'>Sat Aug 14 08:53:41 2021 CEST</td></tr></table>"
      ],
      "text/plain": [
       "<IPython.core.display.HTML object>"
      ]
     },
     "metadata": {},
     "output_type": "display_data"
    },
    {
     "data": {
      "text/html": [
       "<div style='width: 100%; background-color:#d5d9e0;padding-left: 10px; padding-bottom: 10px; padding-right: 10px; padding-top: 5px'><h3>This code is a part of Qiskit</h3><p>&copy; Copyright IBM 2017, 2021.</p><p>This code is licensed under the Apache License, Version 2.0. You may<br>obtain a copy of this license in the LICENSE.txt file in the root directory<br> of this source tree or at http://www.apache.org/licenses/LICENSE-2.0.<p>Any modifications or derivative works of this code must retain this<br>copyright notice, and modified files need to carry a notice indicating<br>that they have been altered from the originals.</p></div>"
      ],
      "text/plain": [
       "<IPython.core.display.HTML object>"
      ]
     },
     "metadata": {},
     "output_type": "display_data"
    }
   ],
   "source": [
    "import qiskit.tools.jupyter\n",
    "\n",
    "%qiskit_version_table\n",
    "%qiskit_copyright"
   ]
  }
 ],
 "metadata": {
  "kernelspec": {
   "display_name": "Python 3",
   "language": "python",
   "name": "python3"
  },
  "language_info": {
   "codemirror_mode": {
    "name": "ipython",
    "version": 3
   },
   "file_extension": ".py",
   "mimetype": "text/x-python",
   "name": "python",
   "nbconvert_exporter": "python",
   "pygments_lexer": "ipython3",
   "version": "3.7.10"
  }
 },
 "nbformat": 4,
 "nbformat_minor": 5
}
