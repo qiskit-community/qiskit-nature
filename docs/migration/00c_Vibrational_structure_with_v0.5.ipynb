{
 "cells": [
  {
   "cell_type": "markdown",
   "id": "5716043f",
   "metadata": {},
   "source": [
    "# Vibrational Structure Problems with v0.5\n",
    "\n",
    "## Table of Contents\n",
    "The vibrational structure stack has also received significant updates between Qiskit Nature v0.4 and v0.5. Thus, this file is split into multiple sections that go into various amounts of details. Here is a table of contents to help you navigate:\n",
    "\n",
    "- [TL;DR](#TL;DR)\n",
    "- [qiskit_nature.drivers](#qiskit_nature.drivers)\n",
    "- [The VibrationalStructureProblem (qiskit_nature.problems)](#The-VibrationalStructureProblem-(qiskit_nature.problems))\n",
    "- [qiskit_nature.properties](#qiskit_nature.properties)\n",
    "\n",
    "## Further resources\n",
    "Be sure to check out the [vibrational structure tutorial](../tutorials/02_vibrational_structure.ipynb) for more details on how to use the new code."
   ]
  },
  {
   "cell_type": "markdown",
   "id": "21b0aeb0",
   "metadata": {},
   "source": [
    "## TL;DR\n",
    "\n",
    "This section gives you one cell with a v0.4 code followed by one cell with v0.5 code doing the same things.\n",
    "Hopefully this already gives you all the information which you were looking for."
   ]
  },
  {
   "cell_type": "markdown",
   "id": "467062e5",
   "metadata": {},
   "source": [
    "### Previously"
   ]
  },
  {
   "cell_type": "code",
   "execution_count": 1,
   "id": "5440409a",
   "metadata": {},
   "outputs": [
    {
     "name": "stdout",
     "output_type": "stream",
     "text": [
      "  NIIIIIIIIII * (1268.0676746875001+0j)\n",
      "+ INIIIIIIIII * (3813.8767834375008+0j)\n",
      "+ IINIIIIIIII * (705.8633818750001+0j)\n",
      "+ II+-IIIIIII * (-46.025705898886045+0j)\n",
      "+ II-+IIIIIII * (-46.025705898886045+0j)\n",
      "+ IIINIIIIIII * (2120.1145593750007+0j)\n",
      "+ IIIINIIIIII * (238.31540750000005+0j)\n",
      "+ IIII+I-IIII * (19.820422279761104+0j)\n",
      "+ IIIIINIIIII * (728.9613775000003+0j)\n",
      "+ IIII-I+IIII * (19.820422279761104+0j)\n",
      "...\n"
     ]
    },
    {
     "name": "stderr",
     "output_type": "stream",
     "text": [
      "<ipython-input-1-640136cacbb4>:2: NatureDeprecationWarning: The qiskit_nature.problems.second_quantization.electronic package is deprecated as of version 0.5.0 and will be removed no sooner than 3 months after the release. Instead use the qiskit_nature.second_q.problems package.\n",
      "  from qiskit_nature.problems.second_quantization import VibrationalStructureProblem\n",
      "<ipython-input-1-640136cacbb4>:2: NatureDeprecationWarning: The qiskit_nature.problems.second_quantization.vibrational package is deprecated as of version 0.5.0 and will be removed no sooner than 3 months after the release. Instead use the qiskit_nature.second_q.problems package.\n",
      "  from qiskit_nature.problems.second_quantization import VibrationalStructureProblem\n"
     ]
    }
   ],
   "source": [
    "from qiskit_nature.drivers.second_quantization import GaussianForcesDriver\n",
    "from qiskit_nature.problems.second_quantization import VibrationalStructureProblem\n",
    "from qiskit_nature.settings import settings\n",
    "\n",
    "settings.dict_aux_operators = True\n",
    "\n",
    "driver = GaussianForcesDriver(logfile=\"aux_files/CO2_freq_B3LYP_631g.log\")\n",
    "\n",
    "problem = VibrationalStructureProblem(driver, num_modals=[2, 2, 3, 4], truncation_order=2)\n",
    "\n",
    "# Note: at this point, `driver.run()` has NOT been called yet. We can trigger this indirectly like so:\n",
    "second_q_ops = problem.second_q_ops()\n",
    "\n",
    "hamiltonian = second_q_ops[\"VibrationalEnergy\"]\n",
    "print(\"\\n\".join(str(hamiltonian).splitlines()[:10] + [\"...\"]))"
   ]
  },
  {
   "cell_type": "markdown",
   "id": "41c11c1d",
   "metadata": {},
   "source": [
    "### New"
   ]
  },
  {
   "cell_type": "code",
   "execution_count": 2,
   "id": "19449c21",
   "metadata": {},
   "outputs": [
    {
     "name": "stdout",
     "output_type": "stream",
     "text": [
      "Vibrational Operator\n",
      "number modes=4, number modals=[2, 2, 3, 4], number terms=177\n",
      "  (1268.0676746875001+0j) * ( +_0_0 -_0_0 )\n",
      "+ (3813.8767834375008+0j) * ( +_0_1 -_0_1 )\n",
      "+ (705.8633818750002+0j) * ( +_1_0 -_1_0 )\n",
      "+ (-46.025705898886045+0j) * ( +_1_0 -_1_1 )\n",
      "+ (-46.025705898886045+0j) * ( +_1_1 -_1_0 )\n",
      "+ (2120.1145593750007+0j) * ( +_1_1 -_1_1 )\n",
      "+ (238.31540750000005+0j) * ( +_2_0 -_2_0 )\n",
      "+ (19.82042227976109+0j) * ( +_2_0 -_2_2 )\n",
      "...\n"
     ]
    }
   ],
   "source": [
    "from qiskit_nature.second_q.drivers import GaussianForcesDriver\n",
    "from qiskit_nature.second_q.problems import HarmonicBasis\n",
    "\n",
    "driver = GaussianForcesDriver(logfile=\"aux_files/CO2_freq_B3LYP_631g.log\")\n",
    "basis = HarmonicBasis(num_modals=[2, 2, 3, 4])\n",
    "\n",
    "# this is now done explicitly and already requires the basis\n",
    "problem = driver.run(basis=basis)\n",
    "problem.hamiltonian.truncation_order = 2\n",
    "\n",
    "hamiltonian = problem.hamiltonian.second_q_op()\n",
    "print(\"\\n\".join(str(hamiltonian).splitlines()[:10] + [\"...\"]))"
   ]
  },
  {
   "cell_type": "markdown",
   "id": "21756d06",
   "metadata": {},
   "source": [
    "## `qiskit_nature.drivers`\n",
    "\n",
    "This section deals exclusively with the migration of the vibrational structure-related drivers."
   ]
  },
  {
   "cell_type": "markdown",
   "id": "fc9d966f",
   "metadata": {},
   "source": [
    "The table below summarizes where each of the vibrational structure components of `qiskit_nature.drivers.second_quantization` has ended up.\n",
    "\n",
    "| Legacy component | New location |\n",
    "|:-----------------|:-------------|\n",
    "| BaseDriver | `qiskit_nature.second_q.drivers.BaseDriver` |\n",
    "| VibrationalStructureDriver | `qiskit_nature.second_q.drivers.VibrationalStructureDriver` |\n",
    "| VibrationalStructureDriverType | **removed** |\n",
    "| VibrationalStructureMoleculeDriver | **removed** |\n",
    "| GaussianForcesDriver | `qiskit_nature.second_q.drivers.GaussianForcesDriver` |\n",
    "| GaussianLogDriver | `qiskit_nature.second_q.drivers.GaussiaLogDriver` |\n",
    "| GaussianLogResult | `qiskit_nature.second_q.drivers.GaussianLogResult` |\n",
    "\n",
    "Furthermore, the two components from `qiskit_nature.drivers` were moved like so:\n",
    "\n",
    "| Legacy component | New location |\n",
    "|:-----------------|:-------------|\n",
    "| Molecule | `qiskit_nature.second_q.formats.molecule_info.MoleculeInfo` |\n",
    "| UnitsType | `qiskit_nature.units.DistanceUnit` |"
   ]
  },
  {
   "cell_type": "markdown",
   "id": "549ee735",
   "metadata": {},
   "source": [
    "A few notes are worth adding:\n",
    "\n",
    "- The `VibrationalStructureMoleculeDriver` was removed because we are steering towards a future with tighter, plugin-like integration with classical codes, making the concept of drivers where Qiskit starts a classical simulation outdated. You can still use the `.from_molecule(...)` methods of the remaining drivers in combination with the `MoleculeInfo` class.\n",
    "- The `MoleculeInfo` has become a pure data container and no longer supports _degrees of freedom_."
   ]
  },
  {
   "cell_type": "markdown",
   "id": "3c9bc911",
   "metadata": {},
   "source": [
    "### Vibrational Structure Drivers\n",
    "\n",
    "Vibrational structure drivers work slightly differently than their electronic structure counterparts, because you must supply a **basis** upon running the driver, which maps the real-space Watson hamiltonian into second-quantized space. This was treated inconsistently in Qiskit Nature v0.4 as explained below."
   ]
  },
  {
   "cell_type": "markdown",
   "id": "aea1137e",
   "metadata": {},
   "source": [
    "### Previously\n",
    "In Qiskit Nature v0.4 the stack implementation was actually inconsistent because the `VibrationalIntegrals` (which were part of the `second_quantization` stack) were actually storing the coefficients of the real-space Watson hamiltonian. Only later would these get mapped to a specified basis:"
   ]
  },
  {
   "cell_type": "code",
   "execution_count": 3,
   "id": "1d0fcca1",
   "metadata": {},
   "outputs": [
    {
     "name": "stdout",
     "output_type": "stream",
     "text": [
      "VibrationalEnergy:\n",
      "\tNone\n",
      "\t1-Body Terms:\n",
      "\t\t<sparse integral list with 13 entries>\n",
      "\t\t(2, 2) = 352.3005875\n",
      "\t\t(-2, -2) = -352.3005875\n",
      "\t\t(1, 1) = 631.6153975\n",
      "\t\t(-1, -1) = -631.6153975\n",
      "\t\t(4, 4) = 115.653915\n",
      "\t\t... skipping 8 entries\n",
      "\t2-Body Terms:\n",
      "\t\t<sparse integral list with 11 entries>\n",
      "\t\t(1, 1, 2) = -88.2017421687633\n",
      "\t\t(4, 4, 2) = 42.675273102831454\n",
      "\t\t(3, 3, 2) = 42.675273102831454\n",
      "\t\t(1, 1, 2, 2) = 4.9425425\n",
      "\t\t(4, 4, 2, 2) = -4.194299375\n",
      "\t\t... skipping 6 entries\n",
      "\t3-Body Terms:\n",
      "\t\t<sparse integral list with 0 entries>\n",
      "  NIIIIIIIIII * (1268.0676746875001+0j)\n",
      "+ INIIIIIIIII * (3813.8767834375008+0j)\n",
      "+ IINIIIIIIII * (705.8633818750001+0j)\n",
      "+ II+-IIIIIII * (-46.025705898886045+0j)\n",
      "+ II-+IIIIIII * (-46.025705898886045+0j)\n",
      "+ IIINIIIIIII * (2120.1145593750007+0j)\n",
      "+ IIIINIIIIII * (238.31540750000005+0j)\n",
      "+ IIII+I-IIII * (19.820422279761104+0j)\n",
      "+ IIIIINIIIII * (728.9613775000003+0j)\n",
      "+ IIII-I+IIII * (19.820422279761104+0j)\n",
      "...\n"
     ]
    }
   ],
   "source": [
    "from qiskit_nature.drivers.second_quantization import GaussianLogResult\n",
    "from qiskit_nature.properties.second_quantization.vibrational.bases import HarmonicBasis\n",
    "from qiskit_nature.settings import settings\n",
    "\n",
    "settings.dict_aux_operators = True\n",
    "\n",
    "log_result = GaussianLogResult(\"aux_files/CO2_freq_B3LYP_631g.log\")\n",
    "\n",
    "hamiltonian = log_result.get_vibrational_energy()\n",
    "print(hamiltonian)\n",
    "\n",
    "hamiltonian.basis = HarmonicBasis([2, 2, 3, 4])\n",
    "op = hamiltonian.second_q_ops()[\"VibrationalEnergy\"]\n",
    "print(\"\\n\".join(str(op).splitlines()[:10] + [\"...\"]))"
   ]
  },
  {
   "cell_type": "markdown",
   "id": "0525312d",
   "metadata": {},
   "source": [
    "### New\n",
    "As of Qiskit Nature v0.5 the design is now consistently separating the treatment of the real-space Watson hamiltonian from the second-quantized coefficients. This is achieved by introducing a dedicated dataclass storing a `WatsonHamiltonian`:"
   ]
  },
  {
   "cell_type": "code",
   "execution_count": 4,
   "id": "3a62527f",
   "metadata": {},
   "outputs": [
    {
     "name": "stdout",
     "output_type": "stream",
     "text": [
      "WatsonHamiltonian(quadratic_force_constants=<COO: shape=(4, 4), dtype=float64, nnz=4, fill_value=0.0>, cubic_force_constants=<COO: shape=(4, 4, 4), dtype=float64, nnz=4, fill_value=0.0>, quartic_force_constants=<COO: shape=(4, 4, 4, 4), dtype=float64, nnz=12, fill_value=0.0>, kinetic_coefficients=<COO: shape=(4, 4), dtype=float64, nnz=4, fill_value=-0.0>)\n",
      "Vibrational Operator\n",
      "number modes=4, number modals=[2, 2, 3, 4], number terms=177\n",
      "  (1268.0676746875001+0j) * ( +_0_0 -_0_0 )\n",
      "+ (3813.8767834375008+0j) * ( +_0_1 -_0_1 )\n",
      "+ (705.8633818750002+0j) * ( +_1_0 -_1_0 )\n",
      "+ (-46.025705898886045+0j) * ( +_1_0 -_1_1 )\n",
      "+ (-46.025705898886045+0j) * ( +_1_1 -_1_0 )\n",
      "+ (2120.1145593750007+0j) * ( +_1_1 -_1_1 )\n",
      "+ (238.31540750000005+0j) * ( +_2_0 -_2_0 )\n",
      "+ (19.82042227976109+0j) * ( +_2_0 -_2_2 )\n",
      "...\n"
     ]
    }
   ],
   "source": [
    "from qiskit_nature.second_q.drivers import GaussianLogResult\n",
    "from qiskit_nature.second_q.formats import watson_to_problem\n",
    "from qiskit_nature.second_q.problems import HarmonicBasis\n",
    "\n",
    "log_result = GaussianLogResult(\"aux_files/CO2_freq_B3LYP_631g.log\")\n",
    "\n",
    "watson = log_result.get_watson_hamiltonian()\n",
    "print(watson)\n",
    "\n",
    "basis = HarmonicBasis(num_modals=[2, 2, 3, 4])\n",
    "\n",
    "problem = watson_to_problem(watson, basis)\n",
    "\n",
    "hamiltonian = problem.hamiltonian.second_q_op()\n",
    "print(\"\\n\".join(str(hamiltonian).splitlines()[:10] + [\"...\"]))"
   ]
  },
  {
   "cell_type": "markdown",
   "id": "66d5175a",
   "metadata": {},
   "source": [
    "## The `VibrationalStructureProblem` (`qiskit_nature.problems`)\n",
    "\n",
    "This section details all the changes around the `VibrationalStructureProblem`."
   ]
  },
  {
   "cell_type": "markdown",
   "id": "8757bf68",
   "metadata": {},
   "source": [
    "The table below summarizes the vibrational components of the **new** `qiskit_nature.second_q.problems` module, and shows from where these parts originated in the old code:\n",
    "\n",
    "| New component | Legacy location |\n",
    "|:--------------|:----------------|\n",
    "| `BaseProblem` | `qiskit_nature.problems.second_quantization.BaseProblem` |\n",
    "| `EigenstateResult` | `qiskit_nature.results.EigenstateResult` |\n",
    "| `PropertiesContainer` | similar to `qiskit_nature.properties.GroupedProperty` |\n",
    "| `VibrationalBasis` | `qiskit_nature.properties.second_quantization.vibrational.bases.VibrationalBasis` |\n",
    "| `HarmonicBasis` | `qiskit_nature.properties.second_quantization.vibrational.bases.HarmonicBasis` |\n",
    "| `VibrationalStructureProblem` | `qiskit_nature.problems.second_quantization.vibrational.VibrationalStructureProblem` |\n",
    "| `VibrationalPropertiesContainer` | _did not exist yet_ |\n",
    "| `VibrationalStructureResult` | `qiskit_nature.results.VibrationalStructureResult` |"
   ]
  },
  {
   "cell_type": "markdown",
   "id": "bd66694c",
   "metadata": {},
   "source": [
    "### Previously"
   ]
  },
  {
   "cell_type": "code",
   "execution_count": 5,
   "id": "24b9c43d",
   "metadata": {},
   "outputs": [],
   "source": [
    "from qiskit_nature.drivers.second_quantization import GaussianForcesDriver\n",
    "from qiskit_nature.problems.second_quantization import VibrationalStructureProblem\n",
    "\n",
    "driver = GaussianForcesDriver(logfile=\"aux_files/CO2_freq_B3LYP_631g.log\")\n",
    "\n",
    "problem = VibrationalStructureProblem(driver, num_modals=[2, 2, 3, 4], truncation_order=2)\n",
    "\n",
    "# we trigger driver.run() implicitly like so:\n",
    "second_q_ops = problem.second_q_ops()\n",
    "\n",
    "hamiltonian_op = second_q_ops.pop(\"VibrationalEnergy\")\n",
    "aux_ops = second_q_ops"
   ]
  },
  {
   "cell_type": "markdown",
   "id": "73fe4aa5",
   "metadata": {},
   "source": [
    "### New"
   ]
  },
  {
   "cell_type": "code",
   "execution_count": 6,
   "id": "d6a36494",
   "metadata": {},
   "outputs": [],
   "source": [
    "from qiskit_nature.second_q.drivers import GaussianForcesDriver\n",
    "from qiskit_nature.second_q.problems import HarmonicBasis\n",
    "\n",
    "driver = GaussianForcesDriver(logfile=\"aux_files/CO2_freq_B3LYP_631g.log\")\n",
    "basis = HarmonicBasis(num_modals=[2, 2, 3, 4])\n",
    "\n",
    "problem = driver.run(basis=basis)\n",
    "problem.hamiltonian.truncation_order = 2\n",
    "\n",
    "hamiltonian_op, aux_ops = problem.second_q_ops()"
   ]
  },
  {
   "cell_type": "markdown",
   "id": "57d08f45",
   "metadata": {},
   "source": [
    "For more information on the new and improved `VibrationalStructureProblem`, please refer to the [vibrational structure tutorial](../tutorials/02_vibrational_structure.ipynb)."
   ]
  },
  {
   "cell_type": "markdown",
   "id": "5e041f05",
   "metadata": {},
   "source": [
    "## `qiskit_nature.properties`\n",
    "\n",
    "The properties module has been refactored and split into multiple locations. In this section, we will only be focusing on its _vibrational_ components."
   ]
  },
  {
   "cell_type": "markdown",
   "id": "b3a383b2",
   "metadata": {},
   "source": [
    "The following table lists where each component of `qiskit_nature.properties` has been moved to.\n",
    "\n",
    "| Legacy component | New location |\n",
    "|:-----------------|:--------------|\n",
    "| `Property` | `qiskit_nature.second_q.properties.SparseLabelOpsFactory` |\n",
    "| `GroupedProperty` | succeeded by `qiskit_nature.second_q.problems.PropertiesContainer` |\n",
    "| `second_quantization.DriverMetadata` | **removed** |\n",
    "| `second_quantization.vibrational.VibrationalEnergy` | `qiskit_nature.second_q.hamiltonians.VibrationalEnergy` |\n",
    "| `second_quantization.vibrational.OccupiedModals` | `qiskit_nature.second_q.properties.OccupiedModals` |\n",
    "| `second_quantization.vibrational.bases.VibrationalBasis` | `qiskit_nature.second_q.problems.VibrationalBasis` |\n",
    "| `second_quantization.vibrational.bases.HarmonicBasis` | `qiskit_nature.second_q.problems.HarmonicBasis` |\n",
    "| `second_quantization.vibrational.integrals.VibrationalIntegrals` | succeeded by `qiskit_nature.second_q.operators.VibrationalIntegrals` |"
   ]
  },
  {
   "cell_type": "markdown",
   "id": "61749b2c",
   "metadata": {},
   "source": [
    "We suggest that you look at the [vibrational structure tutorial](../tutorials/02_vibrational_structure.ipynb) for more in-depth explanations, but we will leave a few comments here:\n",
    "\n",
    "- the `VibrationalBasis` is now only tracked on the `VibrationalStructureProblem` and not for each operator individually\n",
    "- the `VibrationalEnergy` (which has always been a_special_ `Property`) is in the new `second_q.hamiltonians` module to highlight this special role"
   ]
  },
  {
   "cell_type": "markdown",
   "id": "2d95bdd1",
   "metadata": {},
   "source": [
    "<hr/>"
   ]
  },
  {
   "cell_type": "code",
   "execution_count": 7,
   "id": "36b1ad78",
   "metadata": {},
   "outputs": [
    {
     "data": {
      "text/html": [
       "<h3>Version Information</h3><table><tr><th>Qiskit Software</th><th>Version</th></tr><tr><td><code>qiskit-terra</code></td><td>0.23.0.dev0+3ce1737</td></tr><tr><td><code>qiskit-aer</code></td><td>0.11.1</td></tr><tr><td><code>qiskit-nature</code></td><td>0.5.0</td></tr><tr><th>System information</th></tr><tr><td>Python version</td><td>3.9.15</td></tr><tr><td>Python compiler</td><td>GCC 12.2.1 20220819 (Red Hat 12.2.1-2)</td></tr><tr><td>Python build</td><td>main, Oct 12 2022 00:00:00</td></tr><tr><td>OS</td><td>Linux</td></tr><tr><td>CPUs</td><td>8</td></tr><tr><td>Memory (Gb)</td><td>62.501182556152344</td></tr><tr><td colspan='2'>Sat Nov 05 16:26:50 2022 CET</td></tr></table>"
      ],
      "text/plain": [
       "<IPython.core.display.HTML object>"
      ]
     },
     "metadata": {},
     "output_type": "display_data"
    },
    {
     "data": {
      "text/html": [
       "<div style='width: 100%; background-color:#d5d9e0;padding-left: 10px; padding-bottom: 10px; padding-right: 10px; padding-top: 5px'><h3>This code is a part of Qiskit</h3><p>&copy; Copyright IBM 2017, 2022.</p><p>This code is licensed under the Apache License, Version 2.0. You may<br>obtain a copy of this license in the LICENSE.txt file in the root directory<br> of this source tree or at http://www.apache.org/licenses/LICENSE-2.0.<p>Any modifications or derivative works of this code must retain this<br>copyright notice, and modified files need to carry a notice indicating<br>that they have been altered from the originals.</p></div>"
      ],
      "text/plain": [
       "<IPython.core.display.HTML object>"
      ]
     },
     "metadata": {},
     "output_type": "display_data"
    }
   ],
   "source": [
    "import qiskit.tools.jupyter\n",
    "\n",
    "%qiskit_version_table\n",
    "%qiskit_copyright"
   ]
  }
 ],
 "metadata": {
  "kernelspec": {
   "display_name": "Python 3",
   "language": "python",
   "name": "python3"
  },
  "language_info": {
   "codemirror_mode": {
    "name": "ipython",
    "version": 3
   },
   "file_extension": ".py",
   "mimetype": "text/x-python",
   "name": "python",
   "nbconvert_exporter": "python",
   "pygments_lexer": "ipython3",
   "version": "3.9.15"
  }
 },
 "nbformat": 4,
 "nbformat_minor": 5
}
