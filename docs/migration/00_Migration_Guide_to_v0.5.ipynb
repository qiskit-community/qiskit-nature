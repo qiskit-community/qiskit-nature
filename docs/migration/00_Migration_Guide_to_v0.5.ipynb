{
 "cells": [
  {
   "cell_type": "markdown",
   "id": "b3a17ad2",
   "metadata": {},
   "source": [
    "# Qiskit Nature v0.5 Migration Guide\n",
    "This tutorial will guide you through the process of migrating your code from Qiskit Nature v0.4 to v0.5"
   ]
  },
  {
   "cell_type": "markdown",
   "id": "fb7e4902",
   "metadata": {},
   "source": [
    "## Overview\n",
    "\n",
    "Let us begin with an overview of the refactored design. A major motivator for the refactoring of Qiskit Nature was the goal of readying Qiskit Nature for more and tighter integrations with other classical-computational codes. In order to achieve this in the most modular and maintainable manner, we had to decouple the representation of our `BaseProblem` from our `BaseDriver` classes.\n",
    "\n",
    "This led to the following abstract design of the Qiskit Nature package:\n",
    "![Qiskit Nature 0.5](aux_files/qiskit_nature_0.5_overview.png)\n",
    "\n",
    "As you can see, the package is logically divided into two concepts:\n",
    "\n",
    "1. **problems**: which are representations of scientific problems to which one seeks a solution\n",
    "2. **algorithms**: which provide the means to find solutions to said problems\n",
    "\n",
    "In each of these cases, Qiskit Nature has three pillars:\n",
    "\n",
    "1. **problems**:\n",
    "    1. _Electronic Structure Problem_: representing the problem of the electronic Schrödinger equation of molecular systems\n",
    "    2. _Vibrational Structure Problem_: representing the problem posed by the Watson Hamiltonian of molecular systems\n",
    "    3. _Lattice Model Problem_: representing problems defined on lattices\n",
    "2. **algorithms**:\n",
    "    1. _Ground State Solver_: for finding the ground state of a problem\n",
    "    2. _Excited States Solver_: for finding excited states of a problem\n",
    "    3. _Hamiltonian Simulation_: to simulate dynamics of a problem (_planned for v0.6_)\n",
    "  \n",
    "Some of these concepts have already been present in earlier versions of Qiskit Nature, but were not as clearly separated. Furthermore, the integration with classical codes has been very restrictive in older versions, limiting not only the potential applications of such integrations, but also the capabilities of our `BaseProblem` representation, and its usage in the remainder of the package."
   ]
  },
  {
   "cell_type": "markdown",
   "id": "84e77b76",
   "metadata": {},
   "source": [
    "## How to use this guide\n",
    "\n",
    "This guide is split across multiple files allowing you to discover the changes between v0.4 and v0.5 to each submodule as you find the need. That means, you do not need to read all of the details at once and jumping around is highly encouraged.\n",
    "\n",
    "Generally speaking the refactoring largely relocated any code from `qiskit_nature.X.second_quantization` to `qiskit_nature.second_q.X`. This should help you navigate the source code for most cases. However, in some specific cases we have re-categorized specific modules/classes, so be advised to look into the guides for more details below.\n",
    "\n",
    "To understand what files you need to pay attention too, please carefully review the following list of topics:\n",
    "\n",
    "- [Solving **any** problem](./00a_Solving_problems_with_v0.5.ipynb)\n",
    "- [Electronic Structure Problems](./00b_Electronic_structure_with_v0.5.ipynb)\n",
    "- [Vibrational Structure Problems](./00c_Vibrational_structure_with_v0.5.ipynb)\n",
    "- [Lattice Model Problems](./00d_Lattice_models_with_v0.5.ipynb)\n",
    "- [Protein Folding](./00e_Protein_folding_with_v0.5.ipynb)"
   ]
  },
  {
   "cell_type": "markdown",
   "id": "f17ca7e0",
   "metadata": {},
   "source": [
    "## Some important general notes"
   ]
  },
  {
   "cell_type": "markdown",
   "id": "906b9d26",
   "metadata": {},
   "source": [
    "### Too many positional arguments\n",
    "\n",
    "With Qiskit Nature v0.5 we have started to require certain arguments in the public API to be **keyword-only** arguments. This change was motivated by the following advantages:\n",
    "\n",
    "- improved readability: in the example given below, it is immediately clear what a given argument does\n",
    "- improved forwards compatibility: adding more arguments in the future will be a lot simpler because keyword arguments are not order-dependent\n",
    "\n",
    "That means, even if you only need to update the import path during your migration process, you may run into errors like the following:"
   ]
  },
  {
   "cell_type": "markdown",
   "id": "9e660a85",
   "metadata": {},
   "source": [
    "#### Previously"
   ]
  },
  {
   "cell_type": "code",
   "execution_count": 1,
   "id": "36050fb1",
   "metadata": {},
   "outputs": [],
   "source": [
    "from qiskit_nature.mappers.second_quantization import LogarithmicMapper\n",
    "\n",
    "mapper = LogarithmicMapper(2)"
   ]
  },
  {
   "cell_type": "markdown",
   "id": "d977c109",
   "metadata": {},
   "source": [
    "Now we update the import path to the new location and obtain an error:"
   ]
  },
  {
   "cell_type": "code",
   "execution_count": 2,
   "id": "142b3d10",
   "metadata": {
    "scrolled": true,
    "tags": [
     "raises-exception"
    ]
   },
   "outputs": [
    {
     "ename": "TypeError",
     "evalue": "__init__() takes 1 positional argument but 2 were given",
     "output_type": "error",
     "traceback": [
      "\u001b[0;31m---------------------------------------------------------------------------\u001b[0m",
      "\u001b[0;31mTypeError\u001b[0m                                 Traceback (most recent call last)",
      "\u001b[0;32m<ipython-input-2-74b842b89d77>\u001b[0m in \u001b[0;36m<module>\u001b[0;34m\u001b[0m\n\u001b[1;32m      1\u001b[0m \u001b[0;32mfrom\u001b[0m \u001b[0mqiskit_nature\u001b[0m\u001b[0;34m.\u001b[0m\u001b[0msecond_q\u001b[0m\u001b[0;34m.\u001b[0m\u001b[0mmappers\u001b[0m \u001b[0;32mimport\u001b[0m \u001b[0mLogarithmicMapper\u001b[0m\u001b[0;34m\u001b[0m\u001b[0;34m\u001b[0m\u001b[0m\n\u001b[1;32m      2\u001b[0m \u001b[0;34m\u001b[0m\u001b[0m\n\u001b[0;32m----> 3\u001b[0;31m \u001b[0mmapper\u001b[0m \u001b[0;34m=\u001b[0m \u001b[0mLogarithmicMapper\u001b[0m\u001b[0;34m(\u001b[0m\u001b[0;36m2\u001b[0m\u001b[0;34m)\u001b[0m\u001b[0;34m\u001b[0m\u001b[0;34m\u001b[0m\u001b[0m\n\u001b[0m",
      "\u001b[0;31mTypeError\u001b[0m: __init__() takes 1 positional argument but 2 were given"
     ]
    }
   ],
   "source": [
    "from qiskit_nature.second_q.mappers import LogarithmicMapper\n",
    "\n",
    "mapper = LogarithmicMapper(2)"
   ]
  },
  {
   "cell_type": "markdown",
   "id": "cd5dafa2",
   "metadata": {},
   "source": [
    "If this happens to you, we suggest that you simply check the documentation of the class which you are trying to use. It is very likely that only need to change from using an argument _positionally_ to using it with a **keyword**. For example like so:"
   ]
  },
  {
   "cell_type": "markdown",
   "id": "dd1f3422",
   "metadata": {},
   "source": [
    "#### New"
   ]
  },
  {
   "cell_type": "code",
   "execution_count": 3,
   "id": "0654728c",
   "metadata": {},
   "outputs": [],
   "source": [
    "from qiskit_nature.second_q.mappers import LogarithmicMapper\n",
    "\n",
    "mapper = LogarithmicMapper(padding=2)"
   ]
  },
  {
   "cell_type": "markdown",
   "id": "fe31898b",
   "metadata": {},
   "source": [
    "### Unexpected number of orbitals or qubits\n",
    "\n",
    "With Qiskit Nature v0.5 we have switched the entire stack over from using `num_spin_orbitals` to instead use `num_spatial_orbitals`. The motivation behind this, was that the behavior when specifying an odd number of spin orbitals was ill-defined and not guarded against, potentially causing surprising results.\n",
    "By switching to the number of spatial orbitals (which then get multiplied by 2 to yield the total number of spin orbitals), this problem can no longer arise.\n",
    "\n",
    "So if you do encounter some unexpected number of orbitals and/or qubits in your results, be sure to check whether you need to update your input. For example like shown below:"
   ]
  },
  {
   "cell_type": "markdown",
   "id": "1c04de1a",
   "metadata": {},
   "source": [
    "#### Previously"
   ]
  },
  {
   "cell_type": "code",
   "execution_count": 4,
   "id": "584177ec",
   "metadata": {},
   "outputs": [
    {
     "name": "stdout",
     "output_type": "stream",
     "text": [
      "     ┌───┐\n",
      "q_0: ┤ X ├\n",
      "     ├───┤\n",
      "q_1: ┤ X ├\n",
      "     └───┘\n",
      "q_2: ─────\n",
      "     ┌───┐\n",
      "q_3: ┤ X ├\n",
      "     └───┘\n",
      "q_4: ─────\n",
      "          \n",
      "q_5: ─────\n",
      "          \n"
     ]
    }
   ],
   "source": [
    "from qiskit_nature.circuit.library import HartreeFock\n",
    "from qiskit_nature.converters.second_quantization import QubitConverter\n",
    "from qiskit_nature.mappers.second_quantization import JordanWignerMapper\n",
    "\n",
    "converter = QubitConverter(JordanWignerMapper())\n",
    "\n",
    "init_state = HartreeFock(num_spin_orbitals=6, num_particles=(2, 1), qubit_converter=converter)\n",
    "print(init_state.draw())"
   ]
  },
  {
   "cell_type": "markdown",
   "id": "aff93707",
   "metadata": {},
   "source": [
    "#### New"
   ]
  },
  {
   "cell_type": "code",
   "execution_count": 5,
   "id": "d431dfc1",
   "metadata": {},
   "outputs": [
    {
     "name": "stdout",
     "output_type": "stream",
     "text": [
      "     ┌───┐\n",
      "q_0: ┤ X ├\n",
      "     ├───┤\n",
      "q_1: ┤ X ├\n",
      "     └───┘\n",
      "q_2: ─────\n",
      "     ┌───┐\n",
      "q_3: ┤ X ├\n",
      "     └───┘\n",
      "q_4: ─────\n",
      "          \n",
      "q_5: ─────\n",
      "          \n"
     ]
    }
   ],
   "source": [
    "from qiskit_nature.second_q.circuit.library import HartreeFock\n",
    "from qiskit_nature.second_q.mappers import JordanWignerMapper, QubitConverter\n",
    "\n",
    "converter = QubitConverter(JordanWignerMapper())\n",
    "\n",
    "init_state = HartreeFock(num_spatial_orbitals=3, num_particles=(2, 1), qubit_converter=converter)\n",
    "print(init_state.draw())"
   ]
  },
  {
   "cell_type": "markdown",
   "id": "6529e8f9",
   "metadata": {},
   "source": [
    "<hr/>"
   ]
  },
  {
   "cell_type": "code",
   "execution_count": 6,
   "id": "62435e20",
   "metadata": {},
   "outputs": [
    {
     "data": {
      "text/html": [
       "<h3>Version Information</h3><table><tr><th>Qiskit Software</th><th>Version</th></tr><tr><td><code>qiskit-terra</code></td><td>0.23.0.dev0+3ce1737</td></tr><tr><td><code>qiskit-aer</code></td><td>0.11.1</td></tr><tr><td><code>qiskit-nature</code></td><td>0.5.0</td></tr><tr><th>System information</th></tr><tr><td>Python version</td><td>3.9.15</td></tr><tr><td>Python compiler</td><td>GCC 12.2.1 20220819 (Red Hat 12.2.1-2)</td></tr><tr><td>Python build</td><td>main, Oct 12 2022 00:00:00</td></tr><tr><td>OS</td><td>Linux</td></tr><tr><td>CPUs</td><td>8</td></tr><tr><td>Memory (Gb)</td><td>62.501182556152344</td></tr><tr><td colspan='2'>Sat Nov 05 15:34:13 2022 CET</td></tr></table>"
      ],
      "text/plain": [
       "<IPython.core.display.HTML object>"
      ]
     },
     "metadata": {},
     "output_type": "display_data"
    },
    {
     "data": {
      "text/html": [
       "<div style='width: 100%; background-color:#d5d9e0;padding-left: 10px; padding-bottom: 10px; padding-right: 10px; padding-top: 5px'><h3>This code is a part of Qiskit</h3><p>&copy; Copyright IBM 2017, 2022.</p><p>This code is licensed under the Apache License, Version 2.0. You may<br>obtain a copy of this license in the LICENSE.txt file in the root directory<br> of this source tree or at http://www.apache.org/licenses/LICENSE-2.0.<p>Any modifications or derivative works of this code must retain this<br>copyright notice, and modified files need to carry a notice indicating<br>that they have been altered from the originals.</p></div>"
      ],
      "text/plain": [
       "<IPython.core.display.HTML object>"
      ]
     },
     "metadata": {},
     "output_type": "display_data"
    }
   ],
   "source": [
    "import qiskit.tools.jupyter\n",
    "\n",
    "%qiskit_version_table\n",
    "%qiskit_copyright"
   ]
  }
 ],
 "metadata": {
  "celltoolbar": "Tags",
  "kernelspec": {
   "display_name": "Python 3",
   "language": "python",
   "name": "python3"
  },
  "language_info": {
   "codemirror_mode": {
    "name": "ipython",
    "version": 3
   },
   "file_extension": ".py",
   "mimetype": "text/x-python",
   "name": "python",
   "nbconvert_exporter": "python",
   "pygments_lexer": "ipython3",
   "version": "3.9.15"
  }
 },
 "nbformat": 4,
 "nbformat_minor": 5
}
