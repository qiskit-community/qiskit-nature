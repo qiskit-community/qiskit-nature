{
 "cells": [
  {
   "cell_type": "markdown",
   "id": "a4689533",
   "metadata": {},
   "source": [
    "# Solving Problems with v0.5\n",
    "\n",
    "### Overview\n",
    "The major focus of the Qiskit Nature v0.5 refactoring was the description and representation of second-quantized operators and problems. Nonetheless, the `algorithms` module and supporting modules did also receive significant updates. Most importantly all algorithms In Nature are now dependent on the new Qiskit Terra algorithms, and these are now based on [Qiskit Primitives](https://qiskit.org/documentation/apidoc/primitives.html) and were added in Qiskit Terra 0.22. It is not the intention to provide detailed explanations of the primitives in this migration guide. We suggest that you read the [corresponding resources](https://qiskit.org/documentation/apidoc/primitives.html) of the Qiskit Terra documentation instead.\n",
    "\n",
    "### Table of Contents\n",
    "In this document, we will provide an overview of the API changes alongside with some minimal explanations:\n",
    "\n",
    "- [qiskit_nature.mappers](#qiskit_nature.mappers)\n",
    "- [qiskit_nature.converters](#qiskit_nature.converters)\n",
    "- [qiskit_nature.circuit](#qiskit_nature.circuit)\n",
    "- [qiskit_nature.algorithms](#qiskit_nature.algorithms)\n",
    "\n",
    "### Further Resources\n",
    "For more details, please refer to the corresponding tutorials:\n",
    "\n",
    "- [Ground State Solvers](../tutorials/03_ground_state_solvers.ipynb)\n",
    "- [Excited States Solvers](../tutorials/04_excited_states_solvers.ipynb)\n",
    "- [Qubit Mappers](../tutorials/06_qubit_mappers.ipynb)"
   ]
  },
  {
   "cell_type": "markdown",
   "id": "839439b4",
   "metadata": {},
   "source": [
    "# `qiskit_nature.mappers`\n",
    "\n",
    "The mappers of Qiskit Nature did **not** receive any API changes (other than potentially requiring certain arguments to be keywords; see also the [\"Too many positional arguments\" section](./00_Migration_Guide_to_v0.5.ipynb)). However, the entire module `qiskit_nature.mappers.second_quantization` has been moved to `qiskit_nature.second_q.mappers`. So updating your import is all you need to do here."
   ]
  },
  {
   "cell_type": "markdown",
   "id": "b783729d",
   "metadata": {},
   "source": [
    "# `qiskit_nature.converters`\n",
    "\n",
    "This module contained a single component: `QubitConverter`. This has been moved to `qiskit_nature.second_q.mappers.QubitConverter` so you can simply update your import path.\n",
    "\n",
    "API changes were again minimal but the operators being translated by this class are no longer the legacy `SecondQuantizedOp` but rather the new `SparseLabelOp` objects."
   ]
  },
  {
   "cell_type": "markdown",
   "id": "860aa259",
   "metadata": {},
   "source": [
    "# `qiskit_nature.circuit`\n",
    "\n",
    "The entire `qiskit_nature.circuit` module was relocated to `qiskit_nature.second_q.circuit`.\n",
    "The reason for this, is that the existing circuit were actually only applicable to second-quantized applications, but the API did not reflect this. Updating your imports should fix _most_ issues.\n",
    "\n",
    "However, there are two more details to take note of, detailed below."
   ]
  },
  {
   "cell_type": "markdown",
   "id": "85e142f3",
   "metadata": {},
   "source": [
    "### Number of Orbitals\n",
    "\n",
    "We have been consistently describing the number of orbitals via `num_spin_orbitals` throughout the package. However, what this oftentimes implied (without rigorous checks) was that an **even** number was supplied, since the number of spin orbitals was assumed to equal twice the number of **spatial** orbitals.\n",
    "\n",
    "To be more rigorous and avoid the ill-defined behavior when providing _odd_ numbers for `num_spin_orbitals`, we have switch the entire stack to use `num_spatial_orbitals` instead. This is well defined for any positive integer value (and negative values are guarded against).\n",
    "\n",
    "What this means for you in practice, is that whenever you supply the `num_spin_orbitals` manually in the past, you now need to supply **half the value** to represent the `num_spatial_orbitals`."
   ]
  },
  {
   "cell_type": "markdown",
   "id": "be53b639",
   "metadata": {},
   "source": [
    "#### Previously"
   ]
  },
  {
   "cell_type": "code",
   "execution_count": 1,
   "id": "1eb5819d",
   "metadata": {},
   "outputs": [],
   "source": [
    "from qiskit_nature.circuit.library import UCCSD\n",
    "\n",
    "ansatz = UCCSD()\n",
    "ansatz.num_spin_orbitals = 10"
   ]
  },
  {
   "cell_type": "markdown",
   "id": "97a75998",
   "metadata": {},
   "source": [
    "#### New"
   ]
  },
  {
   "cell_type": "code",
   "execution_count": 2,
   "id": "888355a6",
   "metadata": {},
   "outputs": [],
   "source": [
    "from qiskit_nature.second_q.circuit.library import UCCSD\n",
    "\n",
    "ansatz = UCCSD()\n",
    "ansatz.num_spatial_orbitals = 5"
   ]
  },
  {
   "cell_type": "markdown",
   "id": "024bb7e8",
   "metadata": {},
   "source": [
    "### UCC/UVCC `__init__` arguments\n",
    "\n",
    "The `UCC` and `UVCC` subclasses used to take the following arguments for their `__init__`:"
   ]
  },
  {
   "cell_type": "markdown",
   "id": "a11e7744",
   "metadata": {},
   "source": [
    "#### Previously"
   ]
  },
  {
   "cell_type": "code",
   "execution_count": 3,
   "id": "d62d7cec",
   "metadata": {},
   "outputs": [],
   "source": [
    "from qiskit_nature.circuit.library import UCC, UVCC\n",
    "\n",
    "ucc = UCC(qubit_converter=None, num_particles=None, num_spin_orbitals=None, excitations=None)\n",
    "uvcc = UVCC(qubit_converter=None, num_modals=None, excitations=None)"
   ]
  },
  {
   "cell_type": "markdown",
   "id": "7c3cab8c",
   "metadata": {},
   "source": [
    "#### New\n",
    "This was mismatching the API of the `HartreeFock` and `VSCF` initial states. We have aligned these APIs to look like in the following:"
   ]
  },
  {
   "cell_type": "code",
   "execution_count": 4,
   "id": "f45a8afc",
   "metadata": {},
   "outputs": [],
   "source": [
    "from qiskit_nature.second_q.circuit.library import UCC, UVCC\n",
    "\n",
    "ucc = UCC(num_spatial_orbitals=None, num_particles=None, excitations=None, qubit_converter=None)\n",
    "uvcc = UVCC(num_modals=None, excitations=None, qubit_converter=None)"
   ]
  },
  {
   "cell_type": "markdown",
   "id": "9309193b",
   "metadata": {},
   "source": [
    "### HartreeFock/VSCF initial states\n",
    "\n",
    "The `HartreeFock` and `VSCF` initial state circuits are now implemented as `BlueprintCircuit`. That means, that you can initialize them without any arguments and supply the information later as shown below:"
   ]
  },
  {
   "cell_type": "markdown",
   "id": "62ad3400",
   "metadata": {},
   "source": [
    "#### Previously"
   ]
  },
  {
   "cell_type": "code",
   "execution_count": 5,
   "id": "01b69b82",
   "metadata": {},
   "outputs": [],
   "source": [
    "from qiskit_nature.circuit.library import HartreeFock, VSCF\n",
    "from qiskit_nature.converters.second_quantization import QubitConverter\n",
    "from qiskit_nature.mappers.second_quantization import DirectMapper, JordanWignerMapper\n",
    "\n",
    "hf = HartreeFock(\n",
    "    num_spin_orbitals=4, num_particles=(1, 1), qubit_converter=QubitConverter(JordanWignerMapper())\n",
    ")\n",
    "vscf = VSCF(num_modals=[2, 2])"
   ]
  },
  {
   "cell_type": "markdown",
   "id": "4577ab7c",
   "metadata": {},
   "source": [
    "#### New"
   ]
  },
  {
   "cell_type": "code",
   "execution_count": 6,
   "id": "7129c898",
   "metadata": {},
   "outputs": [],
   "source": [
    "from qiskit_nature.second_q.circuit.library import HartreeFock, VSCF\n",
    "from qiskit_nature.second_q.mappers import DirectMapper, JordanWignerMapper, QubitConverter\n",
    "\n",
    "hf = HartreeFock()\n",
    "hf.num_spatial_orbitals = 2\n",
    "hf.num_particles = (1, 1)\n",
    "hf.qubit_converter = QubitConverter(JordanWignerMapper())\n",
    "\n",
    "vscf = VSCF()\n",
    "vscf.num_modals = [2, 2]"
   ]
  },
  {
   "cell_type": "markdown",
   "id": "43bb3a7e",
   "metadata": {},
   "source": [
    "# `qiskit_nature.algorithms`\n",
    "\n",
    "The algorithms in Qiskit Nature have been updated to use the new `qiskit.algorithms` components which are based on the `qiskit.primitives` as of Qiskit Terra 0.22.\n",
    "\n",
    "For most changes to take effect, you can once again simply update your import paths from `qiskit_nature.algorithms` to `qiskit_nature.second_q.algorithms`. However, there are some details which you need to pay attention to, due to the change to the primitive-based algorithms of Qiskit Terra being used under the hood. These details are explained below."
   ]
  },
  {
   "cell_type": "markdown",
   "id": "9fcccba0",
   "metadata": {},
   "source": [
    "### `qiskit_nature.algorithms.initial_points`\n",
    "\n",
    "This module was moved to `qiskit_nature.second_q.algorithms.initial_points`. All you need to do is update your imports."
   ]
  },
  {
   "cell_type": "markdown",
   "id": "055d089b",
   "metadata": {},
   "source": [
    "### `qiskit_nature.algorithms.pes_samplers`\n",
    "\n",
    "This module was **removed** without a replacement. The reason for that, is that we are working towards a driver-less design of Qiskit Nature, in which case the sampling of the potential energy surface becomes the responsibility of the classical code rather than Qiskit Nature."
   ]
  },
  {
   "cell_type": "markdown",
   "id": "3f1f4687",
   "metadata": {},
   "source": [
    "### `qiskit_nature.algorithms.ground_state_solvers`\n",
    "\n",
    "This module was moved to `qiskit_nature.second_q.algorithms.ground_state_solvers`.\n",
    "Besides updating your imports, you need to pay attention to the following:\n",
    "\n",
    "- `AdaptVQE` was migrated to Qiskit Terra: `qiskit.algorithms.minimum_eigensolver.AdaptVQE`. In doing so, this is no longer a `GroundStateSolver` but rather became a `MinimumEigensolver` which means that you would use it like any other `VQE` and inject it **into** a `GroundStateSolver` of Qiskit Nature. To see the new `AdaptVQE` in action, check out the [How to use the AdaptVQE](../howtos/adapt_vqe.rst).\n",
    "- the API of the `VQEUCCFactory` and `VQEUVCCFactory` has been matched with the new primitive-based `VQE` API"
   ]
  },
  {
   "cell_type": "markdown",
   "id": "c48ecd95",
   "metadata": {},
   "source": [
    "#### Previously"
   ]
  },
  {
   "cell_type": "code",
   "execution_count": 7,
   "id": "2ebeb448",
   "metadata": {},
   "outputs": [
    {
     "name": "stderr",
     "output_type": "stream",
     "text": [
      "<ipython-input-7-235294d4c9ec>:3: NatureDeprecationWarning: The qiskit_nature.algorithms.excited_state_solvers package is deprecated as of version 0.5.0 and will be removed no sooner than 3 months after the release. Instead use the qiskit_nature.second_q.algorithms.excited_state_solvers package.\n",
      "  from qiskit_nature.algorithms.ground_state_solvers import VQEUCCFactory\n",
      "<ipython-input-7-235294d4c9ec>:3: NatureDeprecationWarning: The qiskit_nature.algorithms.pes_sampler package is deprecated as of version 0.5.0 and will be removed no sooner than 3 months after the release . Please refer to 'https://github.com/Qiskit/qiskit-nature/issues/750' for additional information regarding 'extrapolators'.\n",
      "  from qiskit_nature.algorithms.ground_state_solvers import VQEUCCFactory\n"
     ]
    }
   ],
   "source": [
    "from qiskit.providers.basicaer import BasicAer\n",
    "from qiskit.utils import QuantumInstance\n",
    "from qiskit_nature.algorithms.ground_state_solvers import VQEUCCFactory\n",
    "\n",
    "quantum_instance = QuantumInstance(BasicAer.get_backend(\"statevector_simulator\"))\n",
    "vqe_factory = VQEUCCFactory(quantum_instance=quantum_instance)"
   ]
  },
  {
   "cell_type": "markdown",
   "id": "46356cae",
   "metadata": {},
   "source": [
    "#### New"
   ]
  },
  {
   "cell_type": "code",
   "execution_count": 8,
   "id": "baf90619",
   "metadata": {},
   "outputs": [],
   "source": [
    "from qiskit.algorithms.optimizers import SLSQP\n",
    "from qiskit.primitives import Estimator\n",
    "from qiskit_nature.second_q.circuit.library import UCCSD\n",
    "from qiskit_nature.second_q.algorithms.ground_state_solvers import VQEUCCFactory\n",
    "\n",
    "estimator = Estimator()\n",
    "ansatz = UCCSD()\n",
    "optimizer = SLSQP()\n",
    "\n",
    "vqe_factory = VQEUCCFactory(estimator, ansatz, optimizer)"
   ]
  },
  {
   "cell_type": "markdown",
   "id": "31586482",
   "metadata": {},
   "source": [
    "### `qiskit_nature.algorithms.excited_states_solvers`\n",
    "\n",
    "This module was moved to `qiskit_nature.second_q.algorithms.excited_states_solvers`.\n",
    "Besides updating your imports, you need to pay attention to the following:\n",
    "\n",
    "- the `QEOM` API now also requires an [Estimator primitiver](https://qiskit.org/documentation/stubs/qiskit.primitives.BaseEstimator.html) to be provided"
   ]
  },
  {
   "cell_type": "markdown",
   "id": "611ca96f",
   "metadata": {},
   "source": [
    "#### Previously"
   ]
  },
  {
   "cell_type": "code",
   "execution_count": 9,
   "id": "337cb1e9",
   "metadata": {},
   "outputs": [
    {
     "name": "stderr",
     "output_type": "stream",
     "text": [
      "<ipython-input-9-1de6c59e430e>:8: NatureDeprecationWarning: The qiskit_nature.algorithms.ground_state_solvers.GroundStateEigensolver class is deprecated as of version 0.5.0 and will be removed no sooner than 3 months after the release. Instead use the qiskit_nature.second_q.algorithms.ground_state_solvers.GroundStateEigensolver class.\n",
      "  ground_state_solver = GroundStateEigensolver(converter, vqe_factory)\n"
     ]
    }
   ],
   "source": [
    "from qiskit_nature.algorithms.ground_state_solvers import GroundStateEigensolver, VQEUCCFactory\n",
    "from qiskit_nature.algorithms.excited_states_solvers import QEOM\n",
    "from qiskit_nature.converters.second_quantization import QubitConverter\n",
    "from qiskit_nature.mappers.second_quantization import JordanWignerMapper\n",
    "\n",
    "vqe_factory = VQEUCCFactory()\n",
    "converter = QubitConverter(JordanWignerMapper())\n",
    "ground_state_solver = GroundStateEigensolver(converter, vqe_factory)\n",
    "\n",
    "qeom = QEOM(ground_state_solver)"
   ]
  },
  {
   "cell_type": "markdown",
   "id": "307a25f1",
   "metadata": {},
   "source": [
    "#### New"
   ]
  },
  {
   "cell_type": "code",
   "execution_count": 10,
   "id": "cdd5677a",
   "metadata": {},
   "outputs": [],
   "source": [
    "from qiskit.algorithms.optimizers import SLSQP\n",
    "from qiskit.primitives import Estimator\n",
    "from qiskit_nature.second_q.circuit.library import UCCSD\n",
    "from qiskit_nature.second_q.algorithms.ground_state_solvers import (\n",
    "    GroundStateEigensolver,\n",
    "    VQEUCCFactory,\n",
    ")\n",
    "from qiskit_nature.second_q.algorithms.excited_states_solvers import QEOM\n",
    "from qiskit_nature.second_q.mappers import JordanWignerMapper, QubitConverter\n",
    "\n",
    "estimator = Estimator()\n",
    "ansatz = UCCSD()\n",
    "optimizer = SLSQP()\n",
    "\n",
    "vqe_factory = VQEUCCFactory(estimator, ansatz, optimizer)\n",
    "converter = QubitConverter(JordanWignerMapper())\n",
    "ground_state_solver = GroundStateEigensolver(converter, vqe_factory)\n",
    "\n",
    "qeom = QEOM(ground_state_solver, estimator)"
   ]
  },
  {
   "cell_type": "markdown",
   "id": "f7eed197",
   "metadata": {},
   "source": [
    "<hr/>"
   ]
  },
  {
   "cell_type": "code",
   "execution_count": 11,
   "id": "242509f6",
   "metadata": {},
   "outputs": [
    {
     "data": {
      "text/html": [
       "<h3>Version Information</h3><table><tr><th>Qiskit Software</th><th>Version</th></tr><tr><td><code>qiskit-terra</code></td><td>0.23.0.dev0+3ce1737</td></tr><tr><td><code>qiskit-aer</code></td><td>0.11.1</td></tr><tr><td><code>qiskit-nature</code></td><td>0.5.0</td></tr><tr><th>System information</th></tr><tr><td>Python version</td><td>3.9.15</td></tr><tr><td>Python compiler</td><td>GCC 12.2.1 20220819 (Red Hat 12.2.1-2)</td></tr><tr><td>Python build</td><td>main, Oct 12 2022 00:00:00</td></tr><tr><td>OS</td><td>Linux</td></tr><tr><td>CPUs</td><td>8</td></tr><tr><td>Memory (Gb)</td><td>62.501182556152344</td></tr><tr><td colspan='2'>Sat Nov 05 15:50:47 2022 CET</td></tr></table>"
      ],
      "text/plain": [
       "<IPython.core.display.HTML object>"
      ]
     },
     "metadata": {},
     "output_type": "display_data"
    },
    {
     "data": {
      "text/html": [
       "<div style='width: 100%; background-color:#d5d9e0;padding-left: 10px; padding-bottom: 10px; padding-right: 10px; padding-top: 5px'><h3>This code is a part of Qiskit</h3><p>&copy; Copyright IBM 2017, 2022.</p><p>This code is licensed under the Apache License, Version 2.0. You may<br>obtain a copy of this license in the LICENSE.txt file in the root directory<br> of this source tree or at http://www.apache.org/licenses/LICENSE-2.0.<p>Any modifications or derivative works of this code must retain this<br>copyright notice, and modified files need to carry a notice indicating<br>that they have been altered from the originals.</p></div>"
      ],
      "text/plain": [
       "<IPython.core.display.HTML object>"
      ]
     },
     "metadata": {},
     "output_type": "display_data"
    }
   ],
   "source": [
    "import qiskit.tools.jupyter\n",
    "\n",
    "%qiskit_version_table\n",
    "%qiskit_copyright"
   ]
  }
 ],
 "metadata": {
  "kernelspec": {
   "display_name": "Python 3",
   "language": "python",
   "name": "python3"
  },
  "language_info": {
   "codemirror_mode": {
    "name": "ipython",
    "version": 3
   },
   "file_extension": ".py",
   "mimetype": "text/x-python",
   "name": "python",
   "nbconvert_exporter": "python",
   "pygments_lexer": "ipython3",
   "version": "3.9.15"
  }
 },
 "nbformat": 4,
 "nbformat_minor": 5
}
