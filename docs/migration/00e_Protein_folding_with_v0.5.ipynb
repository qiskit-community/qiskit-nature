{
 "cells": [
  {
   "cell_type": "markdown",
   "id": "26743bdf",
   "metadata": {},
   "source": [
    "# Protein Folding with Qiskit Nature v0.5\n",
    "\n",
    "The keen-eyed among you will have already noticed in the [overview of the design of Qiskit Nature](./00_Migration_Guide_to_v0.5.ipynb) that protein folding was not mentioned at all.\n",
    "The reason for that is simply that it does not align with the vision and goals of Qiskit Nature. Its status was more of a prototype than a continuously developing feature like the other parts of the package and on top of that it is really more a chemistry-inspired _optimization problem_ which is not something that is currently in the scope of Qiskit Nature.\n",
    "\n",
    "Thus, the entire code related to protein folding has been migrated to the [Qiskit Research repository](https://github.com/qiskit-research/qiskit-research) from where you can still install and use it, just like you have done so far, except with the new import locations based on that package.\n",
    "\n",
    "We suggest that you read [the updated tutorial](https://qiskit-research.github.io/qiskit-research/protein_folding/protein_folding.html) which should contain all information for you to migrate your code."
   ]
  },
  {
   "cell_type": "markdown",
   "id": "68facbce",
   "metadata": {},
   "source": [
    "<hr/>"
   ]
  },
  {
   "cell_type": "code",
   "execution_count": 1,
   "id": "5a23fd42",
   "metadata": {},
   "outputs": [
    {
     "data": {
      "text/html": [
       "<h3>Version Information</h3><table><tr><th>Qiskit Software</th><th>Version</th></tr><tr><td><code>qiskit-terra</code></td><td>0.23.0.dev0+3095955</td></tr><tr><td><code>qiskit-aer</code></td><td>0.11.0</td></tr><tr><td><code>qiskit-nature</code></td><td>0.5.0</td></tr><tr><th>System information</th></tr><tr><td>Python version</td><td>3.9.15</td></tr><tr><td>Python compiler</td><td>GCC 12.2.1 20220819 (Red Hat 12.2.1-2)</td></tr><tr><td>Python build</td><td>main, Oct 12 2022 00:00:00</td></tr><tr><td>OS</td><td>Linux</td></tr><tr><td>CPUs</td><td>8</td></tr><tr><td>Memory (Gb)</td><td>62.501182556152344</td></tr><tr><td colspan='2'>Thu Nov 03 09:55:41 2022 CET</td></tr></table>"
      ],
      "text/plain": [
       "<IPython.core.display.HTML object>"
      ]
     },
     "metadata": {},
     "output_type": "display_data"
    },
    {
     "data": {
      "text/html": [
       "<div style='width: 100%; background-color:#d5d9e0;padding-left: 10px; padding-bottom: 10px; padding-right: 10px; padding-top: 5px'><h3>This code is a part of Qiskit</h3><p>&copy; Copyright IBM 2017, 2022.</p><p>This code is licensed under the Apache License, Version 2.0. You may<br>obtain a copy of this license in the LICENSE.txt file in the root directory<br> of this source tree or at http://www.apache.org/licenses/LICENSE-2.0.<p>Any modifications or derivative works of this code must retain this<br>copyright notice, and modified files need to carry a notice indicating<br>that they have been altered from the originals.</p></div>"
      ],
      "text/plain": [
       "<IPython.core.display.HTML object>"
      ]
     },
     "metadata": {},
     "output_type": "display_data"
    }
   ],
   "source": [
    "import qiskit.tools.jupyter\n",
    "\n",
    "%qiskit_version_table\n",
    "%qiskit_copyright"
   ]
  }
 ],
 "metadata": {
  "kernelspec": {
   "display_name": "Python 3",
   "language": "python",
   "name": "python3"
  },
  "language_info": {
   "codemirror_mode": {
    "name": "ipython",
    "version": 3
   },
   "file_extension": ".py",
   "mimetype": "text/x-python",
   "name": "python",
   "nbconvert_exporter": "python",
   "pygments_lexer": "ipython3",
   "version": "3.9.15"
  }
 },
 "nbformat": 4,
 "nbformat_minor": 5
}
