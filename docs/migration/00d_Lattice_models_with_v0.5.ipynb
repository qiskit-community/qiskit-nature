{
 "cells": [
  {
   "cell_type": "markdown",
   "id": "b2d9fe6c",
   "metadata": {},
   "source": [
    "# Lattice Model Problems with v0.5\n",
    "\n",
    "The lattice models have only received some minor updates in this release of Qiskit Nature.\n",
    "\n",
    "One **important** change is that since all lattice models now implement the new `Hamiltonian` interface rather than the old `Property` one, you obtain the actual operator via the `second_q_op()` method instead of `second_q_ops()` (Note the trailing `s`).\n",
    "\n",
    "### Overview\n",
    "Most notably, the imports have changed as follows:\n",
    "\n",
    "| Legacy location | New location |\n",
    "|:----------------|:-------------|\n",
    "| `qiskit_nature.problems.second_quantization.lattice.models` | `qiskit_nature.second_q.hamiltonians` |\n",
    "| `qiskit_nature.problems.second_quantization.lattice.lattices` | `qiskit_nature.second_q.hamiltonians.lattices` |\n",
    "| `qiskit_nature.problems.second_quantization.lattice.LatticeModelProblem` | `qiskit_nature.second_q.problems.LatticeModelProblem` |\n",
    "\n",
    "Furthermore, the factory methods for `Lattice` objects defined on the `LatticeModel` classes were migrated as follows:\n",
    "\n",
    "| Legacy method | New method |\n",
    "|:--------------|:-----------|\n",
    "| `FermiHubbardModel.uniform_parameters` | `Lattice.uniform_parameters` |\n",
    "| `FermiHubbardModel.from_parameters` | `Lattice.from_adjacency_matrix` |\n",
    "| `IsingModel.uniform_parameters` | `Lattice.uniform_parameters` |\n",
    "| `IsingModel.from_parameters` | `Lattice.from_adjacency_matrix` |\n",
    "\n",
    "### Table of Contents\n",
    "Concrete examples are provided below. You can use the following links to jump to a specific section:\n",
    "\n",
    "- [FermiHubbardModel.uniform_parameters](#FermiHubbardModel.uniform_parameters)\n",
    "- [FermiHubbardModel.from_parameters](#FermiHubbardModel.from_parameters)\n",
    "- [IsingModel.uniform_parameters](#IsingModel.uniform_parameters)\n",
    "- [IsingModel.from_parameters](#IsingModel.from_parameters)\n",
    "\n",
    "### Further Resources\n",
    "Be sure to check out the following tutorials for how to use the new code:\n",
    "\n",
    "- [Lattice Models](../tutorials/10_lattice_models.ipynb)"
   ]
  },
  {
   "cell_type": "markdown",
   "id": "bf6920b6",
   "metadata": {},
   "source": [
    "## `FermiHubbardModel.uniform_parameters`"
   ]
  },
  {
   "cell_type": "markdown",
   "id": "0bf1663b",
   "metadata": {},
   "source": [
    "### Previously"
   ]
  },
  {
   "cell_type": "code",
   "execution_count": 1,
   "id": "e515413c",
   "metadata": {},
   "outputs": [
    {
     "name": "stdout",
     "output_type": "stream",
     "text": [
      "Fermionic Operator\n",
      "register length=4, number terms=10\n",
      "  (2+0j) * ( +_0 -_2 )\n",
      "+ (-2+0j) * ( -_0 +_2 )\n",
      "+ (4+0j) * ( +_0 -_0 )\n",
      "+ (4+0j) * ( +_2 -_2 )\n",
      "+ (2+0j) * ( +_1 -_3 )\n",
      "+ (-2+0j) * ( -_1 +_3 )\n",
      "+ (4+0j) * ( +_1 -_1 )\n",
      "+ (4+0j) * ( +_3 -_3 )\n",
      "+ (3+0j) * ...\n"
     ]
    },
    {
     "name": "stderr",
     "output_type": "stream",
     "text": [
      "<ipython-input-1-f1eec1bc84fd>:1: NatureDeprecationWarning: The qiskit_nature.problems.second_quantization.electronic package is deprecated as of version 0.5.0 and will be removed no sooner than 3 months after the release. Instead use the qiskit_nature.second_q.problems package.\n",
      "  from qiskit_nature.problems.second_quantization.lattice.lattices import LineLattice\n",
      "<ipython-input-1-f1eec1bc84fd>:1: NatureDeprecationWarning: The qiskit_nature.problems.second_quantization.vibrational package is deprecated as of version 0.5.0 and will be removed no sooner than 3 months after the release. Instead use the qiskit_nature.second_q.problems package.\n",
      "  from qiskit_nature.problems.second_quantization.lattice.lattices import LineLattice\n"
     ]
    }
   ],
   "source": [
    "from qiskit_nature.problems.second_quantization.lattice.lattices import LineLattice\n",
    "from qiskit_nature.problems.second_quantization.lattice.models import FermiHubbardModel\n",
    "\n",
    "line = LineLattice(2)\n",
    "fermi = FermiHubbardModel.uniform_parameters(line, 2.0, 4.0, 3.0)\n",
    "print(fermi.second_q_ops())  # Note: the trailing `s`"
   ]
  },
  {
   "cell_type": "markdown",
   "id": "6e19da0b",
   "metadata": {},
   "source": [
    "### New"
   ]
  },
  {
   "cell_type": "code",
   "execution_count": 2,
   "id": "5cdecf4b",
   "metadata": {
    "scrolled": true
   },
   "outputs": [
    {
     "name": "stdout",
     "output_type": "stream",
     "text": [
      "Fermionic Operator\n",
      "number spin orbitals=4, number terms=10\n",
      "  2.0 * ( +_0 -_2 )\n",
      "+ -2.0 * ( -_0 +_2 )\n",
      "+ 4.0 * ( +_0 -_0 )\n",
      "+ 4.0 * ( +_2 -_2 )\n",
      "+ 2.0 * ( +_1 -_3 )\n",
      "+ -2.0 * ( -_1 +_3 )\n",
      "+ 4.0 * ( +_1 -_1 )\n",
      "+ 4.0 * ( +_3 -_3 )\n",
      "+ 3.0 * ( +_0 -_0 +_1 -_1 )\n",
      "+ 3.0 * ( +_2 -_2 +_3 -_3 )\n"
     ]
    }
   ],
   "source": [
    "from qiskit_nature.second_q.hamiltonians.lattices import LineLattice\n",
    "from qiskit_nature.second_q.hamiltonians import FermiHubbardModel\n",
    "\n",
    "line = LineLattice(2)\n",
    "fermi = FermiHubbardModel(line.uniform_parameters(2.0, 4.0), 3.0)\n",
    "print(fermi.second_q_op())  # Note: NO trailing `s`"
   ]
  },
  {
   "cell_type": "markdown",
   "id": "1fef8a74",
   "metadata": {},
   "source": [
    "## `FermiHubbardModel.from_parameters`"
   ]
  },
  {
   "cell_type": "markdown",
   "id": "5ee8db73",
   "metadata": {},
   "source": [
    "### Previously"
   ]
  },
  {
   "cell_type": "code",
   "execution_count": 3,
   "id": "f5825e7d",
   "metadata": {},
   "outputs": [
    {
     "name": "stdout",
     "output_type": "stream",
     "text": [
      "Fermionic Operator\n",
      "register length=4, number terms=10\n",
      "  (4+0j) * ( +_0 -_0 )\n",
      "+ (2+0j) * ( +_0 -_2 )\n",
      "+ (-2+0j) * ( -_0 +_2 )\n",
      "+ (4+0j) * ( +_2 -_2 )\n",
      "+ (4+0j) * ( +_1 -_1 )\n",
      "+ (2+0j) * ( +_1 -_3 )\n",
      "+ (-2+0j) * ( -_1 +_3 )\n",
      "+ (4+0j) * ( +_3 -_3 )\n",
      "+ (3+0j) * ...\n"
     ]
    }
   ],
   "source": [
    "import numpy as np\n",
    "from qiskit_nature.problems.second_quantization.lattice.models import FermiHubbardModel\n",
    "\n",
    "interaction = np.array([[4.0, 2.0], [2.0, 4.0]])\n",
    "\n",
    "fermi = FermiHubbardModel.from_parameters(interaction, 3.0)\n",
    "print(fermi.second_q_ops())  # Note: the trailing `s`"
   ]
  },
  {
   "cell_type": "markdown",
   "id": "00669fc4",
   "metadata": {},
   "source": [
    "### New"
   ]
  },
  {
   "cell_type": "code",
   "execution_count": 4,
   "id": "1fa2a93b",
   "metadata": {},
   "outputs": [
    {
     "name": "stdout",
     "output_type": "stream",
     "text": [
      "Fermionic Operator\n",
      "number spin orbitals=4, number terms=10\n",
      "  4.0 * ( +_0 -_0 )\n",
      "+ 2.0 * ( +_0 -_2 )\n",
      "+ -2.0 * ( -_0 +_2 )\n",
      "+ 4.0 * ( +_2 -_2 )\n",
      "+ 4.0 * ( +_1 -_1 )\n",
      "+ 2.0 * ( +_1 -_3 )\n",
      "+ -2.0 * ( -_1 +_3 )\n",
      "+ 4.0 * ( +_3 -_3 )\n",
      "+ 3.0 * ( +_0 -_0 +_1 -_1 )\n",
      "+ 3.0 * ( +_2 -_2 +_3 -_3 )\n"
     ]
    }
   ],
   "source": [
    "import numpy as np\n",
    "from qiskit_nature.second_q.hamiltonians.lattices import Lattice\n",
    "from qiskit_nature.second_q.hamiltonians import FermiHubbardModel\n",
    "\n",
    "interaction = np.array([[4.0, 2.0], [2.0, 4.0]])\n",
    "\n",
    "lattice = Lattice.from_adjacency_matrix(interaction)\n",
    "fermi = FermiHubbardModel(lattice, 3.0)\n",
    "print(fermi.second_q_op())  # Note: NO trailing `s`"
   ]
  },
  {
   "cell_type": "markdown",
   "id": "c967d47b",
   "metadata": {},
   "source": [
    "## `IsingModel.uniform_parameters`"
   ]
  },
  {
   "cell_type": "markdown",
   "id": "ab119042",
   "metadata": {},
   "source": [
    "### Previously"
   ]
  },
  {
   "cell_type": "code",
   "execution_count": 5,
   "id": "13c63079",
   "metadata": {},
   "outputs": [
    {
     "name": "stdout",
     "output_type": "stream",
     "text": [
      "  Z_0 Z_1 * (2+0j)\n",
      "+ X_0 * (4+0j)\n",
      "+ X_1 * (4+0j)\n"
     ]
    }
   ],
   "source": [
    "from qiskit_nature.problems.second_quantization.lattice.lattices import LineLattice\n",
    "from qiskit_nature.problems.second_quantization.lattice.models import IsingModel\n",
    "\n",
    "line = LineLattice(2)\n",
    "ising = IsingModel.uniform_parameters(line, 2.0, 4.0)\n",
    "print(ising.second_q_ops())  # Note: the trailing `s`"
   ]
  },
  {
   "cell_type": "markdown",
   "id": "fbd5cbea",
   "metadata": {},
   "source": [
    "### New"
   ]
  },
  {
   "cell_type": "code",
   "execution_count": 6,
   "id": "7ec705eb",
   "metadata": {
    "scrolled": true
   },
   "outputs": [
    {
     "name": "stdout",
     "output_type": "stream",
     "text": [
      "Spin Operator\n",
      "spin=1/2, number spins=2, number terms=3\n",
      "  2.0 * ( Z_0 Z_1 )\n",
      "+ 4.0 * ( X_0 )\n",
      "+ 4.0 * ( X_1 )\n"
     ]
    }
   ],
   "source": [
    "from qiskit_nature.second_q.hamiltonians.lattices import LineLattice\n",
    "from qiskit_nature.second_q.hamiltonians import IsingModel\n",
    "\n",
    "line = LineLattice(2)\n",
    "ising = IsingModel(line.uniform_parameters(2.0, 4.0))\n",
    "print(ising.second_q_op())  # Note: NO trailing `s`"
   ]
  },
  {
   "cell_type": "markdown",
   "id": "21a435cc",
   "metadata": {},
   "source": [
    "## `IsingModel.from_parameters`"
   ]
  },
  {
   "cell_type": "markdown",
   "id": "625be0c3",
   "metadata": {},
   "source": [
    "### Previously"
   ]
  },
  {
   "cell_type": "code",
   "execution_count": 7,
   "id": "0fc4b818",
   "metadata": {
    "scrolled": true
   },
   "outputs": [
    {
     "name": "stdout",
     "output_type": "stream",
     "text": [
      "  X_0 * (4+0j)\n",
      "+ Z_0 Z_1 * (2+0j)\n",
      "+ X_1 * (4+0j)\n"
     ]
    }
   ],
   "source": [
    "import numpy as np\n",
    "from qiskit_nature.problems.second_quantization.lattice.models import IsingModel\n",
    "\n",
    "interaction = np.array([[4.0, 2.0], [2.0, 4.0]])\n",
    "\n",
    "ising = IsingModel.from_parameters(interaction)\n",
    "print(ising.second_q_ops())  # Note: the trailing `s`"
   ]
  },
  {
   "cell_type": "markdown",
   "id": "f73ab797",
   "metadata": {},
   "source": [
    "### New"
   ]
  },
  {
   "cell_type": "code",
   "execution_count": 8,
   "id": "0fb9228f",
   "metadata": {},
   "outputs": [
    {
     "name": "stdout",
     "output_type": "stream",
     "text": [
      "Spin Operator\n",
      "spin=1/2, number spins=2, number terms=3\n",
      "  4.0 * ( X_0 )\n",
      "+ 2.0 * ( Z_0 Z_1 )\n",
      "+ 4.0 * ( X_1 )\n"
     ]
    }
   ],
   "source": [
    "import numpy as np\n",
    "from qiskit_nature.second_q.hamiltonians.lattices import Lattice\n",
    "from qiskit_nature.second_q.hamiltonians import IsingModel\n",
    "\n",
    "interaction = np.array([[4.0, 2.0], [2.0, 4.0]])\n",
    "\n",
    "lattice = Lattice.from_adjacency_matrix(interaction)\n",
    "ising = IsingModel(lattice)\n",
    "print(ising.second_q_op())  # Note: NO trailing `s`"
   ]
  },
  {
   "cell_type": "markdown",
   "id": "e6eb59ef",
   "metadata": {},
   "source": [
    "<hr/>"
   ]
  },
  {
   "cell_type": "code",
   "execution_count": 9,
   "id": "242509f6",
   "metadata": {},
   "outputs": [
    {
     "data": {
      "text/html": [
       "<h3>Version Information</h3><table><tr><th>Qiskit Software</th><th>Version</th></tr><tr><td><code>qiskit-terra</code></td><td>0.23.0.dev0+3ce1737</td></tr><tr><td><code>qiskit-aer</code></td><td>0.11.1</td></tr><tr><td><code>qiskit-nature</code></td><td>0.5.0</td></tr><tr><th>System information</th></tr><tr><td>Python version</td><td>3.9.15</td></tr><tr><td>Python compiler</td><td>GCC 12.2.1 20220819 (Red Hat 12.2.1-2)</td></tr><tr><td>Python build</td><td>main, Oct 12 2022 00:00:00</td></tr><tr><td>OS</td><td>Linux</td></tr><tr><td>CPUs</td><td>8</td></tr><tr><td>Memory (Gb)</td><td>62.501182556152344</td></tr><tr><td colspan='2'>Sat Nov 05 16:32:55 2022 CET</td></tr></table>"
      ],
      "text/plain": [
       "<IPython.core.display.HTML object>"
      ]
     },
     "metadata": {},
     "output_type": "display_data"
    },
    {
     "data": {
      "text/html": [
       "<div style='width: 100%; background-color:#d5d9e0;padding-left: 10px; padding-bottom: 10px; padding-right: 10px; padding-top: 5px'><h3>This code is a part of Qiskit</h3><p>&copy; Copyright IBM 2017, 2022.</p><p>This code is licensed under the Apache License, Version 2.0. You may<br>obtain a copy of this license in the LICENSE.txt file in the root directory<br> of this source tree or at http://www.apache.org/licenses/LICENSE-2.0.<p>Any modifications or derivative works of this code must retain this<br>copyright notice, and modified files need to carry a notice indicating<br>that they have been altered from the originals.</p></div>"
      ],
      "text/plain": [
       "<IPython.core.display.HTML object>"
      ]
     },
     "metadata": {},
     "output_type": "display_data"
    }
   ],
   "source": [
    "import qiskit.tools.jupyter\n",
    "\n",
    "%qiskit_version_table\n",
    "%qiskit_copyright"
   ]
  }
 ],
 "metadata": {
  "kernelspec": {
   "display_name": "Python 3",
   "language": "python",
   "name": "python3"
  },
  "language_info": {
   "codemirror_mode": {
    "name": "ipython",
    "version": 3
   },
   "file_extension": ".py",
   "mimetype": "text/x-python",
   "name": "python",
   "nbconvert_exporter": "python",
   "pygments_lexer": "ipython3",
   "version": "3.9.15"
  }
 },
 "nbformat": 4,
 "nbformat_minor": 5
}
