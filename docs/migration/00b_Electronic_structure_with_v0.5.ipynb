{
 "cells": [
  {
   "cell_type": "markdown",
   "id": "5716043f",
   "metadata": {},
   "source": [
    "# Electronic Structure Problems with v0.5\n",
    "\n",
    "## Table of Contents\n",
    "The electronic structure stack has received the most updates between Qiskit Nature v0.4 and v0.5. Thus, this file is split into multiple sections that go into various amounts of details. Here is a table of contents to help you navigate:\n",
    "\n",
    "- [TL;DR](#TL;DR)\n",
    "- [qiskit_nature.drivers](#qiskit_nature.drivers)\n",
    "- [qiskit_nature.transformers](#qiskit_nature.transformers)\n",
    "- [The ElectronicStructureProblem (qiskit_nature.problems)](#The-ElectronicStructureProblem-(qiskit_nature.problems))\n",
    "- [qiskit_nature.properties](#qiskit_nature.properties)\n",
    "\n",
    "## Further resources\n",
    "Be sure to check out the following tutorials for how to use the new code:\n",
    "\n",
    "- [Electronic Structure Problems](../tutorials/01_electronic_structure.ipynb)\n",
    "- [Problem Transformers](../tutorials/05_problem_transformers.ipynb)\n",
    "- [The QCSchema](../tutorials/08_qcschema.ipynb)\n",
    "- [Properties](../tutorials/09_properties.ipynb)"
   ]
  },
  {
   "cell_type": "markdown",
   "id": "21b0aeb0",
   "metadata": {},
   "source": [
    "## TL;DR\n",
    "\n",
    "This section gives you one cell with a v0.4 code followed by one cell with v0.5 code doing the same things.\n",
    "Hopefully this already gives you all the information which you were looking for."
   ]
  },
  {
   "cell_type": "markdown",
   "id": "467062e5",
   "metadata": {},
   "source": [
    "### Previously"
   ]
  },
  {
   "cell_type": "code",
   "execution_count": 1,
   "id": "5440409a",
   "metadata": {},
   "outputs": [
    {
     "name": "stderr",
     "output_type": "stream",
     "text": [
      "<ipython-input-1-aea959c80ea0>:7: NatureDeprecationWarning: The qiskit_nature.problems.second_quantization.electronic package is deprecated as of version 0.5.0 and will be removed no sooner than 3 months after the release. Instead use the qiskit_nature.second_q.problems package.\n",
      "  from qiskit_nature.problems.second_quantization import ElectronicStructureProblem\n",
      "<ipython-input-1-aea959c80ea0>:7: NatureDeprecationWarning: The qiskit_nature.problems.second_quantization.vibrational package is deprecated as of version 0.5.0 and will be removed no sooner than 3 months after the release. Instead use the qiskit_nature.second_q.problems package.\n",
      "  from qiskit_nature.problems.second_quantization import ElectronicStructureProblem\n"
     ]
    },
    {
     "name": "stdout",
     "output_type": "stream",
     "text": [
      "Fermionic Operator\n",
      "register length=4, number terms=36\n",
      "  -1.2563390730032498 * ( +_0 -_0 )\n",
      "+ -0.47189600728114245 * ( +_1 -_1 )\n",
      "+ -1.2563390730032498 * ( +_2 -_2 )\n",
      "+ -0.47189600728114245 * ( +_3 -_3 )\n",
      "+ -0.33785507740175813 * ( +_0 +_0 -_0 -_0 )\n",
      "+ -0. ...\n"
     ]
    }
   ],
   "source": [
    "from qiskit_nature.drivers import Molecule\n",
    "from qiskit_nature.drivers.second_quantization import (\n",
    "    ElectronicStructureDriverType,\n",
    "    ElectronicStructureMoleculeDriver,\n",
    "    PySCFDriver,\n",
    ")\n",
    "from qiskit_nature.problems.second_quantization import ElectronicStructureProblem\n",
    "from qiskit_nature.transformers.second_quantization.electronic import FreezeCoreTransformer\n",
    "from qiskit_nature.settings import settings\n",
    "\n",
    "settings.dict_aux_operators = True\n",
    "\n",
    "molecule = Molecule(\n",
    "    geometry=[[\"H\", [0.0, 0.0, 0.0]], [\"H\", [0.0, 0.0, 0.735]]], charge=0, multiplicity=1\n",
    ")\n",
    "\n",
    "driver = ElectronicStructureMoleculeDriver(\n",
    "    molecule, basis=\"sto3g\", driver_type=ElectronicStructureDriverType.PYSCF\n",
    ")\n",
    "# or equivalently:\n",
    "driver = PySCFDriver.from_molecule(molecule, basis=\"sto3g\")\n",
    "\n",
    "transformer = FreezeCoreTransformer()\n",
    "\n",
    "problem = ElectronicStructureProblem(driver, transformers=[transformer])\n",
    "\n",
    "# Note: at this point, `driver.run()` has NOT been called yet. We can trigger this indirectly like so:\n",
    "second_q_ops = problem.second_q_ops()\n",
    "\n",
    "hamiltonian = second_q_ops[\"ElectronicEnergy\"]\n",
    "print(hamiltonian)"
   ]
  },
  {
   "cell_type": "markdown",
   "id": "41c11c1d",
   "metadata": {},
   "source": [
    "### New"
   ]
  },
  {
   "cell_type": "code",
   "execution_count": 2,
   "id": "19449c21",
   "metadata": {},
   "outputs": [
    {
     "name": "stdout",
     "output_type": "stream",
     "text": [
      "Fermionic Operator\n",
      "number spin orbitals=4, number terms=36\n",
      "  0.33785507740175813 * ( +_0 +_0 -_0 -_0 )\n",
      "+ 0.09046559989211565 * ( +_0 +_0 -_1 -_1 )\n",
      "+ 0.09046559989211556 * ( +_0 +_1 -_0 -_1 )\n",
      "+ 0.33229086512764827 * ( +_0 +_1 -_1 -_0 )\n",
      "+ 0.33785507740175813 * ( +_0 +_2 -_2 -_0 )\n",
      "+ 0.09046559989211564 * ( +_0 +_2 -_3 -_1 )\n",
      "+ 0.09046559989211556 * ( +_0 +_3 -_2 -_1 )\n",
      "+ 0.33229086512764816 * ( +_0 +_3 -_3 -_0 )\n",
      "...\n"
     ]
    }
   ],
   "source": [
    "from qiskit_nature.second_q.drivers import PySCFDriver\n",
    "from qiskit_nature.second_q.formats.molecule_info import MoleculeInfo\n",
    "from qiskit_nature.second_q.transformers import FreezeCoreTransformer\n",
    "\n",
    "molecule = MoleculeInfo([\"H\", \"H\"], [(0.0, 0.0, 0.0), (0.0, 0.0, 0.735)], charge=0, multiplicity=1)\n",
    "\n",
    "driver = PySCFDriver.from_molecule(molecule, basis=\"sto3g\")\n",
    "\n",
    "# this is now done explicitly\n",
    "problem = driver.run()\n",
    "\n",
    "transformer = FreezeCoreTransformer()\n",
    "\n",
    "# and you also apply transformers explicitly\n",
    "problem = transformer.transform(problem)\n",
    "\n",
    "hamiltonian = problem.hamiltonian.second_q_op()\n",
    "print(\"\\n\".join(str(hamiltonian).splitlines()[:10] + [\"...\"]))"
   ]
  },
  {
   "cell_type": "markdown",
   "id": "21756d06",
   "metadata": {},
   "source": [
    "## `qiskit_nature.drivers`\n",
    "\n",
    "This section deals exclusively with the migration of the drivers."
   ]
  },
  {
   "cell_type": "markdown",
   "id": "fc9d966f",
   "metadata": {},
   "source": [
    "The contents of the `drivers` submodule has been split into multiple places. The table below summarizes where each of the components of `qiskit_nature.drivers.second_quantization` has ended up.\n",
    "\n",
    "| Legacy component | New location |\n",
    "|:-----------------|:-------------|\n",
    "| BaseDriver | `qiskit_nature.second_q.drivers.BaseDriver` |\n",
    "| BasisType | **removed** |\n",
    "| ElectronicStructureDriver | `qiskit_nature.second_q.drivers.ElectronicStructureDriver` |\n",
    "| ElectronicStructureDriverType | **removed** |\n",
    "| ElectronicStructureMoleculeDriver | **removed** |\n",
    "| FCIDumpDriver | `qiskit_nature.second_q.formats.fcidump.FCIDump` |\n",
    "| GaussianDriver | `qiskit_nature.second_q.drivers.GaussianDriver` |\n",
    "| HDF5Driver | **removed** |\n",
    "| InitialGuess | `qiskit_nature.second_q.drivers.InitialGuess` |\n",
    "| MethodType | `qiskit_nature.second_q.drivers.MethodType` |\n",
    "| PSI4Driver | `qiskit_nature.second_q.drivers.Psi4Driver` |\n",
    "| PyQuanteDriver | **removed** |\n",
    "| PySCFDriver | `qiskit_nature.second_q.drivers.PySCFDriver` |\n",
    "\n",
    "Furthermore, the two components from `qiskit_nature.drivers` were moved like so:\n",
    "\n",
    "| Legacy component | New location |\n",
    "|:-----------------|:-------------|\n",
    "| Molecule | `qiskit_nature.second_q.formats.molecule_info.MoleculeInfo` |\n",
    "| UnitsType | `qiskit_nature.units.DistanceUnit` |"
   ]
  },
  {
   "cell_type": "markdown",
   "id": "549ee735",
   "metadata": {},
   "source": [
    "A few notes are worth adding:\n",
    "\n",
    "- The driver for [pyquante2](https://github.com/rpmuller/pyquante2) was removed, because its source code has not been updated for more than 3 years. Originally, it was supported to enable usage of Qiskit Nature on Windows, however, since then [psi4](https://github.com/psi4/psi4) has also added Windows support and the integration of the [Windows Subsystem for Linux](https://en.wikipedia.org/wiki/Windows_Subsystem_for_Linux) has opened up further development possibilities.\n",
    "- The `HDF5Driver` was removed in favor of supporting the standardized [QCSchema](https://github.com/MolSSI/QCSchema) (see `qiskit_nature.second_q.formats.qcschema`).\n",
    "- The `ElectronicStructureMoleculeDriver` was removed because we are steering towards a future with tighter, plugin-like integration with classical codes, making the concept of drivers where Qiskit starts a classical simulation outdated. You can still use the `.from_molecule(...)` methods of the remaining drivers in combination with the `MoleculeInfo` class.\n",
    "- The `MoleculeInfo` has become a pure data container and no longer supports _degrees of freedom_.\n",
    "- The `MoleculeInfo` now separately defines the `atoms` and `coords` (coordinates) in favor of the previously combined `geometry` approach."
   ]
  },
  {
   "cell_type": "markdown",
   "id": "64cfb910",
   "metadata": {},
   "source": [
    "### Using drivers that were migrated to `qiskit_nature.second_q.drivers`"
   ]
  },
  {
   "cell_type": "markdown",
   "id": "096a2eee",
   "metadata": {},
   "source": [
    "#### Previously"
   ]
  },
  {
   "cell_type": "code",
   "execution_count": 3,
   "id": "c214a50b",
   "metadata": {},
   "outputs": [
    {
     "name": "stdout",
     "output_type": "stream",
     "text": [
      "<class 'qiskit_nature.properties.second_quantization.electronic.electronic_structure_driver_result.ElectronicStructureDriverResult'>\n"
     ]
    }
   ],
   "source": [
    "from qiskit_nature.drivers import Molecule\n",
    "from qiskit_nature.drivers.second_quantization import PySCFDriver\n",
    "\n",
    "molecule = Molecule(\n",
    "    geometry=[[\"H\", [0.0, 0.0, 0.0]], [\"H\", [0.0, 0.0, 0.735]]], charge=0, multiplicity=1\n",
    ")\n",
    "\n",
    "driver = PySCFDriver.from_molecule(molecule)\n",
    "\n",
    "result = driver.run()\n",
    "print(type(result))"
   ]
  },
  {
   "cell_type": "markdown",
   "id": "261ba7da",
   "metadata": {},
   "source": [
    "#### New"
   ]
  },
  {
   "cell_type": "code",
   "execution_count": 4,
   "id": "5793188e",
   "metadata": {},
   "outputs": [
    {
     "name": "stdout",
     "output_type": "stream",
     "text": [
      "<class 'qiskit_nature.second_q.problems.electronic_structure_problem.ElectronicStructureProblem'>\n"
     ]
    }
   ],
   "source": [
    "from qiskit_nature.second_q.drivers import PySCFDriver\n",
    "from qiskit_nature.second_q.formats.molecule_info import MoleculeInfo\n",
    "\n",
    "molecule = MoleculeInfo([\"H\", \"H\"], [(0.0, 0.0, 0.0), (0.0, 0.0, 0.735)], charge=0, multiplicity=1)\n",
    "\n",
    "driver = PySCFDriver.from_molecule(molecule, basis=\"sto3g\")\n",
    "\n",
    "result = driver.run()\n",
    "print(type(result))"
   ]
  },
  {
   "cell_type": "markdown",
   "id": "78fc263c",
   "metadata": {},
   "source": [
    "Notice how the return types differ significantly! For more information on this be sure to read the section on `qiskit_nature.problems`."
   ]
  },
  {
   "cell_type": "markdown",
   "id": "d48a6083",
   "metadata": {},
   "source": [
    "### Using drivers that were migrated to `qiskit_nature.second_q.formats`"
   ]
  },
  {
   "cell_type": "markdown",
   "id": "cced89e0",
   "metadata": {},
   "source": [
    "#### Previously"
   ]
  },
  {
   "cell_type": "code",
   "execution_count": 5,
   "id": "b213f75f",
   "metadata": {},
   "outputs": [
    {
     "name": "stdout",
     "output_type": "stream",
     "text": [
      "<class 'qiskit_nature.properties.second_quantization.electronic.electronic_structure_driver_result.ElectronicStructureDriverResult'>\n"
     ]
    }
   ],
   "source": [
    "from qiskit_nature.drivers.second_quantization import FCIDumpDriver\n",
    "\n",
    "path_to_fcidump = \"aux_files/h2.fcidump\"\n",
    "driver = FCIDumpDriver(path_to_fcidump)\n",
    "\n",
    "result = driver.run()\n",
    "print(type(result))"
   ]
  },
  {
   "cell_type": "markdown",
   "id": "e456b929",
   "metadata": {},
   "source": [
    "#### New"
   ]
  },
  {
   "cell_type": "code",
   "execution_count": 6,
   "id": "09b5a962",
   "metadata": {},
   "outputs": [
    {
     "name": "stdout",
     "output_type": "stream",
     "text": [
      "<class 'qiskit_nature.second_q.formats.fcidump.fcidump.FCIDump'>\n",
      "<class 'qiskit_nature.second_q.problems.electronic_structure_problem.ElectronicStructureProblem'>\n"
     ]
    }
   ],
   "source": [
    "from qiskit_nature.second_q.formats.fcidump import FCIDump\n",
    "\n",
    "path_to_fcidump = \"aux_files/h2.fcidump\"\n",
    "fcidump = FCIDump.from_file(path_to_fcidump)\n",
    "print(type(fcidump))\n",
    "\n",
    "from qiskit_nature.second_q.formats.fcidump_translator import fcidump_to_problem\n",
    "\n",
    "problem = fcidump_to_problem(fcidump)\n",
    "print(type(problem))"
   ]
  },
  {
   "cell_type": "markdown",
   "id": "a6e936c6",
   "metadata": {},
   "source": [
    "The reason for distinguishing between `drivers` and `formats` is motivated by the fact that the concept of `drivers` (in which Qiskit Nature starts a classical simulation via another program) will become obsolete when moving towards tighter integration with classical codes via plugins.\n",
    "\n",
    "Supporting various `formats` and converting them to native objects or representations of Qiskit Nature, however, is critical to enable fast adoption and integration with other classical codes. The conceptual difference is also reflected since loading a problem from a format does not run another code but merely loads the data from disk."
   ]
  },
  {
   "cell_type": "markdown",
   "id": "c78572a8",
   "metadata": {},
   "source": [
    "## `qiskit_nature.transformers`\n",
    "\n",
    "This section deals exclusively with the migration of the transformers."
   ]
  },
  {
   "cell_type": "markdown",
   "id": "31319286",
   "metadata": {},
   "source": [
    "The table below summarizes where each of the components of `qiskit_nature.transformers` has ended up.\n",
    "\n",
    "| Legacy component | New location |\n",
    "|:-----------------|:-------------|\n",
    "| BaseTransformer | `qiskit_nature.second_q.transformers.BaseTransformer` |\n",
    "| ActiveSpaceTransformer | `qiskit_nature.second_q.transformers.ActiveSpaceTransformer` |\n",
    "| FreezeCoreTransformer | `qiskit_nature.second_q.transformers.FreezeCoreTransformer` |"
   ]
  },
  {
   "cell_type": "markdown",
   "id": "83616bad",
   "metadata": {},
   "source": [
    "Transformers still retain their functionality of transforming the result of a driver into a transformed version of it. However, since the output type of the `drivers` has changed (see above), so has the input and output type of our `transformers`.\n",
    "\n",
    "Realistically, all you need to do here, is update your import statements, as shown below."
   ]
  },
  {
   "cell_type": "markdown",
   "id": "fa1ce3f6",
   "metadata": {},
   "source": [
    "### Previously"
   ]
  },
  {
   "cell_type": "code",
   "execution_count": 7,
   "id": "f1ebc2d9",
   "metadata": {},
   "outputs": [
    {
     "name": "stdout",
     "output_type": "stream",
     "text": [
      "<class 'qiskit_nature.properties.second_quantization.electronic.electronic_structure_driver_result.ElectronicStructureDriverResult'>\n"
     ]
    }
   ],
   "source": [
    "from qiskit_nature.drivers.second_quantization import PySCFDriver\n",
    "from qiskit_nature.transformers.second_quantization.electronic import FreezeCoreTransformer\n",
    "\n",
    "transformer = FreezeCoreTransformer()\n",
    "driver = PySCFDriver()\n",
    "\n",
    "transformed_result = transformer.transform(driver.run())\n",
    "print(type(transformed_result))"
   ]
  },
  {
   "cell_type": "markdown",
   "id": "2d3cda49",
   "metadata": {},
   "source": [
    "### New"
   ]
  },
  {
   "cell_type": "code",
   "execution_count": 8,
   "id": "36f45303",
   "metadata": {},
   "outputs": [
    {
     "name": "stdout",
     "output_type": "stream",
     "text": [
      "<class 'qiskit_nature.second_q.problems.electronic_structure_problem.ElectronicStructureProblem'>\n"
     ]
    }
   ],
   "source": [
    "from qiskit_nature.second_q.drivers import PySCFDriver\n",
    "from qiskit_nature.second_q.transformers import FreezeCoreTransformer\n",
    "\n",
    "transformer = FreezeCoreTransformer()\n",
    "driver = PySCFDriver()\n",
    "\n",
    "transformed_result = transformer.transform(driver.run())\n",
    "print(type(transformed_result))"
   ]
  },
  {
   "cell_type": "markdown",
   "id": "66d5175a",
   "metadata": {},
   "source": [
    "## The `ElectronicStructureProblem` (`qiskit_nature.problems`)\n",
    "\n",
    "This section details all the changes around the `ElectronicStructureProblem`."
   ]
  },
  {
   "cell_type": "markdown",
   "id": "8757bf68",
   "metadata": {},
   "source": [
    "Arguably, the `ElectronicStructureProblem` is the class which has received the most significant changes, because it was the main motivator for this refactoring. To get started, the table below summarizes the electronic components of the **new** `qiskit_nature.second_q.problems` module, and shows from where these parts originated in the old code:\n",
    "\n",
    "| New component | Legacy location |\n",
    "|:--------------|:----------------|\n",
    "| `BaseProblem` | `qiskit_nature.problems.second_quantization.BaseProblem` |\n",
    "| `EigenstateResult` | `qiskit_nature.results.EigenstateResult` |\n",
    "| `PropertiesContainer` | similar to `qiskit_nature.properties.GroupedProperty` |\n",
    "| `ElectronicBasis` | `qiskit_nature.properties.second_quantization.electronic.bases.ElectronicBasis` |\n",
    "| `ElectronicStructureProblem` | `qiskit_nature.problems.second_quantization.electronic.ElectronicStructureProblem` |\n",
    "| `ElectronicPropertiesContainer` | _did not exist yet_ |\n",
    "| `ElectronicStructureResult` | `qiskit_nature.results.ElectronicStructureResult` |"
   ]
  },
  {
   "cell_type": "markdown",
   "id": "bd66694c",
   "metadata": {},
   "source": [
    "### Previously"
   ]
  },
  {
   "cell_type": "code",
   "execution_count": 9,
   "id": "24b9c43d",
   "metadata": {},
   "outputs": [],
   "source": [
    "from qiskit_nature.drivers.second_quantization import PySCFDriver\n",
    "from qiskit_nature.problems.second_quantization.electronic import ElectronicStructureProblem\n",
    "from qiskit_nature.transformers.second_quantization.electronic import FreezeCoreTransformer\n",
    "\n",
    "driver = PySCFDriver()\n",
    "transformer = FreezeCoreTransformer()\n",
    "problem = ElectronicStructureProblem(driver, transformers=[transformer])\n",
    "\n",
    "# we trigger driver.run() implicitly like so:\n",
    "second_q_ops = problem.second_q_ops()\n",
    "\n",
    "hamiltonian_op = second_q_ops.pop(\"ElectronicEnergy\")\n",
    "aux_ops = second_q_ops"
   ]
  },
  {
   "cell_type": "markdown",
   "id": "73fe4aa5",
   "metadata": {},
   "source": [
    "### New"
   ]
  },
  {
   "cell_type": "code",
   "execution_count": 10,
   "id": "d6a36494",
   "metadata": {},
   "outputs": [],
   "source": [
    "from qiskit_nature.second_q.drivers import PySCFDriver\n",
    "from qiskit_nature.second_q.transformers import FreezeCoreTransformer\n",
    "\n",
    "driver = PySCFDriver()\n",
    "\n",
    "problem = driver.run()\n",
    "\n",
    "transformer = FreezeCoreTransformer()\n",
    "\n",
    "problem = transformer.transform(problem)\n",
    "\n",
    "hamiltonian_op, aux_ops = problem.second_q_ops()"
   ]
  },
  {
   "cell_type": "markdown",
   "id": "57d08f45",
   "metadata": {},
   "source": [
    "For more information on the new and improved `ElectronicStructureProblem`, please refer to the [electronic structure tutorial](../tutorials/01_electronic_structure.ipynb)."
   ]
  },
  {
   "cell_type": "markdown",
   "id": "5e041f05",
   "metadata": {},
   "source": [
    "## `qiskit_nature.properties`\n",
    "\n",
    "The properties module has been refactored and split into multiple locations. In this section, we will only be focusing on its _electronic_ components."
   ]
  },
  {
   "cell_type": "markdown",
   "id": "b3a383b2",
   "metadata": {},
   "source": [
    "The following table lists where each component of `qiskit_nature.properties` has been moved to.\n",
    "\n",
    "| Legacy component | New location |\n",
    "|:-----------------|:--------------|\n",
    "| `Property` | `qiskit_nature.second_q.properties.SparseLabelOpsFactory` |\n",
    "| `GroupedProperty` | succeeded by `qiskit_nature.second_q.problems.PropertiesContainer` |\n",
    "| `second_quantization.DriverMetadata` | **removed** |\n",
    "| `second_quantization.electronic.ElectronicEnergy` | `qiskit_nature.second_q.hamiltonians.ElectronicEnergy` |\n",
    "| `second_quantization.electronic.ElectronicDipoleMoment` | `qiskit_nature.second_q.properties.ElectronicDipoleMoment` |\n",
    "| `second_quantization.electronic.AngularMomentum` | `qiskit_nature.second_q.properties.AngularMomentum` |\n",
    "| `second_quantization.electronic.Magnetization` | `qiskit_nature.second_q.properties.Magnetization` |\n",
    "| `second_quantization.electronic.ParticleNumber` | `qiskit_nature.second_q.properties.ParticleNumber` |\n",
    "| `second_quantization.electronic.bases.ElectronicBasis` | `qiskit_nature.second_q.problems.ElectronicBasis` |\n",
    "| `second_quantization.electronic.bases.ElectronicBasisTransform` | `qiskit_nature.second_q.transformers.BasisTransformer` |\n",
    "| `second_quantization.electronic.integrals.IntegralProperty` | **removed** |\n",
    "| `second_quantization.electronic.integrals.ElectronicIntegrals` | succeeded by `qiskit_nature.second_q.operators.ElectronicIntegrals` |\n",
    "| `second_quantization.electronic.integrals.OneBodyElectronicIntegrals` | **removed** |\n",
    "| `second_quantization.electronic.integrals.TwoBodyElectronicIntegrals` | **removed** |"
   ]
  },
  {
   "cell_type": "markdown",
   "id": "61749b2c",
   "metadata": {},
   "source": [
    "We suggest that you look at the [electronic structure tutorial](../tutorials/01_electronic_structure.ipynb) for more in-depth explanations, but we will leave a few comments here:\n",
    "\n",
    "- the `ElectronicBasis` is now only tracked on the `ElectronicStructureProblem` and not for each operator individually\n",
    "- the `BasisTransformer` handles basis transformations centrally from the `second_q.transformers` module\n",
    "- the new `second_q.properties` components do **not** store any data which is not needed for operator construction\n",
    "- the `ElectronicEnergy` (which has always been _special_) is in the new `second_q.hamiltonians` module to highlight this special role"
   ]
  },
  {
   "cell_type": "markdown",
   "id": "8dc6b26f",
   "metadata": {},
   "source": [
    "If you were previously building custom `Property` instances using for example your own one- and two-body integrals, we suggest that you check out the documentation of the new `qiskit_nature.second_q.operators.ElectronicIntegrals`. It shows examples of how to do this in Qiskit Nature v0.5."
   ]
  },
  {
   "cell_type": "markdown",
   "id": "2d95bdd1",
   "metadata": {},
   "source": [
    "<hr/>"
   ]
  },
  {
   "cell_type": "code",
   "execution_count": 11,
   "id": "36b1ad78",
   "metadata": {},
   "outputs": [
    {
     "data": {
      "text/html": [
       "<h3>Version Information</h3><table><tr><th>Qiskit Software</th><th>Version</th></tr><tr><td><code>qiskit-terra</code></td><td>0.23.0.dev0+3ce1737</td></tr><tr><td><code>qiskit-aer</code></td><td>0.11.1</td></tr><tr><td><code>qiskit-nature</code></td><td>0.5.0</td></tr><tr><th>System information</th></tr><tr><td>Python version</td><td>3.9.15</td></tr><tr><td>Python compiler</td><td>GCC 12.2.1 20220819 (Red Hat 12.2.1-2)</td></tr><tr><td>Python build</td><td>main, Oct 12 2022 00:00:00</td></tr><tr><td>OS</td><td>Linux</td></tr><tr><td>CPUs</td><td>8</td></tr><tr><td>Memory (Gb)</td><td>62.501182556152344</td></tr><tr><td colspan='2'>Sat Nov 05 16:27:24 2022 CET</td></tr></table>"
      ],
      "text/plain": [
       "<IPython.core.display.HTML object>"
      ]
     },
     "metadata": {},
     "output_type": "display_data"
    },
    {
     "data": {
      "text/html": [
       "<div style='width: 100%; background-color:#d5d9e0;padding-left: 10px; padding-bottom: 10px; padding-right: 10px; padding-top: 5px'><h3>This code is a part of Qiskit</h3><p>&copy; Copyright IBM 2017, 2022.</p><p>This code is licensed under the Apache License, Version 2.0. You may<br>obtain a copy of this license in the LICENSE.txt file in the root directory<br> of this source tree or at http://www.apache.org/licenses/LICENSE-2.0.<p>Any modifications or derivative works of this code must retain this<br>copyright notice, and modified files need to carry a notice indicating<br>that they have been altered from the originals.</p></div>"
      ],
      "text/plain": [
       "<IPython.core.display.HTML object>"
      ]
     },
     "metadata": {},
     "output_type": "display_data"
    }
   ],
   "source": [
    "import qiskit.tools.jupyter\n",
    "\n",
    "%qiskit_version_table\n",
    "%qiskit_copyright"
   ]
  }
 ],
 "metadata": {
  "kernelspec": {
   "display_name": "Python 3",
   "language": "python",
   "name": "python3"
  },
  "language_info": {
   "codemirror_mode": {
    "name": "ipython",
    "version": 3
   },
   "file_extension": ".py",
   "mimetype": "text/x-python",
   "name": "python",
   "nbconvert_exporter": "python",
   "pygments_lexer": "ipython3",
   "version": "3.9.15"
  }
 },
 "nbformat": 4,
 "nbformat_minor": 5
}
